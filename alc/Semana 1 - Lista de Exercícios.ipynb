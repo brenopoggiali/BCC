{
 "cells": [
  {
   "cell_type": "code",
   "execution_count": 1,
   "metadata": {},
   "outputs": [],
   "source": [
    "import numpy as np\n",
    "from IPython.display import Image"
   ]
  },
  {
   "cell_type": "markdown",
   "metadata": {},
   "source": [
    "# Exercício 1\n",
    " Considere o exemplo visto em sala que usava uma Cadeia de Markov para ilustrar a transição de estados\n",
    "para um indivíduo que possui o vírus do HIV. Se a população está distribu´ıda hoje conforme o vetor π =\n",
    "(0.85, 0.10, 0.05, 0.00), qual ser´a a distribuição após 10 anos?"
   ]
  },
  {
   "cell_type": "code",
   "execution_count": 2,
   "metadata": {},
   "outputs": [
    {
     "name": "stdout",
     "output_type": "stream",
     "text": [
      "Answer = [0.29637667 0.3167509  0.1342175  0.25265492]\n"
     ]
    }
   ],
   "source": [
    "distribution = np.array([\n",
    "                      [0.90, 0.07, 0.02, 0.01], \n",
    "                      [0.00, 0.93, 0.05, 0.02],\n",
    "                      [0.00, 0.00, 0.85, 0.15],\n",
    "                      [0.00, 0.00, 0.00, 1.00]\n",
    "])\n",
    "pi = np.array([0.85, 0.10, 0.05, 0.00])\n",
    "for i in range(10):\n",
    "    pi = pi@distribution\n",
    "\n",
    "print(\"Answer = \" + str(pi))\n"
   ]
  },
  {
   "cell_type": "markdown",
   "metadata": {},
   "source": [
    "# Exercício 2\n",
    "Considere o seguinte computador hipotético, onde a representação de um número em ponto flutuante em base 2 (binária) possui apenas 5 dígitos para a mantissa e o expoente pode variar entre -6 e 7. Tendo como\n",
    "referência os padrões da IEEE apresentados em sala.\n",
    "\n",
    "(a) Qual o menor número positivo que pode ser representado de forma exata?"
   ]
  },
  {
   "cell_type": "markdown",
   "metadata": {},
   "source": [
    ">sign = 0 (positive),\n",
    "mantissa = lowest possible (1.00000 = 1),\n",
    "exponent = lowest possible (-6)"
   ]
  },
  {
   "cell_type": "code",
   "execution_count": 3,
   "metadata": {},
   "outputs": [
    {
     "name": "stdout",
     "output_type": "stream",
     "text": [
      "Answer = 0.015625 or (-1)^0 . 2^(-6) . 1\n"
     ]
    }
   ],
   "source": [
    "mantissa = 1\n",
    "exponent = -6\n",
    "base = 2\n",
    "sign = 0\n",
    "print(\"Answer = \" + str(base**exponent*mantissa) + \" or \" + \"(-1)^\" + str(sign) + \" . \" + str(base) + \"^(\" + str(exponent) + \") . \" + str(mantissa))"
   ]
  },
  {
   "cell_type": "markdown",
   "metadata": {},
   "source": [
    "(b) Qual o maior?"
   ]
  },
  {
   "cell_type": "markdown",
   "metadata": {},
   "source": [
    ">sign = 0 (positive), mantissa = max possible (1.11111 = 1.96875), exponent = max possible (7)\n",
    ">\n",
    ">1.11111 = (1 × 2⁰) + (1 × 2⁻¹) + (1 × 2⁻²) + (1 × 2⁻³) + (1 × 2⁻⁴) + (1 × 2⁻⁵) = 1.96875"
   ]
  },
  {
   "cell_type": "code",
   "execution_count": 4,
   "metadata": {},
   "outputs": [
    {
     "name": "stdout",
     "output_type": "stream",
     "text": [
      "Answer = 252.0 or (-1)^0 . 2^(7) . 1.96875\n"
     ]
    }
   ],
   "source": [
    "mantissa = 1.96875\n",
    "exponent = 7\n",
    "base = 2\n",
    "sign = 0\n",
    "print(\"Answer = \" + str(base**exponent*mantissa) + \" or \" + \"(-1)^\" + str(sign) + \" . \" + str(base) + \"^(\" + str(exponent) + \") . \" + str(mantissa))"
   ]
  },
  {
   "cell_type": "markdown",
   "metadata": {},
   "source": [
    "(c) Como seria representado o número 2³ · (0.01010)base(2) neste computador?"
   ]
  },
  {
   "cell_type": "markdown",
   "metadata": {},
   "source": [
    ">Para descobrirmos, basta andarmos com o ponto da mantissa e diminuímos o expoente em 1 a cada casa andada. E, como se trata de um número positivo, ficamos com o sinal = 0\n",
    ">\n",
    ">sinal = 0 (positive), mantissa = 1.01000 (1.25), exponent = 1\n",
    ">\n",
    ">1.01000 = (1 × 2⁰) + (0 × 2⁻¹) + (1 × 2⁻²) + (0 × 2⁻³) + (0 × 2⁻⁴) + (0 × 2⁻⁵) = 1.25\n",
    ">\n",
    ">Answer = (-1)⁰ . 2¹ . (1.01000)base(2)"
   ]
  },
  {
   "cell_type": "markdown",
   "metadata": {},
   "source": [
    "(d) Como seria representado o número −2⁻² · (1101.01010)base(2) neste computador?"
   ]
  },
  {
   "cell_type": "markdown",
   "metadata": {},
   "source": [
    "> Analogamente à questão acima, andamos com o ponto da mantissa, agora, para o lado contrário e aumentos um expoente.E, como só temos 5 dígitos para mantissa, mantemos os 5 mais significativos\n",
    ">\n",
    ">Sign = 1 (negative), mantissa = 1.10101, exponent = 1\n",
    ">\n",
    ">\n",
    ">Answer = (-1)¹ . 2¹ . (1.10101)base(2)"
   ]
  },
  {
   "cell_type": "markdown",
   "metadata": {},
   "source": [
    "(e) Qual é o menor número maior que 1 neste computador?\n",
    "\n",
    "> 1 + menor numero possível que esse computador suporta\n",
    ">\n",
    "> 1.00001 = (1 × 2⁰) + (0 × 2⁻¹) + (0 × 2⁻²) + (0 × 2⁻³) + (0 × 2⁻⁴) + (1 × 2⁻⁵) = 1.03125\n",
    ">\n",
    "> signal = 0 (positive), mantissa = 1.00001 (= 1.03125), exponent = 0"
   ]
  },
  {
   "cell_type": "code",
   "execution_count": 5,
   "metadata": {},
   "outputs": [
    {
     "name": "stdout",
     "output_type": "stream",
     "text": [
      "Answer = 1.03125 or (-1)^0 . 2^(0) . 1.03125\n"
     ]
    }
   ],
   "source": [
    "mantissa = 1.03125\n",
    "exponent = 0\n",
    "base = 2\n",
    "sign = 0\n",
    "print(\"Answer = \" + str(base**exponent*mantissa) + \" or \" + \"(-1)^\" + str(sign) + \" . \" + str(base) + \"^(\" + str(exponent) + \") . \" + str(mantissa))"
   ]
  },
  {
   "cell_type": "markdown",
   "metadata": {},
   "source": [
    "(f) Qual é o E machine?\n",
    "\n",
    "> Machine Epsilon is half the distance between 1 and the next larger number.\n",
    ">\n",
    "> De acordo com a última questão, o menor número maior que 1 é 1.03125"
   ]
  },
  {
   "cell_type": "code",
   "execution_count": 6,
   "metadata": {},
   "outputs": [
    {
     "name": "stdout",
     "output_type": "stream",
     "text": [
      "0.015625 == 2^(-6)\n"
     ]
    }
   ],
   "source": [
    "print(str((1.03125-1)/2) + \" == 2^(-6)\")"
   ]
  },
  {
   "cell_type": "markdown",
   "metadata": {},
   "source": [
    "# Exercício 3\n",
    "![](questao-3.png)"
   ]
  },
  {
   "cell_type": "markdown",
   "metadata": {},
   "source": [
    "![](questao-3-answer.jpeg)"
   ]
  },
  {
   "cell_type": "markdown",
   "metadata": {},
   "source": [
    "# Exercício 4\n",
    "![](questao-4.png)\n",
    "\n",
    "> Deve-se checar que U e V são matrizes ortonormais (A é ortonormal se A(A^T) == (A^T)A == I). \n",
    ">\n",
    ">Além disso, UE(V^T) == C"
   ]
  },
  {
   "cell_type": "code",
   "execution_count": 7,
   "metadata": {},
   "outputs": [
    {
     "name": "stdout",
     "output_type": "stream",
     "text": [
      "V is orthonormal:\n",
      "\n",
      "[[1. 0.]\n",
      " [0. 1.]]\n",
      "[[ 1. -0.]\n",
      " [-0.  1.]]\n",
      "\n",
      "U is semi-orthonormal:\n",
      "\n",
      "[[ 0. -0.  0. -0.]\n",
      " [-0.  1.  0.  0.]\n",
      " [ 0.  0.  1. -0.]\n",
      " [-0.  0. -0.  0.]]\n",
      "[[ 1. -0.]\n",
      " [-0.  1.]]\n",
      "\n",
      "\n",
      "UEVT == C:\n",
      "\n",
      "[[ 1. -1.]\n",
      " [ 0.  1.]\n",
      " [ 1.  0.]\n",
      " [-1.  1.]]\n"
     ]
    }
   ],
   "source": [
    "C = np.array([[1,-1], [0,1], [1,0], [-1, 1]])\n",
    "U = np.array([[-0.632, 0.000], [0.316, -0.707], [-0.316, -0.707], [0.632, 0.000]])\n",
    "UT = U.transpose()\n",
    "E = np.array([[2.236, 0], [0.000, 1.000]])\n",
    "VT = np.array([[-0.707, 0.707], [-0.707, -0.707]])\n",
    "V = VT.transpose()\n",
    "\n",
    "print(\"V is orthonormal:\\n\")\n",
    "print(np.around(V@VT))\n",
    "print(np.around(VT@V))\n",
    "\n",
    "print(\"\\nU is semi-orthonormal:\\n\")\n",
    "print(np.around(U@UT))\n",
    "print(np.around(UT@U))\n",
    "\n",
    "print(\"\\n\\nUEVT == C:\\n\")\n",
    "print(np.around(U@E@VT))"
   ]
  },
  {
   "cell_type": "markdown",
   "metadata": {},
   "source": [
    "# Exercício 5\n",
    "![](questao-5.png)\n",
    "\n",
    "> We need to add a value [a, b] to the end of U that [a,b].E.VT=[1,1]\n",
    ">\n",
    "> Since E@VT = [ [-1.580852, 1.580852], [-0.707, -0.707] ], we need to find a and b that when multiplied to E@VT, we get [1, 1], so, in this way, we will only add a [1, 1] at the end of C. Not changing it's properties\n",
    ">\n",
    "> Then we get -1.580852*a + -0.707*b = 1\n",
    "> and 1.580852*a + -0.707*b = 1\n",
    ">\n",
    "> So, we get -1.414*b = 2\n",
    ">\n",
    "> and -3.161704*a = 0\n",
    ">\n",
    "> So we have: a = 0\n",
    "> and b = -1,414427157\n",
    ">\n",
    "> And we checked it, adding [a, b] to U and calculating (U@E@VT)"
   ]
  },
  {
   "cell_type": "code",
   "execution_count": 8,
   "metadata": {},
   "outputs": [
    {
     "name": "stdout",
     "output_type": "stream",
     "text": [
      "[1. 1.]\n",
      "[[ 1. -1.]\n",
      " [ 0.  1.]\n",
      " [ 1.  0.]\n",
      " [-1.  1.]\n",
      " [ 1.  1.]]\n"
     ]
    }
   ],
   "source": [
    "a = 0\n",
    "b = -1.414427157\n",
    "C = np.array([[1,-1], [0,1], [1,0], [-1, 1]])\n",
    "U = np.array([[-0.632, 0.000], [0.316, -0.707], [-0.316, -0.707], [0.632, 0.000], [0, b]])\n",
    "E = np.array([[2.236, 0], [0.000, 1.000]])\n",
    "VT = np.array([[-0.707, 0.707], [-0.707, -0.707]])\n",
    "\n",
    "aux = E@VT\n",
    "print([a, b]@aux)\n",
    "print(np.around(U@E@VT))\n"
   ]
  },
  {
   "cell_type": "code",
   "execution_count": null,
   "metadata": {},
   "outputs": [],
   "source": []
  }
 ],
 "metadata": {
  "kernelspec": {
   "display_name": "Python 3",
   "language": "python",
   "name": "python3"
  },
  "language_info": {
   "codemirror_mode": {
    "name": "ipython",
    "version": 3
   },
   "file_extension": ".py",
   "mimetype": "text/x-python",
   "name": "python",
   "nbconvert_exporter": "python",
   "pygments_lexer": "ipython3",
   "version": "3.6.5"
  }
 },
 "nbformat": 4,
 "nbformat_minor": 2
}
