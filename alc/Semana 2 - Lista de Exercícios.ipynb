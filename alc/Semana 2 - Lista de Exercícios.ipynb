{
 "cells": [
  {
   "cell_type": "code",
   "execution_count": 1,
   "metadata": {},
   "outputs": [],
   "source": [
    "import numpy as np\n",
    "from sklearn.decomposition import TruncatedSVD\n",
    "from IPython.display import Image"
   ]
  },
  {
   "cell_type": "markdown",
   "metadata": {},
   "source": [
    "# Exercício 1"
   ]
  },
  {
   "cell_type": "markdown",
   "metadata": {},
   "source": [
    ">\n",
    "> Para que uma matriz possua posto 1, ela deve possuir apenas um pivo. Para isso, se todas as linhas forem múltiplas entre si, satisfazemos tal condição.\n",
    ">\n",
    "> Sendo assim, podemos partir do princípio que a última linha é a linha \"indiminuível\" e usar ela como referência. Como já temos 1 e 2 nela, conseguimos achar os valores da 1 e 2 coluna das linhas 1, 2 e 3:\n",
    ">\n",
    "> `a` = 6, `c` = 2, `e` = 6. Com isso, conseguimos descobrir `h` pela linha 3. `h` = 7\n",
    ">\n",
    "> E, com esses valores, conseguimos descobrir os valores restantes: `b` = 21, `d` = 14, `f` = 4 e `g` = 8\n",
    ">\n",
    "> Abaixo, testamos isso:"
   ]
  },
  {
   "cell_type": "code",
   "execution_count": 2,
   "metadata": {},
   "outputs": [
    {
     "data": {
      "text/plain": [
       "1"
      ]
     },
     "execution_count": 2,
     "metadata": {},
     "output_type": "execute_result"
    }
   ],
   "source": [
    "teste = np.array([[3, 'a', 'b'], ['c', 4, 'd'], ['e', 12, 42], ['f', 'g', 28], [1, 2, 'h']])\n",
    "teste2 = np.array([[3, 6, 21], [2, 4, 14], [6, 12, 42], [4, 8, 28], [1, 2, 7]])\n",
    "\n",
    "np.linalg.matrix_rank(teste2)"
   ]
  },
  {
   "cell_type": "markdown",
   "metadata": {},
   "source": [
    "# Exercício 2\n"
   ]
  },
  {
   "cell_type": "markdown",
   "metadata": {},
   "source": [
    "> Trocamos os `?` (arbitrariamente), respectivamente por 2, 3, 3, 4, pela média que foi passada\n",
    "\n",
    "(a) Calcule B\n"
   ]
  },
  {
   "cell_type": "code",
   "execution_count": 3,
   "metadata": {},
   "outputs": [],
   "source": [
    "A = np.array([\n",
    "    [3, 4, 3, 1],\n",
    "    [1, 2, 5, 3],\n",
    "    [2, np.nan, np.nan, 4],\n",
    "    [1, np.nan, np.nan, 1],\n",
    "    [2, 4, 5, 3]\n",
    "])\n",
    "\n",
    "m = np.array([1.8, 3.0, 4.0, 2.4])\n",
    "B = np.zeros((5, 4))"
   ]
  },
  {
   "cell_type": "code",
   "execution_count": 4,
   "metadata": {},
   "outputs": [
    {
     "data": {
      "text/plain": [
       "array([[ 1.2,  1. , -1. , -1.4],\n",
       "       [-0.8, -1. ,  1. ,  0.6],\n",
       "       [ 0.2,  nan,  nan,  1.6],\n",
       "       [-0.8,  nan,  nan, -1.4],\n",
       "       [ 0.2,  1. ,  1. ,  0.6]])"
      ]
     },
     "execution_count": 4,
     "metadata": {},
     "output_type": "execute_result"
    }
   ],
   "source": [
    "for i in range(5):\n",
    "    for j in range(4):\n",
    "        B[i][j] = A[i][j]-m[j]\n",
    "\n",
    "B"
   ]
  },
  {
   "cell_type": "markdown",
   "metadata": {},
   "source": [
    "(b) Calcule C"
   ]
  },
  {
   "cell_type": "code",
   "execution_count": 5,
   "metadata": {},
   "outputs": [
    {
     "data": {
      "text/plain": [
       "array([[ 1.25,  1.05, -0.95, -1.35],\n",
       "       [-0.75, -0.95,  1.05,  0.65],\n",
       "       [-0.7 ,   nan,   nan,  0.7 ],\n",
       "       [ 0.3 ,   nan,   nan, -0.3 ],\n",
       "       [-0.5 ,  0.3 ,  0.3 , -0.1 ]])"
      ]
     },
     "execution_count": 5,
     "metadata": {},
     "output_type": "execute_result"
    }
   ],
   "source": [
    "u = np.nanmean(B, axis=1)\n",
    "C = np.zeros((5,4))\n",
    "\n",
    "for i in range(5):\n",
    "    for j in range(4):\n",
    "        C[i][j] = B[i][j]-u[i]\n",
    "\n",
    "C"
   ]
  },
  {
   "cell_type": "markdown",
   "metadata": {},
   "source": [
    "(c) Sabendo que o SVD truncado de C truncado com k = 2 é ... determine uma aproximação (previsão) para as notas que os usuários 2 e 3 dariam as filmes 1 e 2 (assuma que os índices começam de 0)."
   ]
  },
  {
   "cell_type": "code",
   "execution_count": 6,
   "metadata": {},
   "outputs": [
    {
     "data": {
      "text/plain": [
       "array([[3., 4., 3., 1.],\n",
       "       [1., 2., 5., 3.],\n",
       "       [2., 2., 6., 4.],\n",
       "       [1., 3., 2., 1.],\n",
       "       [2., 4., 5., 3.]])"
      ]
     },
     "execution_count": 6,
     "metadata": {},
     "output_type": "execute_result"
    }
   ],
   "source": [
    "U = np.array([\n",
    "    [-0.62, -0.42],\n",
    "    [0.47, 0.22],\n",
    "    [0.5, -0.6],\n",
    "    [-0.38, 0.19],\n",
    "    [0.03, 0.61]])\n",
    "s = np.array([[3.63, 0], [0, 1.05]])\n",
    "VT = np.array([[-0.38, -0.61, 0.48, 0.51], [-0.75, 0.59, 0.28, -0.11]])\n",
    "\n",
    "np.set_printoptions(precision=3)\n",
    "resp = U@s@VT\n",
    "\n",
    "for i in range(5):\n",
    "    for j in range(4):\n",
    "        resp[i][j] = resp[i][j]+u[i]+m[j]\n",
    "\n",
    "np.round(resp)"
   ]
  },
  {
   "cell_type": "markdown",
   "metadata": {},
   "source": [
    "# Exercício 3\n",
    "Assinale V ou F e justifique:"
   ]
  },
  {
   "cell_type": "markdown",
   "metadata": {},
   "source": [
    "( F ) Em alguns casos é possível usar o NMF para reconstruir de maneira exata uma matriz A ∈ R\n",
    "m×n mesmo que alguns elementos de A sejam negativos."
   ]
  },
  {
   "cell_type": "markdown",
   "metadata": {},
   "source": [
    "> NMF (Non-negative Matrix Factorization) é uma forma de decompor matrizes desde que essas matrizes contenham apenas elementos positivos. (ou melhor, elementos muito próximos de zero). De qualquer forma, essa afirmação é falsa pois não é possível reconstruí-la de maneira exata caso haja numeros negativos. Apenas aproximada."
   ]
  },
  {
   "cell_type": "markdown",
   "metadata": {},
   "source": [
    "( V ) Considere uma matriz A em que pode se aplicar tanto SVD quanto NMF. O erro (Frobenius) da\n",
    "aproximação de posto k obtida pelo SVD será menor ou igual que o da aproximação de posto k obtida pelo\n",
    "NMF."
   ]
  },
  {
   "cell_type": "markdown",
   "metadata": {},
   "source": [
    "> Como SVD é a melhor forma de decompor uma matriz, ela é a forma em que o erro da o menor possível. Sendo assim, a aproximação de NMF nunca será melhor do que a de um SVD, será sempre menor, ou no máximo, igual ao SVD."
   ]
  },
  {
   "cell_type": "markdown",
   "metadata": {},
   "source": [
    "# Exercício 4"
   ]
  },
  {
   "cell_type": "code",
   "execution_count": 7,
   "metadata": {},
   "outputs": [],
   "source": [
    "A = np.array([\n",
    "    [3, 0, 2],\n",
    "    [9, 1, 7],\n",
    "    [1, 0, 1]\n",
    "])"
   ]
  },
  {
   "cell_type": "markdown",
   "metadata": {},
   "source": [
    "(a) Norma-1"
   ]
  },
  {
   "cell_type": "code",
   "execution_count": 8,
   "metadata": {},
   "outputs": [
    {
     "data": {
      "text/plain": [
       "13"
      ]
     },
     "execution_count": 8,
     "metadata": {},
     "output_type": "execute_result"
    }
   ],
   "source": [
    "colSum = np.sum(A, axis=0)\n",
    "np.amax(colSum)"
   ]
  },
  {
   "cell_type": "markdown",
   "metadata": {},
   "source": [
    "(b) Norma-infinito"
   ]
  },
  {
   "cell_type": "code",
   "execution_count": 9,
   "metadata": {},
   "outputs": [
    {
     "data": {
      "text/plain": [
       "17"
      ]
     },
     "execution_count": 9,
     "metadata": {},
     "output_type": "execute_result"
    }
   ],
   "source": [
    "rowSum = np.sum(A, axis=1)\n",
    "np.amax(rowSum)"
   ]
  },
  {
   "cell_type": "markdown",
   "metadata": {},
   "source": [
    "(c) Norma-2 (Para este item você pode usar o numpy)"
   ]
  },
  {
   "cell_type": "code",
   "execution_count": 10,
   "metadata": {},
   "outputs": [
    {
     "data": {
      "text/plain": [
       "12.074814532664146"
      ]
     },
     "execution_count": 10,
     "metadata": {},
     "output_type": "execute_result"
    }
   ],
   "source": [
    "np.linalg.norm(A, 2)"
   ]
  },
  {
   "cell_type": "markdown",
   "metadata": {},
   "source": [
    "(d) Norma Frobenius"
   ]
  },
  {
   "cell_type": "code",
   "execution_count": 11,
   "metadata": {},
   "outputs": [
    {
     "data": {
      "text/plain": [
       "12.083045973594572"
      ]
     },
     "execution_count": 11,
     "metadata": {},
     "output_type": "execute_result"
    }
   ],
   "source": [
    "np.linalg.norm(A, 'fro')"
   ]
  },
  {
   "cell_type": "markdown",
   "metadata": {},
   "source": [
    "# Exercício 5\n",
    "Considere o uso do SVD truncado de posto k para compressão de imagens em escala de cinza (0 a 255) de\n",
    "tamanho 1024 x 768."
   ]
  },
  {
   "cell_type": "markdown",
   "metadata": {},
   "source": [
    "(a) No caso de uma única imagem decomposta usando SVD, quantos bytes precisam ser armazenados para\n",
    "reconstruir a imagem, em função de k? Qual o valor máximo de k para o qual a compressão vale a\n",
    "pena?"
   ]
  },
  {
   "cell_type": "markdown",
   "metadata": {},
   "source": [
    "> Decompondo esssa imagem em SVD truncado, temos: U[1024][k] * E[k][k] * Vt[k][768]\n",
    ">\n",
    "> Dessa forma, atribuimos 1024k valores + k (como é uma matriz diagonal, podemos armazenar só k valores) + 768k.\n",
    ">\n",
    "> Assim temos 1793k valores. E, para que essa compressão valha a pena, esse número deve ser menor qe 1024*768 = 786432\n",
    ">\n",
    "> Ou seja, k < 786432/1793 = 438.61..\n",
    ">\n",
    "> Logo, `k`max = 438"
   ]
  },
  {
   "cell_type": "markdown",
   "metadata": {},
   "source": [
    "(b) Agora suponha que queiramos usar um único SVD para comprimir várias imagens. Para isso, iremos\n",
    "representar as imagens como vetores de tamanho 786432 (= 1024×768). Quantos bytes serão necessários\n",
    "para armazenar 10 imagens? E quanto a 1000 imagens?"
   ]
  },
  {
   "cell_type": "markdown",
   "metadata": {},
   "source": [
    "> Decompondo 10 imagems em SVD truncado, temos: U[1024*768][k] * E[k][k] * Vt[k][10]\n",
    ">\n",
    "> Dessa forma, atribuimos 786432 valores + k (como é uma matriz diagonal, podemos armazenar só k valores) + 10.\n",
    ">\n",
    "> Assim temos `786443k bytes`.\n",
    ">\n",
    "> No caso de 1000 imagens, só aumentamos 990 (em Vt) e, assim, temos `787433k bytes`."
   ]
  }
 ],
 "metadata": {
  "kernelspec": {
   "display_name": "Python 3",
   "language": "python",
   "name": "python3"
  },
  "language_info": {
   "codemirror_mode": {
    "name": "ipython",
    "version": 3
   },
   "file_extension": ".py",
   "mimetype": "text/x-python",
   "name": "python",
   "nbconvert_exporter": "python",
   "pygments_lexer": "ipython3",
   "version": "3.6.5"
  }
 },
 "nbformat": 4,
 "nbformat_minor": 2
}
