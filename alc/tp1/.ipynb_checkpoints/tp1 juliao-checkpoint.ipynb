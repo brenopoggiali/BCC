{
 "cells": [
  {
   "cell_type": "markdown",
   "metadata": {
    "deletable": false,
    "editable": false,
    "nbgrader": {
     "checksum": "977154cc14d66da7bcfca2d605935c66",
     "grade": false,
     "grade_id": "cell-fd33288d55892950",
     "locked": true,
     "schema_version": 1,
     "solution": false
    }
   },
   "source": [
    "# Trabalho Prático Parte 1"
   ]
  },
  {
   "cell_type": "code",
   "execution_count": 1,
   "metadata": {
    "deletable": false,
    "editable": false,
    "nbgrader": {
     "checksum": "bfad97a041dcb1dceba0c5c7acb97900",
     "grade": false,
     "grade_id": "cell-4ea30e2ca83af749",
     "locked": true,
     "schema_version": 1,
     "solution": false
    }
   },
   "outputs": [],
   "source": [
    "import numpy as np\n",
    "import math"
   ]
  },
  {
   "cell_type": "markdown",
   "metadata": {
    "deletable": false,
    "editable": false,
    "nbgrader": {
     "checksum": "3ece1865400989c2b7d0e636fa8557be",
     "grade": false,
     "grade_id": "cell-bf11d9b366118c2c",
     "locked": true,
     "schema_version": 1,
     "solution": false
    }
   },
   "source": [
    "## Questão 1\n",
    "\n",
    "Calcule as abscissas $t_i$ e os pesos $w_i$ via a matriz de Jacobi."
   ]
  },
  {
   "cell_type": "code",
   "execution_count": 2,
   "metadata": {
    "deletable": false,
    "nbgrader": {
     "checksum": "b20ac8bad220c86c68e73cfa6a939873",
     "grade": false,
     "grade_id": "cell-ad6b84cbfcb7a919",
     "locked": false,
     "schema_version": 1,
     "solution": true
    }
   },
   "outputs": [
    {
     "data": {
      "text/plain": [
       "(array([ 7.74596669e-01, -4.78946310e-17, -7.74596669e-01]),\n",
       " array([0.55555556, 0.88888889, 0.55555556]))"
      ]
     },
     "execution_count": 2,
     "metadata": {},
     "output_type": "execute_result"
    }
   ],
   "source": [
    "def jacobi(n): \n",
    "    # YOUR CODE HERE\n",
    "    # Iniciar a matriz J\n",
    "    J = np.zeros((n,n))\n",
    "    for i in range(1,n):\n",
    "        J[i-1,i] = J[i, i-1] = math.sqrt((i*i) / ((4*i*i)-1))\n",
    "    # Calcular autovalores e autovetores\n",
    "    eig_values, eig_vectors = np.linalg.eig(J)\n",
    "    # Ordenar em ordem decrescente do autovalor\n",
    "    # Calcular w\n",
    "    sort_of_eig_values = np.argsort(eig_values)[::-1]\n",
    "    t = np.zeros(eig_values.shape[0])\n",
    "    w = np.zeros(eig_values.shape[0])\n",
    "    first_elemennt_of_vector = None\n",
    "    index = None\n",
    "    vector = None\n",
    "    for i in range(eig_values.shape[0]):\n",
    "        index = sort_of_eig_values[i]\n",
    "        t[i] = eig_values[index]\n",
    "        vector = eig_vectors[:,index]/np.linalg.norm(eig_vectors[:,index])\n",
    "        w[i] = (vector[0]*vector[0])*2\n",
    "    # Retornar t e w como vetores de dimensões 1 x n\n",
    "    return t, w\n",
    "jacobi(3)"
   ]
  },
  {
   "cell_type": "code",
   "execution_count": 3,
   "metadata": {
    "deletable": false,
    "editable": false,
    "nbgrader": {
     "checksum": "f985bfe9c20cbc07c1d737ba92282142",
     "grade": true,
     "grade_id": "cell-1f4112991a3d4d78",
     "locked": true,
     "points": 1,
     "schema_version": 1,
     "solution": false
    }
   },
   "outputs": [],
   "source": [
    "ans2 = ([ 0.57735027, -0.57735027], [0.9999999999999998, 0.9999999999999998])\n",
    "ans3 = ([ 7.74596669e-01, -4.78946310e-17, -7.74596669e-01], [0.5555555555555551, 0.8888888888888894, 0.5555555555555556])\n",
    "ans4 = ([ 0.86113631,  0.33998104, -0.33998104, -0.86113631], [0.3478548451374544, 0.652145154862546, 0.6521451548625463, 0.3478548451374541])\n",
    "assert np.allclose(ans2, jacobi(2))\n",
    "assert np.allclose(ans3, jacobi(3))\n",
    "assert np.allclose(ans4, jacobi(4))"
   ]
  },
  {
   "cell_type": "markdown",
   "metadata": {
    "deletable": false,
    "editable": false,
    "nbgrader": {
     "checksum": "20dff1f12638bdc387c0fc84ed80fa30",
     "grade": false,
     "grade_id": "cell-34735c95bfcb3cec",
     "locked": true,
     "schema_version": 1,
     "solution": false
    }
   },
   "source": [
    "Inicie os vetores ```difTab2```, ```difTab3``` e ```difTab4``` com as diferenças entre os $t$s e $w$s encontrados para $n=2,3,4$ com os valores tabelados."
   ]
  },
  {
   "cell_type": "code",
   "execution_count": 4,
   "metadata": {
    "deletable": false,
    "nbgrader": {
     "checksum": "fc6e9b318fc056ba824404b61d5e9cb6",
     "grade": false,
     "grade_id": "cell-e95dcb741df9b88b",
     "locked": false,
     "schema_version": 1,
     "solution": true
    }
   },
   "outputs": [],
   "source": [
    "#difTab3[0][0] guarda t[0] - t0 tabelado pra n=3\n",
    "#difTab3[0][1] guarda t[1] - t1 tabelado pra n=3\n",
    "#difTab3[0][2] guarda t[2] - t2 tabelado pra n=3\n",
    "#\n",
    "#difTab3[1][0] guarda w[0] - w0 tabelado pra n=3\n",
    "#difTab3[1][1] guarda w[1] - w1 tabelado pra n=3\n",
    "#difTab3[1][2] guarda w[2] - w2 tabelado pra n=3\n",
    "#...\n",
    "\n",
    "#difTab2 = np.zeros((2,2))\n",
    "#difTab3 = np.zeros((2,3))\n",
    "#difTab4 = np.zeros((2,4))\n",
    "\n",
    "# YOUR CODE HERE\n",
    "\n",
    "difTab2 = np.zeros((2,2))\n",
    "difTab3 = np.zeros((2,3))\n",
    "difTab4 = np.zeros((2,4))\n",
    "j2 = jacobi(2)\n",
    "j3 = jacobi(3)\n",
    "j4 = jacobi(4)\n",
    "\n",
    "difTab2[:,0] = j2[0][0]-ans2[0][0],j2[1][0]-ans2[1][0]\n",
    "difTab2[:,1] = j2[0][1]-ans2[0][1],j2[1][1]-ans2[1][1]\n",
    "\n",
    "difTab3[:,0] = j3[0][0]-ans3[0][0],j3[1][0]-ans3[1][0]\n",
    "difTab3[:,1] = j3[0][1]-ans3[0][1],j3[1][1]-ans3[1][1]\n",
    "difTab3[:,2] = j3[0][2]-ans3[0][2],j3[1][2]-ans3[1][2]\n",
    "\n",
    "difTab4[:,0] = j4[0][0]-ans4[0][0],j4[1][0]-ans4[1][0]\n",
    "difTab4[:,1] = j4[0][1]-ans4[0][1],j4[1][1]-ans4[1][1]\n",
    "difTab4[:,2] = j4[0][2]-ans4[0][2],j4[1][2]-ans4[1][2]\n",
    "difTab4[:,3] = j4[0][3]-ans4[0][3],j4[1][3]-ans4[1][3]\n",
    "#raise NotImplementedError()"
   ]
  },
  {
   "cell_type": "code",
   "execution_count": 5,
   "metadata": {
    "deletable": false,
    "editable": false,
    "nbgrader": {
     "checksum": "62a596bb1e9f7d5cec2b2aabcf5d6c82",
     "grade": false,
     "grade_id": "cell-58b3df1a02528340",
     "locked": true,
     "schema_version": 1,
     "solution": false
    }
   },
   "outputs": [
    {
     "name": "stdout",
     "output_type": "stream",
     "text": [
      "difTab2:  [[-8.10374323e-10  8.10374323e-10]\n",
      " [ 4.44089210e-16  4.44089210e-16]] \n",
      "\n",
      "difTab3:  [[ 2.41483278e-10  3.04528413e-26 -2.41483500e-10]\n",
      " [ 0.00000000e+00  0.00000000e+00  0.00000000e+00]] \n",
      "\n",
      "difTab4:  [[ 1.59405245e-09  3.58485636e-09 -3.58485625e-09 -1.59405289e-09]\n",
      " [ 0.00000000e+00  0.00000000e+00  2.22044605e-16  0.00000000e+00]] \n",
      "\n"
     ]
    }
   ],
   "source": [
    "print(\"difTab2: \", difTab2, \"\\n\")\n",
    "print(\"difTab3: \", difTab3, \"\\n\")\n",
    "print(\"difTab4: \", difTab4, \"\\n\")"
   ]
  },
  {
   "cell_type": "code",
   "execution_count": null,
   "metadata": {
    "deletable": false,
    "editable": false,
    "nbgrader": {
     "checksum": "46b5a68bf233a5ce9ba8b3d9fed046b1",
     "grade": true,
     "grade_id": "cell-40446e53fce845a8",
     "locked": true,
     "points": 1,
     "schema_version": 1,
     "solution": false
    }
   },
   "outputs": [],
   "source": []
  },
  {
   "cell_type": "markdown",
   "metadata": {
    "deletable": false,
    "editable": false,
    "nbgrader": {
     "checksum": "0c48950183bf17c0a2c1abe3cd184735",
     "grade": false,
     "grade_id": "cell-7a5923ddcb8ea4b4",
     "locked": true,
     "schema_version": 1,
     "solution": false
    }
   },
   "source": [
    "## Questão 2"
   ]
  },
  {
   "cell_type": "code",
   "execution_count": 6,
   "metadata": {
    "deletable": false,
    "editable": false,
    "nbgrader": {
     "checksum": "306bfaf82ef13758bb466cde9d0beec7",
     "grade": false,
     "grade_id": "cell-44bcf94762fba41a",
     "locked": true,
     "schema_version": 1,
     "solution": false
    }
   },
   "outputs": [
    {
     "name": "stdout",
     "output_type": "stream",
     "text": [
      "(array([ 0.57735027, -0.57735027]), array([1., 1.]))\n",
      "(array([ 7.74596669e-01, -4.78946310e-17, -7.74596669e-01]), array([0.55555556, 0.88888889, 0.55555556]))\n",
      "(array([ 0.86113631,  0.33998104, -0.33998104, -0.86113631]), array([0.34785485, 0.65214515, 0.65214515, 0.34785485]))\n"
     ]
    }
   ],
   "source": [
    "print(jacobi(2))\n",
    "print(jacobi(3))\n",
    "print(jacobi(4))"
   ]
  },
  {
   "cell_type": "markdown",
   "metadata": {
    "deletable": false,
    "editable": false,
    "nbgrader": {
     "checksum": "71f8370cae85afa4f030e88d684f740b",
     "grade": false,
     "grade_id": "cell-ea87c1e657e10b72",
     "locked": true,
     "schema_version": 1,
     "solution": false
    }
   },
   "source": [
    "Porque para $n=2,3,4$ a soma dos pesos é igual a 2?"
   ]
  },
  {
   "cell_type": "markdown",
   "metadata": {
    "deletable": false,
    "nbgrader": {
     "checksum": "745eead9aa9dc282b0235d257a18cd85",
     "grade": true,
     "grade_id": "cell-9df27618cca13eef",
     "locked": false,
     "points": 1,
     "schema_version": 1,
     "solution": true
    }
   },
   "source": [
    "YOUR ANSWER HERE"
   ]
  },
  {
   "cell_type": "markdown",
   "metadata": {
    "deletable": false,
    "editable": false,
    "nbgrader": {
     "checksum": "5c4465ea38c492a801c71b894991346c",
     "grade": false,
     "grade_id": "cell-476df336d8547f5e",
     "locked": true,
     "schema_version": 1,
     "solution": false
    }
   },
   "source": [
    "## Questão 3\n",
    "\n",
    "Escreva uma função para calcular a integral pela quadratura de Gauss-Legendre."
   ]
  },
  {
   "cell_type": "code",
   "execution_count": 7,
   "metadata": {
    "deletable": false,
    "nbgrader": {
     "checksum": "4238a0ade1a476ec062b582c9bad007a",
     "grade": false,
     "grade_id": "cell-c9cd894ad4f159d8",
     "locked": false,
     "schema_version": 1,
     "solution": true
    }
   },
   "outputs": [],
   "source": [
    "# y é um vetor 1 x n em que y[i]=f(x[i])\n",
    "# w é o vetor 1 x n obtido com a função jacobi\n",
    "def gaussLegendre(y, n, a, b, w):\n",
    "    # YOUR CODE HERE\n",
    "    In = 0.0\n",
    "    for i in range(n):\n",
    "        In += (y[i]*w[i])\n",
    "    result = In*(b-a)/2\n",
    "    return result\n",
    "#     raise NotImplementedError()"
   ]
  },
  {
   "cell_type": "markdown",
   "metadata": {
    "deletable": false,
    "editable": false,
    "nbgrader": {
     "checksum": "a16f44246ca6e8be197f97e599714c6d",
     "grade": false,
     "grade_id": "cell-c1deed38f39eb91a",
     "locked": true,
     "schema_version": 1,
     "solution": false
    }
   },
   "source": [
    "Calcule $\\int_0^2(x^5-x^3+x-1)dx$ usando $n=2$ na função de Gauss-Legendre que você criou."
   ]
  },
  {
   "cell_type": "code",
   "execution_count": 8,
   "metadata": {
    "deletable": false,
    "nbgrader": {
     "checksum": "10b6b803fdbcb44f7b90e6bb0bc88994",
     "grade": false,
     "grade_id": "cell-24d3afa4b8c7f29c",
     "locked": false,
     "schema_version": 1,
     "solution": true
    }
   },
   "outputs": [],
   "source": [
    "#intGL2 = \n",
    "# YOUR CODE HERE\n",
    "def first_function(n, a, b):\n",
    "    t,w = jacobi(n)\n",
    "    n = t.shape[0]\n",
    "    x = np.zeros(n)\n",
    "    y = np.zeros(n)\n",
    "    for i in range(n):\n",
    "        x[i] = (((b-a)*(t[i]))+a+b)/2\n",
    "        y[i] = (x[i]**5) - (x[i]**3) + x[i] - 1\n",
    "    return w, y\n",
    "\n",
    "# raise NotImplementedError()\n",
    "\n",
    "a = 0\n",
    "b = 2\n",
    "n = 2\n",
    "w, y = first_function(n, a, b)\n",
    "intGL2 = gaussLegendre(y, n, a, b, w)"
   ]
  },
  {
   "cell_type": "code",
   "execution_count": 9,
   "metadata": {
    "deletable": false,
    "editable": false,
    "nbgrader": {
     "checksum": "f714752ed8355179191ad4e33a10b59e",
     "grade": true,
     "grade_id": "cell-bfaf2a30118894cc",
     "locked": true,
     "points": 1,
     "schema_version": 1,
     "solution": false
    }
   },
   "outputs": [],
   "source": [
    "assert np.isclose(5.777777777777776, intGL2)"
   ]
  },
  {
   "cell_type": "markdown",
   "metadata": {
    "deletable": false,
    "editable": false,
    "nbgrader": {
     "checksum": "2190556bab0db9c91a51c73b32d301e3",
     "grade": false,
     "grade_id": "cell-b63fce59ec8b9100",
     "locked": true,
     "schema_version": 1,
     "solution": false
    }
   },
   "source": [
    "Calcule $\\int_0^2(x^5-x^3+x-1)dx$ usando $n=3$ na função de Gauss-Legendre que você criou."
   ]
  },
  {
   "cell_type": "code",
   "execution_count": 10,
   "metadata": {
    "deletable": false,
    "nbgrader": {
     "checksum": "6a8d4a5e245e23640acb17d5402dd535",
     "grade": false,
     "grade_id": "cell-3b1979a4ffb511c4",
     "locked": false,
     "schema_version": 1,
     "solution": true
    }
   },
   "outputs": [
    {
     "name": "stdout",
     "output_type": "stream",
     "text": [
      "[12.78546682  0.         -0.78546682]\n",
      "[0.55555556 0.88888889 0.55555556]\n"
     ]
    }
   ],
   "source": [
    "#intGL3 = \n",
    "# YOUR CODE HERE\n",
    "n = 3\n",
    "w, y = first_function(n, a, b)\n",
    "print(y)\n",
    "print(w)\n",
    "intGL3 = gaussLegendre(y, n, a, b, w)\n",
    "# raise NotImplementedError()"
   ]
  },
  {
   "cell_type": "code",
   "execution_count": 11,
   "metadata": {
    "deletable": false,
    "editable": false,
    "nbgrader": {
     "checksum": "c21814d7055fd39b91ff3a68029c0e46",
     "grade": true,
     "grade_id": "cell-46ac0af9803066a3",
     "locked": true,
     "points": 1,
     "schema_version": 1,
     "solution": false
    }
   },
   "outputs": [],
   "source": [
    "assert np.isclose(6.6666666666666625, intGL3)"
   ]
  },
  {
   "cell_type": "markdown",
   "metadata": {
    "deletable": false,
    "editable": false,
    "nbgrader": {
     "checksum": "e7cbcd9c957ceaaf83bb3b9c4a51c3a3",
     "grade": false,
     "grade_id": "cell-625527494e03480d",
     "locked": true,
     "schema_version": 1,
     "solution": false
    }
   },
   "source": [
    "Calcule $\\int_0^2(x^5-x^3+x-1)dx$ usando $n=4$ na função de Gauss-Legendre que você criou."
   ]
  },
  {
   "cell_type": "code",
   "execution_count": 12,
   "metadata": {
    "deletable": false,
    "nbgrader": {
     "checksum": "6baf604db1ab4050710b4db605db46ef",
     "grade": false,
     "grade_id": "cell-30e1ea1ede32837a",
     "locked": false,
     "schema_version": 1,
     "solution": true
    }
   },
   "outputs": [],
   "source": [
    "#intGL4 = \n",
    "# YOUR CODE HERE\n",
    "n = 4\n",
    "w, y = first_function(n, a, b)\n",
    "intGL4 = gaussLegendre(y, n, a, b, w)\n",
    "# raise NotImplementedError()"
   ]
  },
  {
   "cell_type": "code",
   "execution_count": 13,
   "metadata": {
    "deletable": false,
    "editable": false,
    "nbgrader": {
     "checksum": "c0d6956a48e22d2e557ccd87590e79b9",
     "grade": true,
     "grade_id": "cell-706b2dcd412eebb8",
     "locked": true,
     "points": 1,
     "schema_version": 1,
     "solution": false
    }
   },
   "outputs": [],
   "source": [
    "assert np.isclose(6.666666666666674, intGL4)"
   ]
  },
  {
   "cell_type": "markdown",
   "metadata": {
    "deletable": false,
    "editable": false,
    "nbgrader": {
     "checksum": "d2aee0070815986d280ac13a58806485",
     "grade": false,
     "grade_id": "cell-bdbe79c56758ead0",
     "locked": true,
     "schema_version": 1,
     "solution": false
    }
   },
   "source": [
    "Explique os resultados obtidos para $\\int_0^2 (x^5-x^3+x-1) dx$ com $n = 2,3,4$."
   ]
  },
  {
   "cell_type": "markdown",
   "metadata": {
    "deletable": false,
    "nbgrader": {
     "checksum": "e660f0044bf1db582d06f6397c015b6a",
     "grade": true,
     "grade_id": "cell-56e0ae9d0d3cf65d",
     "locked": false,
     "points": 1,
     "schema_version": 1,
     "solution": true
    }
   },
   "source": [
    "YOUR ANSWER HERE"
   ]
  },
  {
   "cell_type": "markdown",
   "metadata": {
    "deletable": false,
    "editable": false,
    "nbgrader": {
     "checksum": "8e0b4ad38d41b409854712a263e3e13b",
     "grade": false,
     "grade_id": "cell-7b7d33fc8ac3d5dd",
     "locked": true,
     "schema_version": 1,
     "solution": false
    }
   },
   "source": [
    "## Questão 4\n",
    "\n",
    "Qual o valor exato de $\\int_0^\\pi \\sin(x) dx$?"
   ]
  },
  {
   "cell_type": "code",
   "execution_count": 14,
   "metadata": {
    "deletable": false,
    "nbgrader": {
     "checksum": "66fcfdcdf18425b63b33b193228f7b1a",
     "grade": false,
     "grade_id": "cell-9f1a2fa17896271f",
     "locked": false,
     "schema_version": 1,
     "solution": true
    }
   },
   "outputs": [],
   "source": [
    "#exact = 2\n",
    "\n",
    "# YOUR CODE HERE\n",
    "exact = math.cos(0) - math.cos(math.pi)\n",
    "#raise NotImplementedError()"
   ]
  },
  {
   "cell_type": "code",
   "execution_count": 15,
   "metadata": {},
   "outputs": [],
   "source": [
    "def second_function(n, a, b):\n",
    "    t,w = jacobi(n)\n",
    "    n = t.shape[0]\n",
    "    x = np.zeros(n)\n",
    "    y = np.zeros(n)\n",
    "    for i in range(n):\n",
    "        x[i] = (((b-a)*(t[i]))+a+b)/2\n",
    "        y[i] = math.sin(x[i])\n",
    "    return w, y"
   ]
  },
  {
   "cell_type": "code",
   "execution_count": null,
   "metadata": {
    "deletable": false,
    "editable": false,
    "nbgrader": {
     "checksum": "50d87b280750848c401f44b4580a36e8",
     "grade": true,
     "grade_id": "cell-e9a7014e37ceb68d",
     "locked": true,
     "points": 1,
     "schema_version": 1,
     "solution": false
    }
   },
   "outputs": [],
   "source": []
  },
  {
   "cell_type": "markdown",
   "metadata": {
    "deletable": false,
    "editable": false,
    "nbgrader": {
     "checksum": "f02287b9e4b64f411db89c9b478a3a11",
     "grade": false,
     "grade_id": "cell-baf3fee7924ce920",
     "locked": true,
     "schema_version": 1,
     "solution": false
    }
   },
   "source": [
    "Inicie o vetor ```difExac``` com as diferenças entre os valores encontrados para $n=3,4,5$ e o valor exato."
   ]
  },
  {
   "cell_type": "code",
   "execution_count": 16,
   "metadata": {
    "deletable": false,
    "nbgrader": {
     "checksum": "6ceedb688ff9047d7aa139c80a850095",
     "grade": false,
     "grade_id": "cell-249135c994f6e4c3",
     "locked": false,
     "schema_version": 1,
     "solution": true
    }
   },
   "outputs": [],
   "source": [
    "#difExac[0] guarda exact - resultado pra n=3\n",
    "#difExac[1] guarda exact - resultado pra n=4\n",
    "#difExac[2] guarda exact - resultado pra n=5\n",
    "#difExac =\n",
    "\n",
    "# YOUR CODE HERE\n",
    "difExac = np.zeros(3)\n",
    "a = 0\n",
    "b = math.pi\n",
    "n = 2\n",
    "w, y = second_function(n, a, b)\n",
    "difExac[0] = exact - gaussLegendre(y, n, a, b, w)\n",
    "n = 3\n",
    "w, y = second_function(n, a, b)\n",
    "difExac[1] = exact - gaussLegendre(y, n, a, b, w)\n",
    "n = 4\n",
    "w, y = second_function(n, a, b)\n",
    "difExac[2] = exact - gaussLegendre(y, n, a, b, w)\n",
    "\n",
    "# raise NotImplementedError()"
   ]
  },
  {
   "cell_type": "code",
   "execution_count": null,
   "metadata": {
    "deletable": false,
    "editable": false,
    "nbgrader": {
     "checksum": "09bcf1c424b9d547697f8912957d63b7",
     "grade": true,
     "grade_id": "cell-a183019bae6ee8ed",
     "locked": true,
     "points": 1,
     "schema_version": 1,
     "solution": false
    }
   },
   "outputs": [],
   "source": []
  },
  {
   "cell_type": "code",
   "execution_count": 17,
   "metadata": {
    "deletable": false,
    "editable": false,
    "nbgrader": {
     "checksum": "650529424c9d9ebf6b19d6f6b8b38049",
     "grade": false,
     "grade_id": "cell-afcebec03110dd9c",
     "locked": true,
     "schema_version": 1,
     "solution": false
    }
   },
   "outputs": [
    {
     "name": "stdout",
     "output_type": "stream",
     "text": [
      "[ 6.41804253e-02 -1.38891361e-03  1.57715423e-05]\n"
     ]
    }
   ],
   "source": [
    "print(difExac)"
   ]
  },
  {
   "cell_type": "markdown",
   "metadata": {
    "deletable": false,
    "editable": false,
    "nbgrader": {
     "checksum": "ba8c9eb17de9273ef3dae3fbbfd124d8",
     "grade": false,
     "grade_id": "cell-d38a034f0b2f77a4",
     "locked": true,
     "schema_version": 1,
     "solution": false
    }
   },
   "source": [
    "## Questão 5\n",
    "\n",
    "Seja $f(x)=e^x$. Avalie $f(x)$ em $x_0=-\\frac{\\sqrt{3}}{3}$ e $x_1=\\frac{\\sqrt{3}}{3}$."
   ]
  },
  {
   "cell_type": "code",
   "execution_count": 18,
   "metadata": {
    "deletable": false,
    "nbgrader": {
     "checksum": "2364f888c4fba86ff4b3f8923021e42e",
     "grade": false,
     "grade_id": "cell-f768f7697710eb50",
     "locked": false,
     "schema_version": 1,
     "solution": true
    }
   },
   "outputs": [],
   "source": [
    "#y[0] guarda f(x0)\n",
    "#y[1] guarda f(x1)\n",
    "#y = \n",
    "\n",
    "# YOUR CODE HERE\n",
    "y = np.zeros(2)\n",
    "x = np.zeros(2)\n",
    "x[1] = math.sqrt(3)/2\n",
    "x[0] = (x[1])*(-1)\n",
    "y[0] = math.exp(x[0])\n",
    "y[1] = math.exp(x[1])\n",
    "#raise NotImplementedError()"
   ]
  },
  {
   "cell_type": "code",
   "execution_count": null,
   "metadata": {
    "deletable": false,
    "editable": false,
    "nbgrader": {
     "checksum": "a357ef6a35f6684359f35e4d36d88e66",
     "grade": true,
     "grade_id": "cell-81055d42ea8b7cd9",
     "locked": true,
     "points": 1,
     "schema_version": 1,
     "solution": false
    }
   },
   "outputs": [],
   "source": []
  },
  {
   "cell_type": "code",
   "execution_count": 19,
   "metadata": {
    "deletable": false,
    "editable": false,
    "nbgrader": {
     "checksum": "65baab9e388bd629d0f11b3da18b7ae0",
     "grade": false,
     "grade_id": "cell-dbf640e3b2867050",
     "locked": true,
     "schema_version": 1,
     "solution": false
    }
   },
   "outputs": [
    {
     "name": "stdout",
     "output_type": "stream",
     "text": [
      "[0.42062003 2.37744268]\n"
     ]
    }
   ],
   "source": [
    "print(y)"
   ]
  },
  {
   "cell_type": "markdown",
   "metadata": {
    "deletable": false,
    "editable": false,
    "nbgrader": {
     "checksum": "7348af4b2f0ff3f9b41b9863725da834",
     "grade": false,
     "grade_id": "cell-b818bc9c830ac428",
     "locked": true,
     "schema_version": 1,
     "solution": false
    }
   },
   "source": [
    "Determine o polinômio linear $p(x)$ que passa pelos pontos ($x_0$,y[0]) e ($x_1$,y[1])."
   ]
  },
  {
   "cell_type": "code",
   "execution_count": 20,
   "metadata": {
    "deletable": false,
    "nbgrader": {
     "checksum": "5914c64df5bbc96ce146cff5d97224a0",
     "grade": false,
     "grade_id": "cell-6458960881d9f29c",
     "locked": false,
     "schema_version": 1,
     "solution": true
    }
   },
   "outputs": [],
   "source": [
    "#p[0] guarda o coeficiente de x^0\n",
    "#p[1] guarda o coeficiente de x^1\n",
    "#p = \n",
    "\n",
    "# YOUR CODE HERE\n",
    "p = np.zeros(2)\n",
    "#p[1] = x^1 = angular coefficient = (y2-y1)/(x2-x1)\n",
    "p[1] = (y[1]-y[0])/(x[1]-x[0])\n",
    "\n",
    "#p[0] = x^0 = linear coefficient --> y[0] = p[1]*x[0] + p[0] --> p[0] = y[0] - p[1]*x[0]\n",
    "p[0] = y[0] - p[1]*x[0]\n",
    "#raise NotImplementedError()"
   ]
  },
  {
   "cell_type": "code",
   "execution_count": 21,
   "metadata": {
    "deletable": false,
    "editable": false,
    "nbgrader": {
     "checksum": "0cae09e063ed513859ca9db0dc815f7e",
     "grade": false,
     "grade_id": "cell-ec0340490c29d4de",
     "locked": true,
     "schema_version": 1,
     "solution": false
    }
   },
   "outputs": [
    {
     "name": "stdout",
     "output_type": "stream",
     "text": [
      "[1.39903135 1.12977208]\n"
     ]
    }
   ],
   "source": [
    "print(p)"
   ]
  },
  {
   "cell_type": "code",
   "execution_count": null,
   "metadata": {
    "deletable": false,
    "editable": false,
    "nbgrader": {
     "checksum": "7c4037ef8c67e300d5a06812c42a3e9c",
     "grade": true,
     "grade_id": "cell-5418addb6d87c943",
     "locked": true,
     "points": 1,
     "schema_version": 1,
     "solution": false
    }
   },
   "outputs": [],
   "source": []
  },
  {
   "cell_type": "markdown",
   "metadata": {
    "deletable": false,
    "editable": false,
    "nbgrader": {
     "checksum": "280c87000f35d467778bae6a6373de46",
     "grade": false,
     "grade_id": "cell-330b6e847a6dfe88",
     "locked": true,
     "schema_version": 1,
     "solution": false
    }
   },
   "source": [
    "Calcule analiticamente $\\int_{-1}^1p(x)dx$."
   ]
  },
  {
   "cell_type": "code",
   "execution_count": 22,
   "metadata": {
    "deletable": false,
    "nbgrader": {
     "checksum": "67c0dc95d7aa77dd4cfa5c3b9991094c",
     "grade": false,
     "grade_id": "cell-3d8da7afbb17b965",
     "locked": false,
     "schema_version": 1,
     "solution": true
    }
   },
   "outputs": [],
   "source": [
    "#integAn = ((p[1]/2) + p[0]) - ((p[1]/2)*((-1)ˆ2) + p[0]*(-1))\n",
    "\n",
    "# YOUR CODE HERE\n",
    "integAn = ((p[1]/2) + p[0]) - ((p[1]/2) + p[0]*(-1))\n",
    "# raise NotImplementedError()"
   ]
  },
  {
   "cell_type": "code",
   "execution_count": null,
   "metadata": {
    "deletable": false,
    "editable": false,
    "nbgrader": {
     "checksum": "5980a008051b89da7a3125eb4bfce8da",
     "grade": true,
     "grade_id": "cell-c902cc1d9b925d3e",
     "locked": true,
     "points": 1,
     "schema_version": 1,
     "solution": false
    }
   },
   "outputs": [],
   "source": []
  },
  {
   "cell_type": "markdown",
   "metadata": {
    "deletable": false,
    "editable": false,
    "nbgrader": {
     "checksum": "548246df92ed593cb27a61d1c6ae0c44",
     "grade": false,
     "grade_id": "cell-63ecc15f78f29371",
     "locked": true,
     "schema_version": 1,
     "solution": false
    }
   },
   "source": [
    "Agora calcule $\\int_{-1}^1e^xdx$ usando $n=2$ na função de Gauss-Legendre que você criou."
   ]
  },
  {
   "cell_type": "code",
   "execution_count": 23,
   "metadata": {
    "deletable": false,
    "nbgrader": {
     "checksum": "a5e32f701afc85710f83150779965f2a",
     "grade": false,
     "grade_id": "cell-5c111e25fec6a923",
     "locked": false,
     "schema_version": 1,
     "solution": true
    }
   },
   "outputs": [],
   "source": [
    "#integGL =\n",
    "\n",
    "# YOUR CODE HERE\n",
    "def third_function(n, a, b):\n",
    "    t,w = jacobi(n)\n",
    "    n = t.shape[0]\n",
    "    x = np.zeros(n)\n",
    "    y = np.zeros(n)\n",
    "    for i in range(n):\n",
    "        x[i] = (((b-a)*(t[i]))+a+b)/2\n",
    "        y[i] = math.exp(x[i])\n",
    "    return w, y\n",
    "\n",
    "n = 2\n",
    "a = -1\n",
    "b = 1\n",
    "w, y = third_function(n, a, b)\n",
    "integGL = gaussLegendre(y, n, a, b, w)\n",
    "# raise NotImplementedError()"
   ]
  },
  {
   "cell_type": "code",
   "execution_count": null,
   "metadata": {
    "deletable": false,
    "editable": false,
    "nbgrader": {
     "checksum": "b0fd57406562366c5d4de50762eec75f",
     "grade": true,
     "grade_id": "cell-7c5458ec4d828f70",
     "locked": true,
     "points": 1,
     "schema_version": 1,
     "solution": false
    }
   },
   "outputs": [],
   "source": []
  },
  {
   "cell_type": "code",
   "execution_count": 24,
   "metadata": {
    "deletable": false,
    "editable": false,
    "nbgrader": {
     "checksum": "723a0978fd95e4365f20c47445797b73",
     "grade": false,
     "grade_id": "cell-e9dac2662cee8106",
     "locked": true,
     "schema_version": 1,
     "solution": false
    }
   },
   "outputs": [
    {
     "name": "stdout",
     "output_type": "stream",
     "text": [
      "-0.4553666133805483\n"
     ]
    }
   ],
   "source": [
    "print(integGL - integAn)"
   ]
  },
  {
   "cell_type": "markdown",
   "metadata": {
    "deletable": false,
    "editable": false,
    "nbgrader": {
     "checksum": "82b6ed07eeb6d9fa5813ee7985de72de",
     "grade": false,
     "grade_id": "cell-ada513dd73f5af82",
     "locked": true,
     "schema_version": 1,
     "solution": false
    }
   },
   "source": [
    "Explique os resultados."
   ]
  },
  {
   "cell_type": "markdown",
   "metadata": {
    "deletable": false,
    "nbgrader": {
     "checksum": "98457e8c75093e70093766e170ef26ff",
     "grade": true,
     "grade_id": "cell-14eaa15bb1e4fffc",
     "locked": false,
     "points": 1,
     "schema_version": 1,
     "solution": true
    }
   },
   "source": [
    "YOUR ANSWER HERE"
   ]
  }
 ],
 "metadata": {
  "kernelspec": {
   "display_name": "Python 3",
   "language": "python",
   "name": "python3"
  },
  "language_info": {
   "codemirror_mode": {
    "name": "ipython",
    "version": 3
   },
   "file_extension": ".py",
   "mimetype": "text/x-python",
   "name": "python",
   "nbconvert_exporter": "python",
   "pygments_lexer": "ipython3",
   "version": "3.6.5"
  }
 },
 "nbformat": 4,
 "nbformat_minor": 2
}
