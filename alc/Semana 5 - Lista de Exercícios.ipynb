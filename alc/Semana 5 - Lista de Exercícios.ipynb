{
 "cells": [
  {
   "cell_type": "code",
   "execution_count": 2,
   "metadata": {},
   "outputs": [],
   "source": [
    "import numpy as np"
   ]
  },
  {
   "cell_type": "markdown",
   "metadata": {},
   "source": [
    "# Exercício 1\n",
    "\n",
    "(a) Calcule a decomposição (manualmente) P A = LU Não precisa resolver Ly = P b, nem Ux = y."
   ]
  },
  {
   "cell_type": "code",
   "execution_count": 3,
   "metadata": {},
   "outputs": [
    {
     "data": {
      "text/plain": [
       "array([[ True,  True,  True],\n",
       "       [ True,  True,  True],\n",
       "       [ True,  True,  True]])"
      ]
     },
     "execution_count": 3,
     "metadata": {},
     "output_type": "execute_result"
    }
   ],
   "source": [
    "A = np.array([[3, 2, 4], [1, 1, 2], [4, 3, -2]], dtype=float)\n",
    "U = A.copy()\n",
    "L = np.eye(3)\n",
    "P = np.eye(3)\n",
    "L[1][0] = A[1][0]/U[0][0]\n",
    "U[1] = U[1] - U[0]/3\n",
    "\n",
    "L[2][0] = A[2][0]/U[0][0]\n",
    "U[2] = U[2] - U[0]*4/3\n",
    "\n",
    "L[2][1] = U[1][1]/U[2][1]\n",
    "U[2] = np.around(U[2]-U[1])\n",
    "\n",
    "P@A == np.around(L@U)"
   ]
  },
  {
   "cell_type": "markdown",
   "metadata": {},
   "source": [
    "(b) Calcule o determinante de A a partir de P, L e U."
   ]
  },
  {
   "cell_type": "markdown",
   "metadata": {},
   "source": [
    "> Como det(A.P) = det(A).det(P) e det(P) = 1 (identidade), det(A.P) = det(A)\n",
    ">\n",
    "> Sendo assim, procuramos det(L.U) = det(L).det(U). Como L e U são matrizes triangulares, os seus determinantes = produto de suas matrizes diagonais.\n",
    ">\n",
    "> Como matriz diagonal de L = [1, 1, 1], det(L) = 1\n",
    ">\n",
    "> Já U, temos 3 . 1/3 . -8 = -8.\n",
    ">\n",
    "> det(A) = 1 . -8 = -8\n",
    ">\n",
    "> Isso pode ser observado abaixo:"
   ]
  },
  {
   "cell_type": "code",
   "execution_count": 3,
   "metadata": {},
   "outputs": [
    {
     "data": {
      "text/plain": [
       "-8.0"
      ]
     },
     "execution_count": 3,
     "metadata": {},
     "output_type": "execute_result"
    }
   ],
   "source": [
    "round(np.linalg.det(A))"
   ]
  },
  {
   "cell_type": "markdown",
   "metadata": {},
   "source": [
    "# Exercício 2\n",
    "\n",
    "Considere o sistema linear Ax = b, onde a matriz A = [[9 18],[18 52]] é simétrica e definida positiva. Sendo b = [3 4], encontre a solução usando a Decomposição de Cholesky."
   ]
  },
  {
   "cell_type": "code",
   "execution_count": 4,
   "metadata": {},
   "outputs": [
    {
     "data": {
      "text/plain": [
       "(array([ 0.58333333, -0.125     ]), array([3., 4.]))"
      ]
     },
     "execution_count": 4,
     "metadata": {},
     "output_type": "execute_result"
    }
   ],
   "source": [
    "import math \n",
    "\n",
    "L = np.zeros([2,2])\n",
    "LT = np.zeros([2,2])\n",
    "\n",
    "A = np.array([[9,18],[18,52]])\n",
    "b = np.array([3,4])\n",
    "\n",
    "#  9  18  * x = 3\n",
    "#  18 52        4\n",
    "\n",
    "L[0][0] = 3\n",
    "LT[0][0] = 3\n",
    "L[1][1] = 4\n",
    "LT[1][1] = 4\n",
    "L[1][0] = A[1][0]/L[0][0]\n",
    "LT[0][1] = A[0][1]/L[0][0]\n",
    "\n",
    "\n",
    "x = np.zeros(2)\n",
    "# 9 18  = 3 \n",
    "# 0 16  = -2\n",
    "# x[1] = -2/16\n",
    "# 9*x[0] + 18*(-1/8) = 3\n",
    "# x[0] = (3-(-18/8))/9\n",
    "x[1] = -2/16\n",
    "x[0] = (3-(-18/8))/9\n",
    "\n",
    "x, A@x"
   ]
  },
  {
   "cell_type": "markdown",
   "metadata": {},
   "source": [
    "# Exercício 3\n",
    "\n",
    "(a) Para b = [3 4], calcule o erro residual (r = b − Ax) da solução aproximada dada por x⁽⁰⁾ = [0, 5 −0, 1]"
   ]
  },
  {
   "cell_type": "code",
   "execution_count": 7,
   "metadata": {},
   "outputs": [
    {
     "data": {
      "text/plain": [
       "array([0.3, 0.2])"
      ]
     },
     "execution_count": 7,
     "metadata": {},
     "output_type": "execute_result"
    }
   ],
   "source": [
    "A = np.array([[9,18],[18,52]])\n",
    "b = np.array([3,4])\n",
    "x0 = [0.5, -0.1]\n",
    "r0 = b - A@x0\n",
    "r0"
   ]
  },
  {
   "cell_type": "markdown",
   "metadata": {},
   "source": [
    "(b) Use r para executar um refinamento da solução x (0)"
   ]
  },
  {
   "cell_type": "code",
   "execution_count": 17,
   "metadata": {},
   "outputs": [
    {
     "name": "stdout",
     "output_type": "stream",
     "text": [
      "c0: \n",
      " [ 0.08333333 -0.025     ]\n"
     ]
    },
    {
     "data": {
      "text/plain": [
       "array([3., 4.])"
      ]
     },
     "execution_count": 17,
     "metadata": {},
     "output_type": "execute_result"
    }
   ],
   "source": [
    "# A@c0 = r0\n",
    "c0 = np.linalg.solve(A, r0)\n",
    "print(\"c0: \\n\", c0)\n",
    "x1 = x0 + c0\n",
    "A@x1"
   ]
  },
  {
   "cell_type": "markdown",
   "metadata": {},
   "source": [
    "# Exercício 4 \n",
    "\n",
    " Assinale V para verdadeiro ou F para falso e justifique:"
   ]
  },
  {
   "cell_type": "markdown",
   "metadata": {},
   "source": [
    ">( F )  A decomposição de Cholesky pode ser aplicada a qualquer matriz AtA tal que as entradas de A são números reais.\n",
    ">\n",
    ">    A decomposição de Cholesky só pode ser aplicada para matrizes simétrias e definidas positivas.\n",
    ">\n",
    ">( F )  Se C for uma matriz de permutação, então det(C A) = det(A)\n",
    ">\n",
    ">    Única coisa que podemos afirmar é que o |det(C A)| = |det(A)|, pois quando trocamos uma linha de uma matriz de permutação, invertemos o sinal do determinante.\n",
    ">\n",
    ">( F ) A fatoração LU é aproximadamente duas vezes mais demorada que a fatoração Cholesky, mas ambas requerem o mesmo espaço em memória.\n",
    ">\n",
    ">    De acordo com esse artigo: [https://www.researchgate.net/publication/316222249_Comparativo_entre_os_\n",
    "Metodos_Numericos_Exatos_Fatoracao_LU_Doolittle_e_Fatoracao_de_Choleskys](https://www.researchgate.net/publication/316222249_Comparativo_entre_os_Metodos_Numericos_Exatos_Fatoracao_LU_Doolittle_e_Fatoracao_de_Choleskys) , a fatoração de Cholesky se apresenta em torno de 60% mais eficiente que a fatoração LU"
   ]
  },
  {
   "cell_type": "code",
   "execution_count": null,
   "metadata": {},
   "outputs": [],
   "source": []
  }
 ],
 "metadata": {
  "kernelspec": {
   "display_name": "Python 3",
   "language": "python",
   "name": "python3"
  }
 },
 "nbformat": 4,
 "nbformat_minor": 2
}
