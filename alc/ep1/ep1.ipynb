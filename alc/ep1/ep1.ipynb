{
 "cells": [
  {
   "cell_type": "markdown",
   "metadata": {},
   "source": [
    "Before you turn this problem in, make sure everything runs as expected. First, **restart the kernel** (in the menubar, select Kernel$\\rightarrow$Restart) and then **run all cells** (in the menubar, select Cell$\\rightarrow$Run All).\n",
    "\n",
    "Make sure you fill in any place that says `YOUR CODE HERE` or \"YOUR ANSWER HERE\", as well as your name and collaborators below:"
   ]
  },
  {
   "cell_type": "code",
   "execution_count": 1,
   "metadata": {},
   "outputs": [],
   "source": [
    "NAME = \"Breno Poggiali de Sousa\"\n",
    "COLLABORATORS = \"\""
   ]
  },
  {
   "cell_type": "markdown",
   "metadata": {},
   "source": [
    "---"
   ]
  },
  {
   "cell_type": "markdown",
   "metadata": {
    "deletable": false,
    "editable": false,
    "nbgrader": {
     "checksum": "61fc6ef4c9739e9a729688eaf7614a82",
     "grade": false,
     "grade_id": "cell-fd33288d55892950",
     "locked": true,
     "schema_version": 1,
     "solution": false
    }
   },
   "source": [
    "# Exercício Prático 1: Convolução\n",
    "\n",
    "Neste exercício iremos implementar a função que calcula a convolução de uma matriz ```top``` sobre uma imagem. Não é permitido usar as funções correlate ou convolve de scipy.ndimage.filters.\n"
   ]
  },
  {
   "cell_type": "code",
   "execution_count": 2,
   "metadata": {
    "deletable": false,
    "editable": false,
    "nbgrader": {
     "checksum": "de22eb879d7bac8354fc474a58267e50",
     "grade": false,
     "grade_id": "cell-249fd9dfae6553eb",
     "locked": true,
     "schema_version": 1,
     "solution": false
    }
   },
   "outputs": [],
   "source": [
    "# importa as bibliotecas e seta alguns parâmetros\n",
    "\n",
    "%matplotlib inline\n",
    "import numpy as np\n",
    "from sklearn.datasets import fetch_openml\n",
    "from matplotlib import pyplot as plt, rcParams\n",
    "rcParams['figure.figsize'] = 3, 6\n",
    "%precision 4\n",
    "np.set_printoptions(precision=4, linewidth=100)"
   ]
  },
  {
   "cell_type": "code",
   "execution_count": 3,
   "metadata": {
    "deletable": false,
    "editable": false,
    "nbgrader": {
     "checksum": "fbeb26fc91a0ebb6665dbf37a2ab2e83",
     "grade": false,
     "grade_id": "cell-ad6b84cbfcb7a919",
     "locked": true,
     "schema_version": 1,
     "solution": false
    }
   },
   "outputs": [],
   "source": [
    "# define duas funções para imprimir matrizes como imagens\n",
    "\n",
    "def plots(ims, interp=False, titles=None):\n",
    "    ims=np.array(ims)\n",
    "    mn,mx=ims.min(),ims.max()\n",
    "    f = plt.figure(figsize=(12,24))\n",
    "    for i in range(len(ims)):\n",
    "        sp=f.add_subplot(1, len(ims), i+1)\n",
    "        if not titles is None: sp.set_title(titles[i], fontsize=18)\n",
    "        plt.imshow(ims[i], interpolation=None if interp else 'none', vmin=mn,vmax=mx)\n",
    "\n",
    "def plot(im, interp=False):\n",
    "    f = plt.figure(figsize=(3,6), frameon=True)\n",
    "    # plt.show(im)\n",
    "    plt.imshow(im, interpolation=None if interp else 'none')\n",
    "\n",
    "plt.gray()\n",
    "plt.close()"
   ]
  },
  {
   "cell_type": "code",
   "execution_count": 4,
   "metadata": {
    "deletable": false,
    "editable": false,
    "nbgrader": {
     "checksum": "46e9d0df278b69c4ebf59b4a55db35e3",
     "grade": false,
     "grade_id": "cell-97076844dd033cdb",
     "locked": true,
     "schema_version": 1,
     "solution": false
    }
   },
   "outputs": [],
   "source": [
    "# carrega um '5' escrito a mão a partir do arquivo exemplo.npy\n",
    "with open('entrada.npy','rb') as infile:\n",
    "    image = np.load(infile)"
   ]
  },
  {
   "cell_type": "code",
   "execution_count": 5,
   "metadata": {
    "deletable": false,
    "editable": false,
    "nbgrader": {
     "checksum": "a0e92bfeb021e395e0ebd4a23763ca45",
     "grade": false,
     "grade_id": "cell-4e4dd45892b3d1dc",
     "locked": true,
     "schema_version": 1,
     "solution": false
    }
   },
   "outputs": [],
   "source": [
    "# Baixa e carrega o dataset mnist_784 que contém 70000 dígitos escritos a mão.\n",
    "# Ele foi comentado pois não será necessário.\n",
    "\n",
    "# from sklearn.datasets import fetch_openml\n",
    "# mnist = fetch_openml('mnist_784', version=1, cache=True)\n",
    "# images = np.reshape(mnist['data'], (70000, 28, 28))\n",
    "# labels = mnist['target'].astype(int)\n",
    "# n=len(images)\n",
    "# images.shape, labels.shape\n",
    "# images = images/255\n",
    "# image = images[0]"
   ]
  },
  {
   "cell_type": "code",
   "execution_count": 6,
   "metadata": {
    "deletable": false,
    "editable": false,
    "nbgrader": {
     "checksum": "7e8e23dd25fa8f69c9b99a42e7e0aeda",
     "grade": false,
     "grade_id": "cell-9f64e4164e234b42",
     "locked": true,
     "schema_version": 1,
     "solution": false
    }
   },
   "outputs": [
    {
     "data": {
      "image/png": "[encoded data removed]",
      "text/plain": [
       "<Figure size 216x432 with 1 Axes>"
      ]
     },
     "metadata": {},
     "output_type": "display_data"
    }
   ],
   "source": [
    "# plota imagem\n",
    "plot(image)"
   ]
  },
  {
   "cell_type": "code",
   "execution_count": 7,
   "metadata": {
    "deletable": false,
    "editable": false,
    "nbgrader": {
     "checksum": "5f60a9fd872dc959f8428a87e69e1c88",
     "grade": false,
     "grade_id": "cell-9d8c1eced4d0027a",
     "locked": true,
     "schema_version": 1,
     "solution": false
    }
   },
   "outputs": [
    {
     "data": {
      "image/png": "[encoded data removed]",
      "text/plain": [
       "<Figure size 216x432 with 1 Axes>"
      ]
     },
     "metadata": {},
     "output_type": "display_data"
    }
   ],
   "source": [
    "# define e plota matriz top\n",
    "\n",
    "top=[[-1,-1,-1],\n",
    "     [ 1, 1, 1],\n",
    "     [ 0, 0, 0]]\n",
    "\n",
    "top = np.array(top)\n",
    "plot(top)"
   ]
  },
  {
   "cell_type": "code",
   "execution_count": 162,
   "metadata": {
    "deletable": false,
    "nbgrader": {
     "checksum": "ae2c63d0bd588941ce498b2e039a5a20",
     "grade": false,
     "grade_id": "convolucao",
     "locked": false,
     "schema_version": 1,
     "solution": true
    }
   },
   "outputs": [],
   "source": [
    "def convolucao(top, image):\n",
    "    \"\"\" Calcula a matriz result que é obtida pela convolução da matriz top\n",
    "        sobre a imagem image.\n",
    "        \n",
    "        Dicas:\n",
    "        1. Inicializar a matriz result com np.zeros ou np.empty (Qual o número de linhas? E de colunas?)\n",
    "        2. Iterar sobre cada posição de result fazendo a combinação linear dos coeficientes de top e das\n",
    "           posições correspondentes em image. Note que é possível multiplicar matrizes elemento a elemento\n",
    "           usando o operador *. Consulte np.sum() também.\n",
    "        3. Retornar result\n",
    "    \"\"\"\n",
    "    result = np.zeros([image.shape[0]-top.shape[0]+1, image.shape[1]-top.shape[0]+1])\n",
    "    result = result\n",
    "    for line in range(result.shape[0]):\n",
    "        for col in range(result.shape[1]):\n",
    "            matrix = np.array(image[line:line+top.shape[0], col:col+top.shape[1]])\n",
    "            matrix = top*matrix\n",
    "            result.itemset((line, col), np.sum(matrix))\n",
    "    return result"
   ]
  },
  {
   "cell_type": "code",
   "execution_count": 163,
   "metadata": {
    "deletable": false,
    "editable": false,
    "nbgrader": {
     "checksum": "ec8bbe53c259519feb935d1180c7925f",
     "grade": false,
     "grade_id": "cell-022d04fb64c713eb",
     "locked": true,
     "schema_version": 1,
     "solution": false
    }
   },
   "outputs": [
    {
     "data": {
      "image/png": "[encoded data removed]",
      "text/plain": [
       "<Figure size 216x432 with 1 Axes>"
      ]
     },
     "metadata": {},
     "output_type": "display_data"
    }
   ],
   "source": [
    "# plota result\n",
    "result = convolucao(top,image)\n",
    "plot(result)"
   ]
  },
  {
   "cell_type": "code",
   "execution_count": 164,
   "metadata": {
    "deletable": false,
    "editable": false,
    "nbgrader": {
     "checksum": "2d240c081f4bcb15f7b13267213b3fd1",
     "grade": true,
     "grade_id": "testes-mesmas-dimensoes",
     "locked": true,
     "points": 4,
     "schema_version": 1,
     "solution": false
    }
   },
   "outputs": [],
   "source": [
    "with open('saida.npy','rb') as infile:\n",
    "    answer = np.load(infile)\n",
    "assert (result == answer).all()\n"
   ]
  },
  {
   "cell_type": "code",
   "execution_count": 158,
   "metadata": {
    "deletable": false,
    "editable": false,
    "nbgrader": {
     "checksum": "e98d3549e84a01b13c907e54c7c3372a",
     "grade": true,
     "grade_id": "testes-dimensoes-diferentes",
     "locked": true,
     "points": 1,
     "schema_version": 1,
     "solution": false
    }
   },
   "outputs": [],
   "source": [
    "# additional *hidden* tests\n"
   ]
  }
 ],
 "metadata": {
  "kernelspec": {
   "display_name": "Python 3",
   "language": "python",
   "name": "python3"
  },
  "language_info": {
   "codemirror_mode": {
    "name": "ipython",
    "version": 3
   },
   "file_extension": ".py",
   "mimetype": "text/x-python",
   "name": "python",
   "nbconvert_exporter": "python",
   "pygments_lexer": "ipython3",
   "version": "3.6.5"
  }
 },
 "nbformat": 4,
 "nbformat_minor": 2
}
