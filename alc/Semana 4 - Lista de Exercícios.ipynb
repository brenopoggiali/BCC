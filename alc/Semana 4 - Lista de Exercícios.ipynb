{
 "cells": [
  {
   "cell_type": "code",
   "execution_count": 1,
   "metadata": {},
   "outputs": [],
   "source": [
    "import numpy as np"
   ]
  },
  {
   "cell_type": "markdown",
   "metadata": {},
   "source": [
    "# Exercício 1\n",
    "\n",
    "(a) Sem resolver o sistema, determine se este possui uma única solução."
   ]
  },
  {
   "cell_type": "markdown",
   "metadata": {},
   "source": [
    "> Sim. Esse sistema possui solução pois possui um pivô em cada linha"
   ]
  },
  {
   "cell_type": "markdown",
   "metadata": {},
   "source": [
    "(b) Resolva utilizando o método das substituições sucessivas. (ONDE . = * ou \"vezes\")"
   ]
  },
  {
   "cell_type": "markdown",
   "metadata": {},
   "source": [
    "> 4.x1 = 12, -2.x1 + 5.x2 = 4, 1.x1 + 7,x2 + 3.x3 = 20\n",
    ">\n",
    "> x1 = 3 , -2.3 + 5.x2 = 4, 1.3 + 7.x2 + 3.x3 = 20\n",
    ">\n",
    "> x1 = 3 , x2 = 2 , 3 + 7.2 + 3.x3 = 20\n",
    ">\n",
    "> x1 = 3 , x2 = 2 , x3 = 1\n",
    ">\n",
    ">[3, 2, 1]"
   ]
  },
  {
   "cell_type": "markdown",
   "metadata": {},
   "source": [
    "# Exercício 2\n",
    "\n",
    "Modifique o método LU (sem pivotação) abaixo para que funcione in-place. Isto é, a implementação não deve alocar memória nova para L ou U, mas sim sobrescrever A."
   ]
  },
  {
   "cell_type": "code",
   "execution_count": 2,
   "metadata": {},
   "outputs": [
    {
     "name": "stdout",
     "output_type": "stream",
     "text": [
      "A:\n",
      "array([[ 3.        ,  2.        ,  4.        ],\n",
      "       [ 0.33333333,  0.33333333,  0.66666667],\n",
      "       [ 1.33333333,  1.        , -8.        ]])\n",
      "L:\n",
      "array([[ 3.        ,  2.        ,  4.        ],\n",
      "       [ 0.33333333,  0.33333333,  0.66666667],\n",
      "       [ 1.33333333,  1.        , -8.        ]])\n"
     ]
    }
   ],
   "source": [
    "import pprint\n",
    "import scipy.linalg\n",
    "\n",
    "A = np.array([[3,2,4],[1,1,2],[4,3,-2]],dtype=float)\n",
    "\n",
    "def LU(A):\n",
    "    m, n = A.shape\n",
    "    for k in range(n - 1):\n",
    "        for j in range(k+1, n):\n",
    "            m         = A[j,k] / A[k,k]\n",
    "            A[j,k:n] -= m * A[k,k:n]\n",
    "            A[j,k]    = m\n",
    "    return A\n",
    "\n",
    "L = LU(A)\n",
    "\n",
    "print(\"A:\")\n",
    "pprint.pprint(A)\n",
    "\n",
    "print(\"L:\")\n",
    "pprint.pprint(L)"
   ]
  },
  {
   "cell_type": "markdown",
   "metadata": {},
   "source": [
    "# Exercício 3\n",
    "\n",
    "(a) Calcule a decomposição A = LU. Não precisa resolver Ly = b, nem Ux = y."
   ]
  },
  {
   "cell_type": "code",
   "execution_count": 3,
   "metadata": {},
   "outputs": [
    {
     "name": "stdout",
     "output_type": "stream",
     "text": [
      "L \n",
      " [[1.         0.         0.        ]\n",
      " [0.33333333 1.         0.        ]\n",
      " [1.33333333 1.         1.        ]] \n",
      "U \n",
      " [[ 3.          2.          4.        ]\n",
      " [ 0.          0.33333333  0.66666667]\n",
      " [ 0.          0.         -8.        ]]\n"
     ]
    }
   ],
   "source": [
    "from scipy.linalg import solve_triangular\n",
    "\n",
    "A = np.array([[3,2,4],[1,1,2],[4,3,-2]], dtype=float)\n",
    "\n",
    "B = LU(A)\n",
    "L = np.eye(3)\n",
    "U = np.zeros((3,3))\n",
    "for i in range(3):\n",
    "    for j in range(3):\n",
    "        if (j >= i):\n",
    "            U[i][j] = B[i][j]\n",
    "        else:\n",
    "            L[i][j] = B[i][j]\n",
    "print(\"L \\n\", L, \"\\nU \\n\", U)"
   ]
  },
  {
   "cell_type": "markdown",
   "metadata": {},
   "source": [
    "(b) Calcule o determinante da matriz A acima."
   ]
  },
  {
   "cell_type": "code",
   "execution_count": 4,
   "metadata": {},
   "outputs": [
    {
     "data": {
      "text/plain": [
       "-8"
      ]
     },
     "execution_count": 4,
     "metadata": {},
     "output_type": "execute_result"
    }
   ],
   "source": [
    "A = np.array([[3,2,4],[1,1,2],[4,3,-2]], dtype=float)\n",
    "\n",
    "det = np.linalg.det(A)\n",
    "int(round(det))"
   ]
  },
  {
   "cell_type": "markdown",
   "metadata": {},
   "source": [
    "# Exercício 4 \n",
    "\n",
    " Sejam o sistema linear Ax = b, de ordem n, e a matriz C de ordem n e não singular. Assinale V antes da sentença se ela for verdadeira e F se for falsa e justifique:"
   ]
  },
  {
   "cell_type": "markdown",
   "metadata": {},
   "source": [
    ">( V ) A matriz CA não é singular.\n",
    ">\n",
    ">    Como o determinante do produto de duas matrizes é igual ao\n",
    "> produto de seus determinantes, e nem C, nem A tem determinante 0,\n",
    "> o determinante de CA != 0 e, por isso, CA não é singular.\n",
    ">\n",
    ">( F )  Se C for uma matriz de permutação, então det(C A) = det(A)\n",
    ">\n",
    ">    Como o determinante de toda matriz de permutação = + ou - 1,\n",
    "> e o determinante do produto de duas matrizes é igual ao produto\n",
    "> de seus determinantes, det(CA) pode ser igual det(A) ou -det(A)\n",
    ">\n",
    ">( V ) O sistema Ax = b não é necessariamente equivalente ao sistema C Ax = Cb.\n",
    ">\n",
    ">    Podemos ter b tal que Ax seja = b e Cb não necessariamente seja = Ax"
   ]
  }
 ],
 "metadata": {
  "kernelspec": {
   "display_name": "Python 3",
   "language": "python",
   "name": "python3"
  },
  "language_info": {
   "codemirror_mode": {
    "name": "ipython",
    "version": 3
   },
   "file_extension": ".py",
   "mimetype": "text/x-python",
   "name": "python",
   "nbconvert_exporter": "python",
   "pygments_lexer": "ipython3",
   "version": "3.6.5"
  }
 },
 "nbformat": 4,
 "nbformat_minor": 2
}
