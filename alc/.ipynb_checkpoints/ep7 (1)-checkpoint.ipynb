{
 "cells": [
  {
   "cell_type": "markdown",
   "metadata": {
    "deletable": false,
    "editable": false,
    "nbgrader": {
     "checksum": "4cea28a1843359931a5a3bd9dd871a7b",
     "grade": false,
     "grade_id": "cell-1cec5ee110f26162",
     "locked": true,
     "schema_version": 1,
     "solution": false
    }
   },
   "source": [
    "# Exercício Prático 7: QR e estimadores de quadrados mínimos\n",
    "\n",
    "Neste exercício vamos estudar o uso da decomposição QR na obtenção de estimadores de quadrados mínimos de uma regressão linear. A grande vantagem da decomposição QR é que ela não requer a solução direta das equações normais, que podem ser extremamente malcondicionadas. Existem diversos algoritmos para implementá-la, que possuem diferentes estabilidades. Neste EP iremos implementar:\n",
    "* o Gram-Schmidt clássico (visto em sala)\n",
    "* o Gram-Schmidt modificado\n",
    "e iremos compará-lo com um dos melhores algoritmos para QR, conhecido como Reflexões de Householder.\n",
    "\n",
    "Incluímos também a estimação dos parâmetros resolvendo as equações normais pelo método de Cholesky. No entanto, para o conjunto de dados utilizados, o sistema é tão mal condicionado que os erros numéricos impedem que Cholesky seja usado com sucesso."
   ]
  },
  {
   "cell_type": "code",
   "execution_count": 21,
   "metadata": {},
   "outputs": [],
   "source": [
    "NAME = \"Matheus Tiago Pimenta de Souza\"\n",
    "COLLABORATORS = \"Maíla Ferreira Silva\""
   ]
  },
  {
   "cell_type": "markdown",
   "metadata": {
    "deletable": false,
    "editable": false,
    "nbgrader": {
     "checksum": "0c58e08699a342ba39ecaa578a70f3a2",
     "grade": false,
     "grade_id": "cell-6d6d241bbaea84c7",
     "locked": true,
     "schema_version": 1,
     "solution": false
    }
   },
   "source": [
    "## Introdução\n",
    "\n",
    "Seja a regressão polinomial\n",
    "\n",
    "$$\n",
    "y = \\beta_0 + \\beta_1 x + \\beta_2 x^2 + \\ldots + \\beta_p x^p + \\epsilon.\n",
    "$$\n",
    "\n",
    "Os estimadores de mínimos quadrados $\\beta$ podem ser obtidos pela solução das equações normais\n",
    "\n",
    "$$\n",
    "X^\\top X \\beta = X^\\top y,\n",
    "$$\n",
    "\n",
    "onde a matriz $X$ é calculada pela função abaixo."
   ]
  },
  {
   "cell_type": "code",
   "execution_count": 22,
   "metadata": {
    "deletable": false,
    "editable": false,
    "nbgrader": {
     "checksum": "277f6a2524eebb9208293a39a85cbdd2",
     "grade": false,
     "grade_id": "cell-17e8a89c821e42c6",
     "locked": true,
     "schema_version": 1,
     "solution": false
    }
   },
   "outputs": [],
   "source": [
    "import numpy as np\n",
    "import scipy.linalg\n",
    "\n",
    "def RegressaoPolinomial_getX(x,p):\n",
    "    n = len(x)\n",
    "    X = np.empty((n,p+1))\n",
    "    X[:,0] = 1\n",
    "    X[:,1] = x\n",
    "    for i in range(2,p+1):\n",
    "        X[:,i] = X[:,i-1]*x\n",
    "\n",
    "    return X"
   ]
  },
  {
   "cell_type": "code",
   "execution_count": 23,
   "metadata": {
    "deletable": false,
    "editable": false,
    "nbgrader": {
     "checksum": "40f3be010735e881f1b69163e176882d",
     "grade": false,
     "grade_id": "cell-307821ed3aa23569",
     "locked": true,
     "schema_version": 1,
     "solution": false
    }
   },
   "outputs": [
    {
     "data": {
      "text/plain": [
       "array([[1.    , 1.1   , 1.21  , 1.331 , 1.4641],\n",
       "       [1.    , 1.2   , 1.44  , 1.728 , 2.0736],\n",
       "       [1.    , 1.7   , 2.89  , 4.913 , 8.3521]])"
      ]
     },
     "execution_count": 23,
     "metadata": {},
     "output_type": "execute_result"
    }
   ],
   "source": [
    "RegressaoPolinomial_getX([1.1,1.2,1.7],4)"
   ]
  },
  {
   "cell_type": "markdown",
   "metadata": {},
   "source": [
    "A seguir apresentamos a implementação um gerador de polinômios aleatórios. Mais precisamente, iremos escrever uma função que retorna $p+1$ números aleatórios independentes e com distribuição uniforme entre -5 e 5. Para isto, usamos a função np.random.rand. Tendo em vista que esta função do numpy gera valores em $[0,1)$, iremos transformá-los de maneira a mapeá-los para o intervalo $[-5,5)$."
   ]
  },
  {
   "cell_type": "code",
   "execution_count": 24,
   "metadata": {
    "deletable": false,
    "editable": false,
    "nbgrader": {
     "checksum": "73c4f8c438f87664c7698bbdf46369a6",
     "grade": false,
     "grade_id": "cell-6540c95b49975a18",
     "locked": true,
     "schema_version": 1,
     "solution": false
    }
   },
   "outputs": [],
   "source": [
    "def geraPolinomioAleatorio(p):\n",
    "    return -5+10*np.random.rand(p+1)"
   ]
  },
  {
   "cell_type": "markdown",
   "metadata": {
    "deletable": false,
    "editable": false,
    "nbgrader": {
     "checksum": "f28ee6af8702eaaa5de4ce26df0d1dd7",
     "grade": false,
     "grade_id": "cell-7130806ba6f1fc00",
     "locked": true,
     "schema_version": 1,
     "solution": false
    }
   },
   "source": [
    "A seguir mostramos como a função ```geraPolinomioAleatorio``` pode ser utilizada. Fixando a semente do gerador de números aleatórios igual a 1, iremos obter o polinômio de 3o. grau $p(x) = -0.83 + 2.20x -5x^2 -1.98x^3$."
   ]
  },
  {
   "cell_type": "code",
   "execution_count": 25,
   "metadata": {
    "deletable": false,
    "editable": false,
    "nbgrader": {
     "checksum": "2758b3084d692f53d7bce7d22f858b3b",
     "grade": false,
     "grade_id": "cell-7bdb5efee3efb368",
     "locked": true,
     "schema_version": 1,
     "solution": false
    }
   },
   "outputs": [
    {
     "name": "stdout",
     "output_type": "stream",
     "text": [
      "Coeficientes: [-0.82977995  2.20324493 -4.99885625 -1.97667427]\n"
     ]
    }
   ],
   "source": [
    "np.random.seed(1) # seta a semente do gerador de numeros aleatorios igual a 1\n",
    "coef = geraPolinomioAleatorio(3)\n",
    "print('Coeficientes:',coef)"
   ]
  },
  {
   "cell_type": "markdown",
   "metadata": {
    "deletable": false,
    "editable": false,
    "nbgrader": {
     "checksum": "c8ff689c3164dd5430550e3637666e80",
     "grade": false,
     "grade_id": "cell-5930603c484495e3",
     "locked": true,
     "schema_version": 1,
     "solution": false
    }
   },
   "source": [
    "A seguir apresentamos uma função para gerar uma tabela de pontos $(x,y)$ **com erros de medição em $y$**, a partir da avaliação de um polinômio. Vamos assumir que os coeficientes são dados em ordem crescente de grau.\n",
    "\n",
    "Nesta tabela, as abcissas são igualmente espaçadas entre $x_1 = 0$ e $x_n=1$."
   ]
  },
  {
   "cell_type": "code",
   "execution_count": 26,
   "metadata": {
    "deletable": false,
    "editable": false,
    "nbgrader": {
     "checksum": "d90bfc80fe29dec2d9661005d81f68cc",
     "grade": false,
     "grade_id": "cell-2c4d36af74f88e12",
     "locked": true,
     "schema_version": 1,
     "solution": false
    }
   },
   "outputs": [],
   "source": [
    "def geraTabelaAleatoriaY(n, coef):\n",
    "    x = np.linspace(0,1,n).reshape(n,1)\n",
    "    y = (np.polyval(coef[::-1],x) + np.random.normal(scale=0.1,size=(n,1)))\n",
    "    return x,y"
   ]
  },
  {
   "cell_type": "markdown",
   "metadata": {},
   "source": [
    "A seguir geramos uma tabela usando a função ```geraTabelaAleatoriaY``` (e os coeficientes ```coef```)."
   ]
  },
  {
   "cell_type": "code",
   "execution_count": 27,
   "metadata": {
    "deletable": false,
    "editable": false,
    "nbgrader": {
     "checksum": "9fdb188376da2b50389e899db977d2ba",
     "grade": false,
     "grade_id": "cell-018398c6e0a9b26e",
     "locked": true,
     "schema_version": 1,
     "solution": false
    }
   },
   "outputs": [
    {
     "name": "stdout",
     "output_type": "stream",
     "text": [
      "[[ 0.         -0.88259713]\n",
      " [ 0.1        -0.76871756]\n",
      " [ 0.2        -0.51835785]\n",
      " [ 0.3        -0.90222761]\n",
      " [ 0.4        -0.70032496]\n",
      " [ 0.5        -1.30107652]\n",
      " [ 0.6        -1.70247898]\n",
      " [ 0.7        -2.43988438]\n",
      " [ 0.8        -3.13229844]\n",
      " [ 0.9        -4.54294269]\n",
      " [ 1.         -5.63430726]]\n"
     ]
    }
   ],
   "source": [
    "x, y = geraTabelaAleatoriaY(11,coef)\n",
    "print(np.hstack([x,y]))"
   ]
  },
  {
   "cell_type": "markdown",
   "metadata": {
    "deletable": false,
    "editable": false,
    "nbgrader": {
     "checksum": "e785e5b0352180e8051a2f7f70372635",
     "grade": false,
     "grade_id": "cell-646b9e7582930ab2",
     "locked": true,
     "schema_version": 1,
     "solution": false
    }
   },
   "source": [
    "## Estudo da estabilidade dos métodos para estimação de quadrados mínimos\n",
    "\n",
    "Nesta parte, vamos comparar os seguintes métodos para a estimação de quadrados mínimos linear:\n",
    "* Cholesky via Equações Normais\n",
    "* QR, método de Gram-Schmidt (clássico)\n",
    "* QR, método de Gram-Schmidt (modificado)\n",
    "* QR, método de Reflexões de Householder\n",
    "\n",
    "Para isto, precisamos definir um problema de regressão onde a solução exata (isto é, os coeficientes $\\beta$) é conhecida. O código a seguir cria:\n",
    "* a matriz $X$ a partir de $m=50$ pontos igualmente espaçados entre 0 e 1 usando o método RegressaoPolinomial_getX,\n",
    "* o vetor $\\beta=[1.0,2.0,\\ldots,15.0]$, e\n",
    "* as respostas correspondentes ao vetor $y = X\\beta$."
   ]
  },
  {
   "cell_type": "code",
   "execution_count": 28,
   "metadata": {
    "deletable": false,
    "editable": false,
    "nbgrader": {
     "checksum": "f90ecbee491a18885e965db52ab31540",
     "grade": false,
     "grade_id": "cell-51a725ad7ee03145",
     "locked": true,
     "schema_version": 1,
     "solution": false
    }
   },
   "outputs": [],
   "source": [
    "import numpy as np\n",
    "\n",
    "def createLeastSquaresProblem(m,p):\n",
    "    x = np.linspace(0.0,1.0,num=m)\n",
    "    X = RegressaoPolinomial_getX(x,p-1)\n",
    "    beta = np.arange(1,p+1)\n",
    "    y = X.dot(beta)\n",
    "    return X, beta, y\n",
    "\n",
    "np.random.seed(1)\n",
    "X, beta, y = createLeastSquaresProblem(50,15)"
   ]
  },
  {
   "cell_type": "markdown",
   "metadata": {
    "deletable": false,
    "editable": false,
    "nbgrader": {
     "checksum": "f1724fd29f4d3704e7b627d30938e9ab",
     "grade": false,
     "grade_id": "cell-6a702495dc618c1e",
     "locked": true,
     "schema_version": 1,
     "solution": false
    }
   },
   "source": [
    "Observa-se abaixo que a matriz $X$ (e consequentemente $X^\\top X$) é extremamente malcondicionada."
   ]
  },
  {
   "cell_type": "code",
   "execution_count": 29,
   "metadata": {
    "deletable": false,
    "editable": false,
    "nbgrader": {
     "checksum": "0d25233ff86a41d4afbfba270a689d3a",
     "grade": false,
     "grade_id": "cell-8274ea3ea7d54d61",
     "locked": true,
     "schema_version": 1,
     "solution": false
    }
   },
   "outputs": [
    {
     "name": "stdout",
     "output_type": "stream",
     "text": [
      "Numero de condicao de X: 23271031743.903473\n"
     ]
    }
   ],
   "source": [
    "# numero de condicao de X\n",
    "print('Numero de condicao de X:',np.linalg.cond(X))"
   ]
  },
  {
   "cell_type": "markdown",
   "metadata": {
    "deletable": false,
    "editable": false,
    "nbgrader": {
     "checksum": "2a96bc7e084baa0b85264a42b97b0249",
     "grade": false,
     "grade_id": "cell-9b7e49f824154de5",
     "locked": true,
     "schema_version": 1,
     "solution": false
    }
   },
   "source": [
    "A estimação dos parâmetros $\\beta$ usando Cholesky via equações normais já está implementada. Embora a matrix $X^\\top X$ seja simétrica definida positiva, o método gera um erro em tempo de execução devido a problemas numéricos."
   ]
  },
  {
   "cell_type": "code",
   "execution_count": 30,
   "metadata": {
    "deletable": false,
    "editable": false,
    "nbgrader": {
     "checksum": "d2d72b11c9c4bc4cc401ae695f2fa2fa",
     "grade": false,
     "grade_id": "cell-142da595b4afb91b",
     "locked": true,
     "schema_version": 1,
     "solution": false
    }
   },
   "outputs": [
    {
     "name": "stdout",
     "output_type": "stream",
     "text": [
      "Erro numérico: 13-th leading minor of the array is not positive definite\n"
     ]
    }
   ],
   "source": [
    "import scipy.linalg\n",
    "def leastSquares_Cholesky(X, y):\n",
    "    (L,lower) = scipy.linalg.cho_factor(X.T@X, lower=True)\n",
    "    beta = scipy.linalg.cho_solve((L,lower),X.T@y)\n",
    "    return beta\n",
    "\n",
    "try:\n",
    "    beta_cho = leastSquares_Cholesky(X,y)\n",
    "    print(beta_cho)\n",
    "except np.linalg.LinAlgError as err:\n",
    "    print('Erro numérico:', err)"
   ]
  },
  {
   "cell_type": "markdown",
   "metadata": {
    "deletable": false,
    "editable": false,
    "nbgrader": {
     "checksum": "6981f080e9d8ef288fe52a4c39ce9176",
     "grade": false,
     "grade_id": "cell-339632112dd54c0a",
     "locked": true,
     "schema_version": 1,
     "solution": false
    }
   },
   "source": [
    "**Exercício 1:** Complete a implementação do Gram-Schmidt clássico (visto em sala)."
   ]
  },
  {
   "cell_type": "code",
   "execution_count": 31,
   "metadata": {
    "deletable": false,
    "nbgrader": {
     "checksum": "f5427adfdffb5b29b83ab9c42ad82107",
     "grade": false,
     "grade_id": "cell-6dbe72c060e9452d",
     "locked": false,
     "schema_version": 1,
     "solution": true
    }
   },
   "outputs": [],
   "source": [
    "def CGS(A):\n",
    "    m,n = A.shape # numero de colunas\n",
    "    Q = np.zeros((m,n))\n",
    "    R = np.zeros((n,n))\n",
    "    for j in range(n):\n",
    "        u = None\n",
    "        # Passo 1: inicializa vetor u com j-ésima coluna de A (~1 linha)\n",
    "        u = A[:,j]\n",
    "        # raise NotImplementedError()\n",
    "        for i in range(0,j):\n",
    "            # Passo 2: escreve em R[i,j] o tamanho da projecao de aj em qi (~ 1 linha)\n",
    "            q = Q[:, i]\n",
    "            R[i, j] = q.dot(u)\n",
    "            # Passo 3: subtrai de u a componente de aj em qi, cujo tamanho eh R[i,j] (~ 1 linha)\n",
    "            u = u - R[i, j] * q\n",
    "            # raise NotImplementedError()\n",
    "        # Passo 4: escreve em R[j,j] o tamanho da projecao de u em qj (~ 1 linha)\n",
    "        # Passo 5: escreve na j-ésima coluna de Q o vetor u normalizado (~ 1 linha)\n",
    "        norm = np.linalg.norm(u)\n",
    "        Q[:, j] = u / norm\n",
    "        R[j, j] = norm\n",
    "        # raise NotImplementedError()\n",
    "    return Q,R"
   ]
  },
  {
   "cell_type": "code",
   "execution_count": 32,
   "metadata": {
    "deletable": false,
    "editable": false,
    "nbgrader": {
     "checksum": "a5e949e18b15757a4343b0d06d41ebbf",
     "grade": true,
     "grade_id": "cell-a4eb2b4cedd84f1f",
     "locked": true,
     "points": 1,
     "schema_version": 1,
     "solution": false
    }
   },
   "outputs": [
    {
     "name": "stdout",
     "output_type": "stream",
     "text": [
      "[[1. 1. 0.]\n",
      " [1. 0. 1.]\n",
      " [0. 1. 1.]]\n"
     ]
    }
   ],
   "source": [
    "A = 1.0*np.array([[1,1,0],[1,0,1],[0,1,1]])\n",
    "print(A)\n",
    "Q,R = CGS(A)\n",
    "\n",
    "assert np.allclose(Q,np.array([[ 0.70710678,  0.40824829, -0.57735027],\n",
    "        [ 0.70710678, -0.40824829,  0.57735027],\n",
    "        [ 0.        ,  0.81649658,  0.57735027]]))\n",
    "\n",
    "assert np.allclose(R,np.array([[ 1.41421356,  0.70710678,  0.70710678],\n",
    "        [ 0.        ,  1.22474487,  0.40824829],\n",
    "        [ 0.        ,  0.        ,  1.15470054]]))"
   ]
  },
  {
   "cell_type": "markdown",
   "metadata": {
    "deletable": false,
    "editable": false,
    "nbgrader": {
     "checksum": "17d210ca4e4479d91f34bb83b33abe54",
     "grade": false,
     "grade_id": "cell-caf4bf13eba3b069",
     "locked": true,
     "schema_version": 1,
     "solution": false
    }
   },
   "source": [
    "O método Gram-Schmidt modificado é, algebricamente, igual ao método Gram-Schmidt clássico. Contudo, devido a diferenças nos erros de arredondamento, a versão modificada é mais estável numericamente.\n",
    "\n",
    "O método Gram-Schmidt consiste em:\n",
    "* criar uma cópia $U$ da matriz $A$\n",
    "* para cada coluna $i=0,\\ldots$:\n",
    "    * definir $r_{i,i}$ como a norma-2 de $u_i$\n",
    "    * definir $q_i$ como $u_i$ normalizado\n",
    "    * para cada coluna $j=i+1,\\ldots$:\n",
    "        - definir $r_{i,j}$ como o tamanho da projeção de $u_j$ em $q_i$\n",
    "        - subtrair de $u_j$ a projeção de $u_j$ em $q_i$\n",
    "        \n",
    "Ou seja, no início da iteração $i$, todas as colunas de $U$ a partir de $i$-ésima são ortogonais a $q_0, q_1, \\ldots, q_{i-1}$.\n",
    "\n",
    "**Exercício 2** Complete a implementação do Gram-Schmidt modificado."
   ]
  },
  {
   "cell_type": "code",
   "execution_count": 33,
   "metadata": {
    "deletable": false,
    "nbgrader": {
     "checksum": "7f065b4464f638eca9d63bd1662191fe",
     "grade": false,
     "grade_id": "cell-c8670a10ea2468ce",
     "locked": false,
     "schema_version": 1,
     "solution": true
    }
   },
   "outputs": [],
   "source": [
    "def MGS(A):\n",
    "    m,n = A.shape # numero de colunas\n",
    "    Q = np.zeros((m,n))\n",
    "    R = np.zeros((n,n))\n",
    "    # Passo 1: cria uma cópia $U$ da matriz $A$ (~1 linha)\n",
    "    U = A.copy()\n",
    "    # raise NotImplementedError()\n",
    "    for i in range(n):\n",
    "        # Passo 2: define $r_{i,i}$ como a norma-2 de $u_i$ (~1 linha, consulte numpy.linalg.norm)\n",
    "        # Passo 3: define $q_i$ como $u_i$ normalizado (~1 linha)\n",
    "        R[i, i] = np.linalg.norm(U[:,i])\n",
    "        Q[:, i] = U[:,i]/R[i, i]\n",
    "        # raise NotImplementedError()\n",
    "        for j in range(i+1,n):\n",
    "            # Passo 4: define $r_{i,j}$ como o tamanho da projeção de $u_j$ em $q_i$ (~1 linha)\n",
    "            # Passo 5: subtrai de $u_j$ a projeção de $u_j$ em $q_i$ (~1 linha)\n",
    "            R[i, j] = np.dot(Q[:, i], U[:,j])\n",
    "            U[:, j] = U[:, j] - R[i, j]*Q[:, i]\n",
    "            # raise NotImplementedError()\n",
    "    return Q,R"
   ]
  },
  {
   "cell_type": "code",
   "execution_count": 34,
   "metadata": {
    "deletable": false,
    "editable": false,
    "nbgrader": {
     "checksum": "c3b9b8c1ff89c25c3895cb435269e315",
     "grade": true,
     "grade_id": "cell-8c4d045e5d30fe90",
     "locked": true,
     "points": 1,
     "schema_version": 1,
     "solution": false
    }
   },
   "outputs": [],
   "source": [
    "Q,R = MGS(A)\n",
    "\n",
    "assert np.allclose(Q,np.array([[0.70710678,  0.40824829, -0.57735027],\n",
    "       [ 0.70710678, -0.40824829,  0.57735027],\n",
    "       [ 0.        ,  0.81649658,  0.57735027]]))\n",
    "\n",
    "assert np.allclose(R,np.array([[1.41421356,  0.70710678,  0.70710678],\n",
    "       [ 0.        ,  1.22474487,  0.40824829],\n",
    "       [ 0.        ,  0.        ,  1.15470054]]))"
   ]
  },
  {
   "cell_type": "markdown",
   "metadata": {
    "deletable": false,
    "editable": false,
    "nbgrader": {
     "checksum": "8957b5b11860db9fe578763b56e183b7",
     "grade": false,
     "grade_id": "cell-b9e79c4f39e79e69",
     "locked": true,
     "schema_version": 1,
     "solution": false
    }
   },
   "source": [
    "Os métodos a seguir encontram a solução para o problema de quadrados mínimos linear usando CGS, MGS e Reflexões de Householder, respectivamente."
   ]
  },
  {
   "cell_type": "markdown",
   "metadata": {
    "deletable": false,
    "editable": false,
    "nbgrader": {
     "checksum": "a71242ca8b70b1e70c38425747df4926",
     "grade": false,
     "grade_id": "cell-c95983c72c5c1e2e",
     "locked": true,
     "schema_version": 1,
     "solution": false
    }
   },
   "source": [
    "**Exercício 3** Sabendo que CGS, MGS e Reflexões de Householder são métodos de decomposição QR e que, quando $X$ é de posto completo, a solução de\n",
    "\n",
    "$$\n",
    "X^\\top X \\beta = X^\\top y\n",
    "$$\n",
    "\n",
    "pode ser encontrada resolvendo-se\n",
    "\n",
    "$$\n",
    "R\\beta = Q^\\top y,\n",
    "$$\n",
    "\n",
    "complete as três funções abaixo de forma a encontrar as estimativas de quadrados mínimos usando a decomposição QR."
   ]
  },
  {
   "cell_type": "code",
   "execution_count": 35,
   "metadata": {
    "deletable": false,
    "nbgrader": {
     "checksum": "26f331b5fe88181ae590dedab2bc715d",
     "grade": false,
     "grade_id": "cell-1f74b3d1a27de39e",
     "locked": false,
     "schema_version": 1,
     "solution": true
    }
   },
   "outputs": [],
   "source": [
    "def leastSquares_CGS(X, y):\n",
    "    Q,R = CGS(X)\n",
    "    # Passo único: chama método para resolver sistema triangular superior (~ 1 linha, consulte scipy.linalg.solve_triangular)\n",
    "    beta = scipy.linalg.solve_triangular(R,Q.transpose()@y)\n",
    "    # raise NotImplementedError()\n",
    "    return beta"
   ]
  },
  {
   "cell_type": "code",
   "execution_count": 36,
   "metadata": {
    "deletable": false,
    "editable": false,
    "nbgrader": {
     "checksum": "3c9e31b9fd48a6558da806860a457d21",
     "grade": true,
     "grade_id": "cell-7693da3368200a61",
     "locked": true,
     "points": 1,
     "schema_version": 1,
     "solution": false
    }
   },
   "outputs": [
    {
     "name": "stdout",
     "output_type": "stream",
     "text": [
      "[ 1.00001098e+00  1.98954072e+00  3.65577580e+00 -1.18121520e+01\n",
      "  2.05418911e+02 -1.52999579e+03  7.69401989e+03 -2.62692132e+04\n",
      "  6.29167907e+04 -1.06494707e+05  1.26933168e+05 -1.04121898e+05\n",
      "  5.60014061e+04 -1.77426985e+04  2.53287616e+03]\n"
     ]
    }
   ],
   "source": [
    "beta_cgs = leastSquares_CGS(X,y)\n",
    "print(beta_cgs)"
   ]
  },
  {
   "cell_type": "code",
   "execution_count": 37,
   "metadata": {
    "deletable": false,
    "nbgrader": {
     "checksum": "cdb63c5c8c2a9f8301f700c36c336dfa",
     "grade": false,
     "grade_id": "cell-2802a58b8b1f84af",
     "locked": false,
     "schema_version": 1,
     "solution": true
    }
   },
   "outputs": [],
   "source": [
    "def leastSquares_MGS(X, y):\n",
    "    Q,R = MGS(X)\n",
    "    # Passo único: chama método para resolver sistema triangular superior (~ 1 linha, consulte scipy.linalg.solve_triangular)\n",
    "    beta = scipy.linalg.solve_triangular(R,Q.transpose()@y)\n",
    "    # raise NotImplementedError()\n",
    "    return beta"
   ]
  },
  {
   "cell_type": "code",
   "execution_count": 38,
   "metadata": {
    "deletable": false,
    "editable": false,
    "nbgrader": {
     "checksum": "210b3b7a4cfa07fef72c63f435f977af",
     "grade": true,
     "grade_id": "cell-d70235cd6637fe2d",
     "locked": true,
     "points": 1,
     "schema_version": 1,
     "solution": false
    }
   },
   "outputs": [
    {
     "name": "stdout",
     "output_type": "stream",
     "text": [
      "[ 1.00001098e+00  1.98954072e+00  3.65577580e+00 -1.18121520e+01\n",
      "  2.05418911e+02 -1.52999579e+03  7.69401989e+03 -2.62692132e+04\n",
      "  6.29167907e+04 -1.06494707e+05  1.26933168e+05 -1.04121898e+05\n",
      "  5.60014061e+04 -1.77426985e+04  2.53287616e+03]\n"
     ]
    }
   ],
   "source": [
    "beta_mgs = leastSquares_MGS(X,y)\n",
    "print(beta_mgs)"
   ]
  },
  {
   "cell_type": "code",
   "execution_count": 39,
   "metadata": {
    "deletable": false,
    "nbgrader": {
     "checksum": "b143b7f9c2a52afc0c14fe3daf14b05d",
     "grade": false,
     "grade_id": "cell-c04bec782c596e26",
     "locked": false,
     "schema_version": 1,
     "solution": true
    }
   },
   "outputs": [],
   "source": [
    "def leastSquares_Householder(X,y):\n",
    "    Q,R = scipy.linalg.qr(X, mode='economic')\n",
    "    beta = np.linalg.solve(R,Q.transpose()@y)\n",
    "    return beta"
   ]
  },
  {
   "cell_type": "code",
   "execution_count": 40,
   "metadata": {
    "deletable": false,
    "editable": false,
    "nbgrader": {
     "checksum": "aa34747716ebcb1d53cb69dfb1026ebe",
     "grade": true,
     "grade_id": "cell-d70235cd6637fe2e",
     "locked": true,
     "points": 1,
     "schema_version": 1,
     "solution": false
    }
   },
   "outputs": [
    {
     "name": "stdout",
     "output_type": "stream",
     "text": [
      "[ 1.          2.          3.          4.          5.00000001  5.99999996\n",
      "  7.00000013  7.99999971  9.00000041  9.99999964 11.00000015 12.00000003\n",
      " 12.99999994 14.00000003 15.        ]\n"
     ]
    }
   ],
   "source": [
    "beta_hh = leastSquares_Householder(X,y)\n",
    "print(beta_hh)"
   ]
  }
 ],
 "metadata": {
  "kernelspec": {
   "display_name": "Python 3",
   "language": "python",
   "name": "python3"
  },
  "language_info": {
   "codemirror_mode": {
    "name": "ipython",
    "version": 3
   },
   "file_extension": ".py",
   "mimetype": "text/x-python",
   "name": "python",
   "nbconvert_exporter": "python",
   "pygments_lexer": "ipython3",
   "version": "3.7.1"
  }
 },
 "nbformat": 4,
 "nbformat_minor": 2
}
