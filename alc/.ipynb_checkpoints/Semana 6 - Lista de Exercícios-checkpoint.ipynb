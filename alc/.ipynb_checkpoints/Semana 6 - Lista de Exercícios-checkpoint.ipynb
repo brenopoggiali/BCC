{
 "cells": [
  {
   "cell_type": "code",
   "execution_count": 1,
   "metadata": {},
   "outputs": [],
   "source": [
    "import numpy as np\n",
    "import matplotlib.pyplot as plt\n",
    "from numpy.linalg import solve"
   ]
  },
  {
   "cell_type": "markdown",
   "metadata": {},
   "source": [
    "# Exercício 1\n",
    "\n",
    "Dada a matriz\n",
    "$$\n",
    "A = \\begin{bmatrix}\n",
    "3 & 0 & 2 \\\\\n",
    "9 & 1 & 7 \\\\\n",
    "1 & 0 & 1 \\\\\n",
    "\\end{bmatrix}\n",
    "$$\n",
    "e sua inversa A⁻¹ =\n",
    "$$\n",
    "A⁻¹ = \\begin{bmatrix}\n",
    "1  & 0 & −2 \\\\\n",
    "−2 & 1 & −3 \\\\\n",
    "−1 & 0 & 3 \\\\\n",
    "\\end{bmatrix}\n",
    "$$, calcule o número de condição de A com relação a cada uma das normas a seguir. Neste exercício, vamos assumir que uma matriz cujo número de condição é maior que 106 é mal condicionada.\n",
    "\n",
    "(a) Norma-1. E bem condicionado? ´"
   ]
  },
  {
   "cell_type": "markdown",
   "metadata": {},
   "source": [
    ">||A||1 = 13 e ||A⁻¹||1 = 8\n",
    ">\n",
    ">condição(A) = k (A) = 13 * 8 = 104\n",
    ">\n",
    ">Como 104 < 10⁶, a matriz A é bem condicionada!"
   ]
  },
  {
   "cell_type": "markdown",
   "metadata": {},
   "source": [
    "(b) Norma-infinito. E bem condicionado? ´"
   ]
  },
  {
   "cell_type": "markdown",
   "metadata": {},
   "source": [
    ">||A|| = 17 e ||A⁻¹|| = 2\n",
    ">\n",
    ">condição(A) = k (A) = 17 * 6 = 102\n",
    ">\n",
    ">Como 102 < 10⁶, a matriz é bem condicionada."
   ]
  },
  {
   "cell_type": "markdown",
   "metadata": {},
   "source": [
    "# Exercício 2\n",
    "\n",
    "Considere a função f(x) = 0.5 + 2x e os pontos a seguir:\n",
    "\n",
    "\n",
    "|x | 0     | 1     | 2     | 3     | 4     |\n",
    "|--|-------|-------|-------|-------|-------|\n",
    "|y | 0.523 | 3.275 | 4.319 | 5.511 | 8.052 |\n",
    "\n",
    "\n",
    "Calcule o erro do ajuste, segundo:\n",
    "\n",
    "(a) o erro máximo E∞(f);"
   ]
  },
  {
   "cell_type": "markdown",
   "metadata": {},
   "source": [
    "> E = max {0.5 - 0.523, 2.5 - 3.275, 4.5 - 4.319, 6.5 - 5.511, 8.5 - 8.052}\n",
    ">\n",
    "> E = max {-0.023, -0.775, 0.181, 0.989, 0.448}\n",
    ">\n",
    "> E = 0,989"
   ]
  },
  {
   "cell_type": "markdown",
   "metadata": {},
   "source": [
    "(b) o erro médio E1(f);"
   ]
  },
  {
   "cell_type": "markdown",
   "metadata": {},
   "source": [
    "> E1 = 1/n (-0.023 + -0.775 + 0.181 + 0.989 + 0.448) = \n",
    ">\n",
    "> E1 = (1/4)(0.82) = \n",
    ">\n",
    "> E1 = 0.205"
   ]
  },
  {
   "cell_type": "markdown",
   "metadata": {},
   "source": [
    "(c) a raiz do erro médio quadrático E2(f)."
   ]
  },
  {
   "cell_type": "markdown",
   "metadata": {},
   "source": [
    "> E2 = sqrt(1/n ((-0.023)² + (-0.775)² + (0.181)² + (0.989)² + (0.448)²))\n",
    ">\n",
    "> E2 = sqrt (1/4 * 1.8127400000000002)\n",
    ">\n",
    "> E2 = sqrt(0.45318500000000006)\n",
    ">\n",
    "> E2 = 0.22659250000000003 "
   ]
  },
  {
   "cell_type": "markdown",
   "metadata": {},
   "source": [
    "# Exercício 3\n",
    "\n",
    "\n",
    "Utilizando o método dos quadrados mínimos, derive as equações que devem ser satisfeitas para fazer o ajuste das seguintes funções:\n",
    "\n",
    "(a) f(x) = 1/2β (e^(βx) − e^(−βx) − 2)"
   ]
  },
  {
   "cell_type": "markdown",
   "metadata": {},
   "source": [
    "> A derivada disso, temos:\n",
    ">\n",
    "> Σ(from i=1 to n)(1/2b(e^(bxi)-e^(-bxi)-2))² - 2/2b(eb^(xi)-e^(-bxi)-2)yi + yi² d/db = 0\n",
    ">\n",
    "> separando a equação acima em:\n",
    ">\n",
    "> a => (1/2b(e^(bxi)-e^(-bxi)-2))²\n",
    ">\n",
    "> b => 2/2b(eb^(xi)-e^(-bxi)-2)\n",
    ">\n",
    "> c => yi²\n",
    ">\n",
    "> temos:\n",
    ">\n",
    "> a => (1/4b²)(e^(bxi)-e^(-bxi)-2)(d/db)\n",
    ">\n",
    "> a => 1/4(-2/b³(e^(bxi)-e^(-bxi)-2)² + 2/b²(e^(bxi)-e^(-bxi)-2)(xi)(e^(bxi)+e^(-bxi)))\n",
    ">\n",
    "> a => 1/2b³(e^(bxi)-e^(-bxi)-2) + 1/2b²(e^(bxi)-e^(-bxi))(xi)(e^(bxi)-e^(-bxi))\n",
    ">\n",
    ">---\n",
    ">\n",
    "> b => -yi(-1/b²(e^(bxi)-e^(-bxi)-2)+xi/b(e^(bxi)+e^(-bxi))\n",
    ">\n",
    ">---\n",
    ">\n",
    "> c => 0\n",
    ">\n",
    ">---\n",
    ">\n",
    "> **Resposta:**\n",
    ">\n",
    "> Σ(from i=1 to n) 1/2b³(e^(bxi)-e^(-bxi)-2)² + \n",
    ">\n",
    "> Σ(from i=1 to n) 1/2b²(e^(bxi)-e^(-bxi))(xi)(e^(bxi)-e^(-bxi)) +\n",
    ">\n",
    "> Σ(from i=1 to n) yi(-1/b²(e^(bxi)-e^(-bxi)-2) -\n",
    ">\n",
    "> Σ(from i=1 to n) yi\\*xi/b(e^(bxi)+e^(-bxi))"
   ]
  },
  {
   "cell_type": "markdown",
   "metadata": {},
   "source": [
    "(b) f(x) = βx"
   ]
  },
  {
   "cell_type": "markdown",
   "metadata": {},
   "source": [
    "> f(x) = bx -> e = Σ(from i=1 to n) (f(xi)-yi)². \n",
    ">\n",
    "> Derivando: Σ(from i=1 to n) (bxi - yi)²\n",
    ">\n",
    "> de/db = d Σ(i=0 to n) (bxi-yi)xi = 0 -> \n",
    ">\n",
    "> Σ(i=1 to n) bxi² - Σ(i=1 to n) yi = 0\n",
    ">\n",
    "> **Resposta:**\n",
    ">\n",
    "> Σ(i=1 to n) bxi² \\* Σ(i=1 to n) yi"
   ]
  },
  {
   "cell_type": "markdown",
   "metadata": {},
   "source": [
    "# Exercício 4 \n",
    "\n",
    "Considere os pontos a seguir:\n",
    "\n",
    "• Mostre o diagrama de dispersão destes pontos (pode ser feito à mão ou no computador).\n",
    "\n",
    "• Usando o método dos quadrados mínimos, encontre os parâmetros da regressão linear simples f(x) = β0 +β1x. Atenção: você não pode resolver esta questão usando um método que retorne os coeficientes\n",
    "da regressão."
   ]
  },
  {
   "cell_type": "code",
   "execution_count": 2,
   "metadata": {},
   "outputs": [
    {
     "data": {
      "image/png": "[encoded data removed]",
      "text/plain": [
       "<Figure size 432x288 with 1 Axes>"
      ]
     },
     "metadata": {},
     "output_type": "display_data"
    }
   ],
   "source": [
    "x = [2.0, 3.5, 4.0, 5.1, 7.0]\n",
    "y = [2.2, 2.0, 3.0, 6.0, 5.0]\n",
    "\n",
    "scatter_plot = plt.scatter(x, y)\n",
    "plt.show()"
   ]
  },
  {
   "cell_type": "markdown",
   "metadata": {},
   "source": [
    ">Σ xi= 2.0 + 3.5 + 4.0 + 5.1 + 7.0 = 21.6\n",
    ">\n",
    ">Σ xi^2= 2.0^2 + 3.5^2 + 4.0^2 + 5.1^2 + 7.0^2 = 4 + 12.25 + 16 + 26.01 + 49 = 107.26\n",
    ">\n",
    ">Σ yi = 2.2 + 2.0 + 3.0 + 6.0 + 5.0 = 18.2\n",
    ">\n",
    ">Σ xi yi = 2.02.2 + 3.52.0 + 4.03.0 + 5.16.0 + 7.05.0 = 4.4 + 7 + 12 + 30.6 + 35 = 89\n",
    ">\n",
    ">---\n",
    ">\n",
    ">Sendo assim, temos:\n",
    ">\n",
    ">b0 = 18.2 - (21.6)*0.743906 / 5\n",
    ">\n",
    ">b0 = 18.2 - 16.06837 / 5\n",
    ">\n",
    ">b0 = 0.426326\n",
    ">\n",
    ">---\n",
    ">\n",
    "> b1 = ( 5 89 - 21.6 18.2 )/ (5 * 107.26 - (21.6)^2) \n",
    ">\n",
    "> b1 = (445 - 393.12) / (536.3 - 466.56)\n",
    ">\n",
    "> b1 = 51.88 / 69.74 \n",
    ">\n",
    "> b1 = 0.743906\n",
    ">\n",
    ">---\n",
    ">\n",
    ">Resp.: f(x) = β0 +β1x\n",
    ">\n",
    ">       f(x) = 0.426326 + 0.743906 x"
   ]
  },
  {
   "cell_type": "markdown",
   "metadata": {},
   "source": [
    "# Exercício 5\n",
    "\n",
    "Considere a série de pontos a seguir:\n",
    "\n",
    "|x |    1   |    2   |   3     |   4     |   5     |    6    |\n",
    "|--|--------|--------|---------|---------|---------|---------|\n",
    "|y | -4.501 | 83.453 | 112.953 | 123.824 | 170.335 | 183.008 |\n",
    "\n",
    "Suponha que a relação entre x e y seja dada por y = β1x + β2 ln x + epsilon. \n",
    "\n",
    "Obtenha os valores de β1 e β2 através do método dos quadrados mínimos. Dica: a função y pode ser vista como uma regressão linear múltipla em\n",
    "x, onde x1 = x e x2 = ln x.)\n",
    "\n",
    "\n",
    ">x1 = x e x2 = ln x, então:\n",
    ">\n",
    ">x1 = 1, 2, 3, 4, 5, 6\n",
    ">x2 = 0, 0.6931, 1,0986, 1.3862, 1.6094\n",
    ">y = -4.501, 83.453, 112.953, 123.824, 170.335, 183.008\n",
    ">\n",
    ">Σ x1 = 1 + 2 + 3 + 4 + 5 + 6 = 21\n",
    ">\n",
    ">Σ x2 = 0 + 0.6931 + 1,0986 + 1.3862 + 1.6094 + 1.7917 = 6.5790\n",
    ">\n",
    ">Σ x1^2 = 1^2 + 2^2 + 3^2 + 4^2 + 5^2 + 6^2 = 2 + 4 + 9 + 16 + 25 + 36 = 92\n",
    ">\n",
    ">Σ x2 * x1 = (0 * 1) + (0.6931 * 2) + (1,0986 * 3) + (1.3862 * 4) + (1.6094 * 5) + (1.7917 * 6) = 1.3862 + 3.2958 + 5.5448 + 8.0470 + 10.7502 = 29.0240\n",
    ">\n",
    ">Σ x2 ^2 = 0^2 + 0.6931^2 + 1,0986^2 + 1.3862^2 + 1.6094^2 +  1.7917^2 = 0.4803 + 1.2069 + 1.9215 + 2.5901 + 3.2101 = 9.4089\n",
    ">\n",
    ">Σ y = -4.501 + 83.453 + 112.953 + 123.824 + 170.335 + 183.008 = 669.0720\n",
    ">\n",
    ">Σ y* x1 = (-4.501 * 1) + (83.453 * 2) + (112.953 * 3) + (123.824 * 4) + (170.335 * 5) + (183.008 * 6) = -4.501 + 166.9060 + 338.8590 + 495.2960 + 851.6750 + 1098.0480 = 2946.2830\n",
    ">\n",
    ">Σy* x2 = -4.501 * 0 + (83.453 * 0.6931) + (112.953 * 1.0986) + (123.824 * 1.3862) + (170.335 * 1.6094) + (183.008 * 1.7917) = 0 + 57.8412 + 124.0901 + 171.6448 + 274.1371 + 327.8954 = 955.6086"
   ]
  },
  {
   "cell_type": "code",
   "execution_count": 3,
   "metadata": {},
   "outputs": [
    {
     "name": "stdout",
     "output_type": "stream",
     "text": [
      "[  1.0973099   -0.92937342 103.66392801]\n"
     ]
    }
   ],
   "source": [
    "A = np.array([[6, 21, 6.5790],\n",
    "              [21, 92, 29.0240],\n",
    "              [6.5790, 29.0240, 9.4089]])\n",
    "\n",
    "B = np.array([669.0720, 2946.2830, 955.6086])\n",
    "\n",
    "result = solve(A, B)\n",
    "print(result)"
   ]
  },
  {
   "cell_type": "markdown",
   "metadata": {},
   "source": [
    "# Exercício 6\n",
    "\n",
    "Deseja-se usar a regressão polinomial f(xi) = w0 + w1.xi + w2.xi² + ... + wp.xi^p\n",
    "\n",
    "para estimar a relação entre a metragem (em m2) de um imóvel e o seu preço em um bairro de Belo Horizonte. As figuras abaixo ilustram (não são uma representação exata) os resultados obtidos para p = 3 e p = 7, respectivamente. Qual das regressões possui o menor desvio? Qual dos valores de p é mais adequado e por quê?"
   ]
  },
  {
   "cell_type": "markdown",
   "metadata": {},
   "source": [
    "> P = 7 é mais adequeado porque possui menor desvio e passa por quase todos os pontos. Por isso o erro quadratico é menor."
   ]
  }
 ],
 "metadata": {
  "kernelspec": {
   "display_name": "Python 3",
   "language": "python",
   "name": "python3"
  },
  "language_info": {
   "codemirror_mode": {
    "name": "ipython",
    "version": 3
   },
   "file_extension": ".py",
   "mimetype": "text/x-python",
   "name": "python",
   "nbconvert_exporter": "python",
   "pygments_lexer": "ipython3",
   "version": "3.6.5"
  }
 },
 "nbformat": 4,
 "nbformat_minor": 2
}
