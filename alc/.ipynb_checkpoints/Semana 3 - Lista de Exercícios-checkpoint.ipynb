{
 "cells": [
  {
   "cell_type": "code",
   "execution_count": 1,
   "metadata": {},
   "outputs": [
    {
     "name": "stdout",
     "output_type": "stream",
     "text": [
      "/home/poggiali/anaconda3/envs/alc/bin:/home/poggiali/anaconda3/envs/alc/bin:/home/poggiali/anaconda3/condabin:/home/poggiali/.rbenv/shims:/home/poggiali/.rbenv/bin:/home/poggiali/.local/bin:/home/poggiali/anaconda3/bin:/home/poggiali/.local/bin:/home/poggiali/.rvm/gems/ruby-2.5.1/bin:/home/poggiali/.rvm/gems/ruby-2.5.1@global/bin:/usr/share/rvm/rubies/ruby-2.5.1/bin:/usr/local/sbin:/usr/local/bin:/usr/sbin:/usr/bin:/sbin:/bin:/usr/games:/usr/local/games:/snap/bin:/usr/lib/jvm/java-8-oracle/bin:/usr/lib/jvm/java-8-oracle/db/bin:/usr/lib/jvm/java-8-oracle/jre/bin:/usr/share/rvm/bin:/home/poggiali/.rvm/bin:/usr/local/go/bin:/home/poggiali/go/bin:/usr/lib/jvm/java-8-oracle/bin:/usr/lib/jvm/java-8-oracle/db/bin:/usr/lib/jvm/java-8-oracle/jre/bin:/home/poggiali/tizen-studio/platforms/tizen-5.0/common/tidl:/home/poggiali/.rvm/bin:/home/poggiali/.rvm/bin:/usr/local/go/bin:/home/poggiali/go/bin\n"
     ]
    }
   ],
   "source": [
    "import numpy as np\n",
    "import os\n",
    "print(os.environ['PATH'])"
   ]
  },
  {
   "cell_type": "markdown",
   "metadata": {},
   "source": [
    "# Exercício 1\n",
    "\n",
    "(a) Na solução deste subitem você deve apenas incluir o código."
   ]
  },
  {
   "cell_type": "code",
   "execution_count": 2,
   "metadata": {},
   "outputs": [],
   "source": [
    "def exerc1(m):\n",
    "    W = np.random.randn(m,4)\n",
    "    Wtil = W/np.sqrt(m)       # Não podemos ter raiz de numeros negativos\n",
    "    Z = np.transpose(Wtil)@Wtil\n",
    "    print(Z)\n",
    "    dif = np.linalg.norm(Z-np.identity(4), 'fro')\n",
    "    return dif"
   ]
  },
  {
   "cell_type": "markdown",
   "metadata": {},
   "source": [
    "(b) Qual a norma da diferença obtida para `m = 100`? E para `m = 10000`?"
   ]
  },
  {
   "cell_type": "code",
   "execution_count": 3,
   "metadata": {},
   "outputs": [
    {
     "name": "stdout",
     "output_type": "stream",
     "text": [
      "[[ 0.9186256   0.03855656  0.00569962 -0.00284059]\n",
      " [ 0.03855656  1.23514658 -0.07442839 -0.05605885]\n",
      " [ 0.00569962 -0.07442839  0.90635769 -0.07827873]\n",
      " [-0.00284059 -0.05605885 -0.07827873  1.02014668]]\n",
      "\n",
      "para m = 100, temos dif = 0.32212463675876996\n",
      "\n",
      "[[ 1.00164750e+00  3.87071657e-04  7.20434095e-03 -4.44356988e-03]\n",
      " [ 3.87071657e-04  1.00674033e+00 -2.04131546e-02  1.35655335e-03]\n",
      " [ 7.20434095e-03 -2.04131546e-02  1.01801293e+00 -2.49246921e-03]\n",
      " [-4.44356988e-03  1.35655335e-03 -2.49246921e-03  1.01288522e+00]]\n",
      "\n",
      "para m = 10000, temos dif = 0.039137387012044056\n"
     ]
    }
   ],
   "source": [
    "print(\"\\npara m = 100, temos dif = \" + str(exerc1(100)) + \"\\n\")\n",
    "print(\"\\npara m = 10000, temos dif = \" + str(exerc1(10000)))"
   ]
  },
  {
   "cell_type": "markdown",
   "metadata": {},
   "source": [
    "(c) O que podemos dizer sobre a matriz Wtil ?"
   ]
  },
  {
   "cell_type": "markdown",
   "metadata": {},
   "source": [
    "> A matriz Wtil contem a raiz quadrada do modulo dos valores de W"
   ]
  },
  {
   "cell_type": "markdown",
   "metadata": {},
   "source": [
    "# Exercício 2\n",
    "\n",
    "Seja x = (1,2,3)^T\n",
    "\n",
    "(a) Calcule a projeção xu de x em u = (1, 1, 0)^T e a projeção xv de x em v = (1, −1, 1)^T."
   ]
  },
  {
   "cell_type": "code",
   "execution_count": 4,
   "metadata": {},
   "outputs": [
    {
     "name": "stdout",
     "output_type": "stream",
     "text": [
      "xu = [1.5 1.5 0. ] xv = [ 0.66666667 -0.66666667  0.66666667]\n"
     ]
    }
   ],
   "source": [
    "x = np.transpose(np.array([1, 2, 3]))\n",
    "u = np.transpose(np.array([1, 1, 0]))\n",
    "v = np.transpose(np.array([1, -1, 1]))\n",
    "\n",
    "xu = np.dot((np.dot(x,u)/np.dot(u,u)),u)\n",
    "xv = np.dot((np.dot(x,v)/np.dot(v,v)),v)\n",
    "\n",
    "print(\"xu = \"+str(xu), \"xv = \"+str(xv))"
   ]
  },
  {
   "cell_type": "markdown",
   "metadata": {},
   "source": [
    "(b) Por que é que a projeção de x no espaço S gerado por {u, v} (ou seja, xu + xv) é diferente de x?"
   ]
  },
  {
   "cell_type": "markdown",
   "metadata": {},
   "source": [
    "> Isso ocorre, pois a projeção de x no espaço S, está em outro espaco ({u,v}), que não é o espaço em que x esta determinado. É a famosa lei da física: Tudo depende do referencial\n",
    ">\n",
    "> xu+xv = [2.16666667, 0.83333333, 0.66666667]"
   ]
  },
  {
   "cell_type": "markdown",
   "metadata": {},
   "source": [
    "# Exercício 3\n",
    "\n",
    "Considere o conjunto de dados abaixo com as notas de 5 estudantes em 4 disciplinas. Calcule a matriz de\n",
    "covariância."
   ]
  },
  {
   "cell_type": "code",
   "execution_count": 5,
   "metadata": {},
   "outputs": [
    {
     "name": "stdout",
     "output_type": "stream",
     "text": [
      "Covariancia(ignorando a diagonal, temos a relacao de variacao entre as materias): \n",
      "\n",
      "[[ 493.33333333 -220.          -71.          325.        ]\n",
      " [-220.          306.66666667   73.66666667  -25.        ]\n",
      " [ -71.           73.66666667  273.6         -16.66666667]\n",
      " [ 325.          -25.          -16.66666667  283.33333333]]\n"
     ]
    }
   ],
   "source": [
    "grades = np.array([\n",
    "            [90, 80, 60, 95], \n",
    "            [65, 75, 90, 70], \n",
    "            [40, 90, 60, 55],\n",
    "            [80, 60, 59, 75],\n",
    "            [60, 100, 80, 80]])\n",
    "\n",
    "A=grades\n",
    "col_mean = np.mean(A, axis=0)     # media das colunas (media de cada materia)\n",
    "A = A-col_mean                    # tenho a diferenca entre a nota e as medias    \n",
    "A = A.T                           # transponho\n",
    "T = A@A.T\n",
    "T = T/(A.shape[0]-1)              #divido T por m-1\n",
    "\n",
    "print(\"Covariancia: \\n\\n\" + str(T))\n",
    "\n"
   ]
  },
  {
   "cell_type": "markdown",
   "metadata": {},
   "source": [
    "# Exercício 4 \n",
    "\n",
    "Suponha m > n. Vamos abreviar linearmente independente por LI. Assinale V ou F."
   ]
  },
  {
   "cell_type": "markdown",
   "metadata": {},
   "source": [
    ">( F ) Um conjunto de n vetores ortogonais em R^m é sempre LI.\n",
    ">\n",
    ">    O vetor nulo é combinação linear de qualquer vetor (LD). E, além disso, ele é ortogonal a qualquer outro.\n",
    ">\n",
    ">\n",
    ">( F ) Um conjunto de n vetores LI em R^m é sempre formado por vetores ortogonais.\n",
    ">\n",
    ">    np.array([1,1,1]).dot(np.array([1,1,0])) == 2 != 0 e se tratam de vetores LI\n",
    ">\n",
    ">( F ) É possível obter vetores `v1, v2, . . . , vm` ∈ R^n LI.\n",
    ">\n",
    ">    o máximo que conseguirmos ter é v1...vn pertencente em R^n.\n",
    ">\n",
    ">( V ) Uma base formada pelos vetores LI `v1, v2, . . . , vn` ∈ R^m gera um subespaço de R^m.\n",
    ">\n",
    ">    Ex.: R3 = {(1,0,0), (0,1,0), (0,0,1)} - mas só os dois primeiros representa o subespaço de xy em R3\n",
    ">\n",
    ">( F ) A projeção de um vetor x em um subespaço de R^m é sempre diferente de x.\n",
    ">\n",
    ">    Ex, x = (1,1), subespaco projetado por {(1,0), (0,1)}. Temos que a projeção de x = (1,1)\n",
    ">\n",
    ">( F ) Seja xS a projeção de um vetor unitário x ∈ R^m no subespaço vetorial S. E possível que ||xS|| > ||x||.\n",
    ">\n",
    ">     Isso não é possível pois a projeção só pode ser menor(inclinado)\n",
    ">ou no maximo igual(se eles forem paralelos)"
   ]
  }
 ],
 "metadata": {
  "kernelspec": {
   "display_name": "Python 3",
   "language": "python",
   "name": "python3"
  },
  "language_info": {
   "codemirror_mode": {
    "name": "ipython",
    "version": 3
   },
   "file_extension": ".py",
   "mimetype": "text/x-python",
   "name": "python",
   "nbconvert_exporter": "python",
   "pygments_lexer": "ipython3",
   "version": "3.6.5"
  }
 },
 "nbformat": 4,
 "nbformat_minor": 2
}
