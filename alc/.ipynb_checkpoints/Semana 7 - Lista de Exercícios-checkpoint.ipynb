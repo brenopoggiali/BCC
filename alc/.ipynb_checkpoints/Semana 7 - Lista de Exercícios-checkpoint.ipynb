{
 "cells": [
  {
   "cell_type": "code",
   "execution_count": 2,
   "metadata": {},
   "outputs": [],
   "source": [
    "nome = \"Breno Poggiali de Sousa\"\n",
    "matricula = 2019054800"
   ]
  },
  {
   "cell_type": "code",
   "execution_count": 3,
   "metadata": {},
   "outputs": [],
   "source": [
    "import numpy as np\n",
    "import matplotlib.pyplot as plt\n",
    "from numpy.linalg import solve"
   ]
  },
  {
   "cell_type": "markdown",
   "metadata": {},
   "source": [
    "# Exercício 1\n",
    "\n",
    "A tabela a seguir mostra o número de semanas xi que um candidato gastou estudando para um exame e a\n",
    "probabilidade yi de passar no exame.\n",
    "\n",
    "|x | 1    | 2    | 5    | 10   |\n",
    "|--|------|------|------|------|\n",
    "|y | 0.14 | 0.17 | 0.27 | 0.50 |\n",
    "\n",
    "(Corrigida) A função logística mapeia um número real t para um valor entre 0 e 1 e é definida por y = 1/(1+e^(-t))\n",
    "\n",
    "Suponha que a relação entre o número de semanas xi que um candidato i gastou estudando para o exame e a probabilidade yi de i passar seja dada por uma função logística, onde ti = β0 + β1xi.\n",
    "\n",
    "(a) Determine as equações normais a serem resolvidas para obter β0 e β1 pelo método dos mínimos quadrados. **Dica: note que a função logística não é linear nos parâmetros. É necessário linearizar essa função.**"
   ]
  },
  {
   "cell_type": "markdown",
   "metadata": {},
   "source": [
    "> y = 1/(1+1/(e^(-β0+β0x))) => ln(y/1-y) = β0 + β1x\n",
    ">\n",
    "> Isso porque, y=1/(1+e^t) => y+y/e^t = 1 => e^t = y/1-y\n",
    ">\n",
    "> Usando o método dos quadrados mínimos, temos:\n",
    ">\n",
    "> D(β0, β1) = Σ(from k=1 to n) ($f_{e}$($x_{n}$)-$y_{k}$)²\n",
    ">\n",
    "> D(β0, β1) = Σ(from k=1 to n) (β0+β1x - ln(y/1-$y_{i}$))²\n",
    ">\n",
    "> Ao final do processo, portanto, obtemos:\n",
    ">\n",
    "\n",
    "$$\n",
    "\\begin{bmatrix}\n",
    "n & Σx_{i} \\\\\n",
    "Σx_{i} & Σx_{i}²\\\\\n",
    "\\end{bmatrix}\n",
    ".\n",
    "\\begin{bmatrix}\n",
    "β0\\\\\n",
    "β1\\\\\n",
    "\\end{bmatrix}\n",
    "=\n",
    "\\begin{bmatrix}\n",
    "Σ ln(y_{i}/(1-y_{i})) \\\\\n",
    "Σx_{i} . ln (y_{i}/(1-y_{i}))\\\\\n",
    "\\end{bmatrix}\n",
    "$$"
   ]
  },
  {
   "cell_type": "markdown",
   "metadata": {},
   "source": [
    "(b) Se β0 = −2 e β1 = 0.2, qual a probabilidade de passar no exame após estudar por 20 semanas?"
   ]
  },
  {
   "cell_type": "markdown",
   "metadata": {},
   "source": [
    "> Para: \n",
    "$$ \n",
    "\\beta_0=2, \\beta_1=0,2, x=20\n",
    "$$\n",
    "> temos: x = -2 + 0.2*20\n",
    ">\n",
    "> x = 2\n",
    ">\n",
    "> $y_{20}$ = 1/(1+$e$⁻²) = 0.88 => probabilidade de passar após 20 semanas estudando"
   ]
  },
  {
   "cell_type": "markdown",
   "metadata": {},
   "source": [
    "# Exercício 2\n",
    "\n",
    "Sobre a decomposição QR:\n",
    "\n",
    "(a) Escreva a matriz de Vandermonde X (5x3), a partir das 5 abcissas presentes na tabela:\n",
    "\n",
    "|x | 2.0 | 3.5 | 4.0 | 5.1 | 7.0 |\n",
    "|--|-----|-----|-----|-----|-----|\n",
    "|y | 2.2 | 2.0 | 3.0 | 6.0 | 5.0 |\n"
   ]
  },
  {
   "cell_type": "markdown",
   "metadata": {},
   "source": [
    ">$$\n",
    "V_{x} = \n",
    "\\begin{bmatrix}\n",
    "1 & 2.0 & 4.0 \\\\\n",
    "1 & 3.5 & 12.25 \\\\\n",
    "1 & 4.0 & 16.0 \\\\\n",
    "1 & 5.1 & 26.01 \\\\\n",
    "1 & 7.0 & 49.0 \\\\\n",
    "\\end{bmatrix}\n",
    "$$"
   ]
  },
  {
   "cell_type": "markdown",
   "metadata": {},
   "source": [
    "(b) Considere a decomposição X = QR pelo método de Gram-Schmidt, em que Q é uma matriz ortogonal (5x3) e R é uma matriz tringular superior com elementos da diagonal não-nulos. Encontre os vetores ortonormais \n",
    "\n",
    "q1 = x1 / ||x1||2\n",
    "\n",
    "q2 = x2−(x2·q1)q1 / || x2−(x2·q1)q1 ||"
   ]
  },
  {
   "cell_type": "markdown",
   "metadata": {},
   "source": [
    ">$$\n",
    "q_{1} = \\frac{x_{1}}{||x_{1}||_2} = \n",
    "\\frac{(1,1,1,1,1)}{\\sqrt{5*1²}} = \n",
    "\\left(\\frac{\\sqrt{5}}{5},\\frac{\\sqrt{5}}{5},\\frac{\\sqrt{5}}{5},\\frac{\\sqrt{5}}{5},\\frac{\\sqrt{5}}{5}\\right)\n",
    "$$\n",
    ">\n",
    ">$$\n",
    "q_{2} = \n",
    "\\frac{x_{2}-\\left(x_{2}*q_{1}\\right)q_{1}}{||x_{2}-\\left(x_{2}*q_{1}\\right)q_{1}||_2} = \n",
    "\\frac{\\left(2.0,3.5,4.0,5.1,7.0\\right)-\n",
    "\\left(\\frac{21.6}{5}, \\frac{21.6}{5}\\right)}{||x_{2}-\\left(x_{2}*q_{1}\\right)q_{1}||}\n",
    "$$\n",
    ">\n",
    ">$$\n",
    "q_{2} = \n",
    "\\frac{\\left(-2.32, -0.82, -0.32, -0.78, 2.68\\right)}{3.73} =\n",
    "\\left(-0.62, -0.22, -0.08, 0.21, 0.72\\right)\n",
    "$$"
   ]
  },
  {
   "cell_type": "markdown",
   "metadata": {},
   "source": [
    "(c) Suponha que continuemos a decomposição QR a fim de obter os coeficientes da regressão polinomial y = β0 + β1x + β2x². Sabendo que\n",
    "\n",
    "R = \n",
    "\n",
    "    2.24 9.66 47.97\n",
    "\n",
    "    0.00 3.73 34.05\n",
    "\n",
    "    0.00 0.00 6.27\n",
    "\n",
    "e Q´y = \n",
    "        \n",
    "        8.14\n",
    "        \n",
    "        2.78\n",
    "        \n",
    "        −0.42 \n",
    "\n",
    ",encontre β2 (**Dica: os coeficientes podem ser encontrados a partir da solução de Rβ = Q´y**)."
   ]
  },
  {
   "cell_type": "markdown",
   "metadata": {},
   "source": [
    ">\n",
    ">\n",
    ">$$\n",
    "R_\\beta = Q'_y\n",
    "$$\n",
    ">\n",
    "> Sendo assim, temos:\n",
    ">\n",
    ">$$\n",
    "\\begin{bmatrix}\n",
    "2.24 & 9.66 & 47.97 \\\\\n",
    "0 & 3.37 & 34.05\\\\\n",
    "0 & 0 & 6.27 \\\\\n",
    "\\end{bmatrix}\n",
    ".\n",
    "\\begin{bmatrix}\n",
    "\\beta_0\\\\\n",
    "\\beta_1\\\\\n",
    "\\beta_2\\\\\n",
    "\\end{bmatrix}\n",
    "=\n",
    "\\begin{bmatrix}\n",
    "8.14 \\\\\n",
    "2.78 \\\\\n",
    "-0.42 \\\\\n",
    "\\end{bmatrix}\n",
    "$$\n",
    ">\n",
    "> Logo:\n",
    ">\n",
    ">$$\n",
    "6.27*\\beta_2 = -0.42\n",
    "$$\n",
    ">\n",
    "> E, assim:\n",
    ">\n",
    ">$$\n",
    "\\beta_2 = -0.067\n",
    "$$"
   ]
  }
 ],
 "metadata": {
  "kernelspec": {
   "display_name": "Python 3",
   "language": "python",
   "name": "python3"
  },
  "language_info": {
   "codemirror_mode": {
    "name": "ipython",
    "version": 3
   },
   "file_extension": ".py",
   "mimetype": "text/x-python",
   "name": "python",
   "nbconvert_exporter": "python",
   "pygments_lexer": "ipython3",
   "version": "3.6.5"
  }
 },
 "nbformat": 4,
 "nbformat_minor": 2
}
