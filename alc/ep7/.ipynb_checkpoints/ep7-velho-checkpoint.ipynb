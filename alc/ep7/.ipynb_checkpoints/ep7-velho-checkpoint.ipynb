{
 "cells": [
  {
   "cell_type": "markdown",
   "metadata": {},
   "source": [
    "Before you turn this problem in, make sure everything runs as expected. First, **restart the kernel** (in the menubar, select Kernel$\\rightarrow$Restart) and then **run all cells** (in the menubar, select Cell$\\rightarrow$Run All).\n",
    "\n",
    "Make sure you fill in any place that says `YOUR CODE HERE` or \"YOUR ANSWER HERE\", as well as your name and collaborators below:"
   ]
  },
  {
   "cell_type": "code",
   "execution_count": null,
   "metadata": {},
   "outputs": [],
   "source": [
    "NAME = \"\"\n",
    "COLLABORATORS = \"\""
   ]
  },
  {
   "cell_type": "markdown",
   "metadata": {},
   "source": [
    "---"
   ]
  },
  {
   "cell_type": "markdown",
   "metadata": {
    "deletable": false,
    "editable": false,
    "nbgrader": {
     "checksum": "4cea28a1843359931a5a3bd9dd871a7b",
     "grade": false,
     "grade_id": "cell-1cec5ee110f26162",
     "locked": true,
     "schema_version": 1,
     "solution": false
    }
   },
   "source": [
    "# Exercício Prático 7: QR e estimadores de quadrados mínimos\n",
    "\n",
    "Neste exercício vamos estudar o uso da decomposição QR na obtenção de estimadores de quadrados mínimos de uma regressão linear. A grande vantagem da decomposição QR é que ela não requer a solução direta das equações normais, que podem ser extremamente malcondicionadas. Existem diversos algoritmos para implementá-la, que possuem diferentes estabilidades. Neste EP iremos implementar:\n",
    "* o Gram-Schmidt clássico (visto em sala)\n",
    "* o Gram-Schmidt modificado\n",
    "e iremos compará-lo com um dos melhores algoritmos para QR, conhecido como Reflexões de Householder.\n",
    "\n",
    "Incluímos também a estimação dos parâmetros resolvendo as equações normais pelo método de Cholesky. No entanto, para o conjunto de dados utilizados, o sistema é tão mal condicionado que os erros numéricos impedem que Cholesky seja usado com sucesso."
   ]
  },
  {
   "cell_type": "markdown",
   "metadata": {
    "deletable": false,
    "editable": false,
    "nbgrader": {
     "checksum": "0c58e08699a342ba39ecaa578a70f3a2",
     "grade": false,
     "grade_id": "cell-6d6d241bbaea84c7",
     "locked": true,
     "schema_version": 1,
     "solution": false
    }
   },
   "source": [
    "## Introdução\n",
    "\n",
    "Seja a regressão polinomial\n",
    "\n",
    "$$\n",
    "y = \\beta_0 + \\beta_1 x + \\beta_2 x^2 + \\ldots + \\beta_p x^p + \\epsilon.\n",
    "$$\n",
    "\n",
    "Os estimadores de mínimos quadrados $\\beta$ podem ser obtidos pela solução das equações normais\n",
    "\n",
    "$$\n",
    "X^\\top X \\beta = X^\\top y,\n",
    "$$\n",
    "\n",
    "onde a matriz $X$ é calculada pela função abaixo."
   ]
  },
  {
   "cell_type": "code",
   "execution_count": null,
   "metadata": {
    "deletable": false,
    "editable": false,
    "nbgrader": {
     "checksum": "277f6a2524eebb9208293a39a85cbdd2",
     "grade": false,
     "grade_id": "cell-17e8a89c821e42c6",
     "locked": true,
     "schema_version": 1,
     "solution": false
    }
   },
   "outputs": [],
   "source": [
    "import numpy as np\n",
    "import scipy.linalg\n",
    "\n",
    "def RegressaoPolinomial_getX(x,p):\n",
    "    n = len(x)\n",
    "    X = np.empty((n,p+1))\n",
    "    X[:,0] = 1\n",
    "    X[:,1] = x\n",
    "    for i in range(2,p+1):\n",
    "        X[:,i] = X[:,i-1]*x\n",
    "\n",
    "    return X"
   ]
  },
  {
   "cell_type": "code",
   "execution_count": null,
   "metadata": {
    "deletable": false,
    "editable": false,
    "nbgrader": {
     "checksum": "40f3be010735e881f1b69163e176882d",
     "grade": false,
     "grade_id": "cell-307821ed3aa23569",
     "locked": true,
     "schema_version": 1,
     "solution": false
    }
   },
   "outputs": [],
   "source": [
    "RegressaoPolinomial_getX([1.1,1.2,1.7],4)"
   ]
  },
  {
   "cell_type": "markdown",
   "metadata": {},
   "source": [
    "A seguir apresentamos a implementação um gerador de polinômios aleatórios. Mais precisamente, iremos escrever uma função que retorna $p+1$ números aleatórios independentes e com distribuição uniforme entre -5 e 5. Para isto, usamos a função np.random.rand. Tendo em vista que esta função do numpy gera valores em $[0,1)$, iremos transformá-los de maneira a mapeá-los para o intervalo $[-5,5)$."
   ]
  },
  {
   "cell_type": "code",
   "execution_count": null,
   "metadata": {
    "deletable": false,
    "editable": false,
    "nbgrader": {
     "checksum": "73c4f8c438f87664c7698bbdf46369a6",
     "grade": false,
     "grade_id": "cell-6540c95b49975a18",
     "locked": true,
     "schema_version": 1,
     "solution": false
    }
   },
   "outputs": [],
   "source": [
    "def geraPolinomioAleatorio(p):\n",
    "    return -5+10*np.random.rand(p+1)"
   ]
  },
  {
   "cell_type": "markdown",
   "metadata": {
    "deletable": false,
    "editable": false,
    "nbgrader": {
     "checksum": "f28ee6af8702eaaa5de4ce26df0d1dd7",
     "grade": false,
     "grade_id": "cell-7130806ba6f1fc00",
     "locked": true,
     "schema_version": 1,
     "solution": false
    }
   },
   "source": [
    "A seguir mostramos como a função ```geraPolinomioAleatorio``` pode ser utilizada. Fixando a semente do gerador de números aleatórios igual a 1, iremos obter o polinômio de 3o. grau $p(x) = -0.83 + 2.20x -5x^2 -1.98x^3$."
   ]
  },
  {
   "cell_type": "code",
   "execution_count": null,
   "metadata": {
    "deletable": false,
    "editable": false,
    "nbgrader": {
     "checksum": "2758b3084d692f53d7bce7d22f858b3b",
     "grade": false,
     "grade_id": "cell-7bdb5efee3efb368",
     "locked": true,
     "schema_version": 1,
     "solution": false
    }
   },
   "outputs": [],
   "source": [
    "np.random.seed(1) # seta a semente do gerador de numeros aleatorios igual a 1\n",
    "coef = geraPolinomioAleatorio(3)\n",
    "print('Coeficientes:',coef)"
   ]
  },
  {
   "cell_type": "markdown",
   "metadata": {
    "deletable": false,
    "editable": false,
    "nbgrader": {
     "checksum": "c8ff689c3164dd5430550e3637666e80",
     "grade": false,
     "grade_id": "cell-5930603c484495e3",
     "locked": true,
     "schema_version": 1,
     "solution": false
    }
   },
   "source": [
    "A seguir apresentamos uma função para gerar uma tabela de pontos $(x,y)$ **com erros de medição em $y$**, a partir da avaliação de um polinômio. Vamos assumir que os coeficientes são dados em ordem crescente de grau.\n",
    "\n",
    "Nesta tabela, as abcissas são igualmente espaçadas entre $x_1 = 0$ e $x_n=1$."
   ]
  },
  {
   "cell_type": "code",
   "execution_count": null,
   "metadata": {
    "deletable": false,
    "editable": false,
    "nbgrader": {
     "checksum": "d90bfc80fe29dec2d9661005d81f68cc",
     "grade": false,
     "grade_id": "cell-2c4d36af74f88e12",
     "locked": true,
     "schema_version": 1,
     "solution": false
    }
   },
   "outputs": [],
   "source": [
    "def geraTabelaAleatoriaY(n, coef):\n",
    "    x = np.linspace(0,1,n).reshape(n,1)\n",
    "    y = (np.polyval(coef[::-1],x) + np.random.normal(scale=0.1,size=(n,1)))\n",
    "    return x,y"
   ]
  },
  {
   "cell_type": "markdown",
   "metadata": {},
   "source": [
    "A seguir geramos uma tabela usando a função ```geraTabelaAleatoriaY``` (e os coeficientes ```coef```)."
   ]
  },
  {
   "cell_type": "code",
   "execution_count": null,
   "metadata": {
    "deletable": false,
    "editable": false,
    "nbgrader": {
     "checksum": "9fdb188376da2b50389e899db977d2ba",
     "grade": false,
     "grade_id": "cell-018398c6e0a9b26e",
     "locked": true,
     "schema_version": 1,
     "solution": false
    }
   },
   "outputs": [],
   "source": [
    "x, y = geraTabelaAleatoriaY(11,coef)\n",
    "print(np.hstack([x,y]))"
   ]
  },
  {
   "cell_type": "markdown",
   "metadata": {
    "deletable": false,
    "editable": false,
    "nbgrader": {
     "checksum": "e785e5b0352180e8051a2f7f70372635",
     "grade": false,
     "grade_id": "cell-646b9e7582930ab2",
     "locked": true,
     "schema_version": 1,
     "solution": false
    }
   },
   "source": [
    "## Estudo da estabilidade dos métodos para estimação de quadrados mínimos\n",
    "\n",
    "Nesta parte, vamos comparar os seguintes métodos para a estimação de quadrados mínimos linear:\n",
    "* Cholesky via Equações Normais\n",
    "* QR, método de Gram-Schmidt (clássico)\n",
    "* QR, método de Gram-Schmidt (modificado)\n",
    "* QR, método de Reflexões de Householder\n",
    "\n",
    "Para isto, precisamos definir um problema de regressão onde a solução exata (isto é, os coeficientes $\\beta$) é conhecida. O código a seguir cria:\n",
    "* a matriz $X$ a partir de $m=50$ pontos igualmente espaçados entre 0 e 1 usando o método RegressaoPolinomial_getX,\n",
    "* o vetor $\\beta=[1.0,2.0,\\ldots,15.0]$, e\n",
    "* as respostas correspondentes ao vetor $y = X\\beta$."
   ]
  },
  {
   "cell_type": "code",
   "execution_count": null,
   "metadata": {
    "deletable": false,
    "editable": false,
    "nbgrader": {
     "checksum": "f90ecbee491a18885e965db52ab31540",
     "grade": false,
     "grade_id": "cell-51a725ad7ee03145",
     "locked": true,
     "schema_version": 1,
     "solution": false
    }
   },
   "outputs": [],
   "source": [
    "import numpy as np\n",
    "\n",
    "def createLeastSquaresProblem(m,p):\n",
    "    x = np.linspace(0.0,1.0,num=m)\n",
    "    X = RegressaoPolinomial_getX(x,p-1)\n",
    "    beta = np.arange(1,p+1)\n",
    "    y = X.dot(beta)\n",
    "    return X, beta, y\n",
    "\n",
    "np.random.seed(1)\n",
    "X, beta, y = createLeastSquaresProblem(50,15)"
   ]
  },
  {
   "cell_type": "markdown",
   "metadata": {
    "deletable": false,
    "editable": false,
    "nbgrader": {
     "checksum": "f1724fd29f4d3704e7b627d30938e9ab",
     "grade": false,
     "grade_id": "cell-6a702495dc618c1e",
     "locked": true,
     "schema_version": 1,
     "solution": false
    }
   },
   "source": [
    "Observa-se abaixo que a matriz $X$ (e consequentemente $X^\\top X$) é extremamente malcondicionada."
   ]
  },
  {
   "cell_type": "code",
   "execution_count": null,
   "metadata": {
    "deletable": false,
    "editable": false,
    "nbgrader": {
     "checksum": "0d25233ff86a41d4afbfba270a689d3a",
     "grade": false,
     "grade_id": "cell-8274ea3ea7d54d61",
     "locked": true,
     "schema_version": 1,
     "solution": false
    }
   },
   "outputs": [],
   "source": [
    "# numero de condicao de X\n",
    "print('Numero de condicao de X:',np.linalg.cond(X))"
   ]
  },
  {
   "cell_type": "markdown",
   "metadata": {
    "deletable": false,
    "editable": false,
    "nbgrader": {
     "checksum": "2a96bc7e084baa0b85264a42b97b0249",
     "grade": false,
     "grade_id": "cell-9b7e49f824154de5",
     "locked": true,
     "schema_version": 1,
     "solution": false
    }
   },
   "source": [
    "A estimação dos parâmetros $\\beta$ usando Cholesky via equações normais já está implementada. Embora a matrix $X^\\top X$ seja simétrica definida positiva, o método gera um erro em tempo de execução devido a problemas numéricos."
   ]
  },
  {
   "cell_type": "code",
   "execution_count": null,
   "metadata": {
    "deletable": false,
    "editable": false,
    "nbgrader": {
     "checksum": "d2d72b11c9c4bc4cc401ae695f2fa2fa",
     "grade": false,
     "grade_id": "cell-142da595b4afb91b",
     "locked": true,
     "schema_version": 1,
     "solution": false
    }
   },
   "outputs": [],
   "source": [
    "import scipy.linalg\n",
    "def leastSquares_Cholesky(X, y):\n",
    "    (L,lower) = scipy.linalg.cho_factor(X.T@X, lower=True)\n",
    "    beta = scipy.linalg.cho_solve((L,lower),X.T@y)\n",
    "    return beta\n",
    "\n",
    "try:\n",
    "    beta_cho = leastSquares_Cholesky(X,y)\n",
    "    print(beta_cho)\n",
    "except np.linalg.LinAlgError as err:\n",
    "    print('Erro numérico:', err)"
   ]
  },
  {
   "cell_type": "markdown",
   "metadata": {
    "deletable": false,
    "editable": false,
    "nbgrader": {
     "checksum": "6981f080e9d8ef288fe52a4c39ce9176",
     "grade": false,
     "grade_id": "cell-339632112dd54c0a",
     "locked": true,
     "schema_version": 1,
     "solution": false
    }
   },
   "source": [
    "**Exercício 1:** Complete a implementação do Gram-Schmidt clássico (visto em sala)."
   ]
  },
  {
   "cell_type": "code",
   "execution_count": null,
   "metadata": {
    "deletable": false,
    "nbgrader": {
     "checksum": "f5427adfdffb5b29b83ab9c42ad82107",
     "grade": false,
     "grade_id": "cell-6dbe72c060e9452d",
     "locked": false,
     "schema_version": 1,
     "solution": true
    }
   },
   "outputs": [],
   "source": [
    "def CGS(A):\n",
    "    m,n = A.shape # numero de colunas\n",
    "    Q = np.zeros((m,n))\n",
    "    R = np.zeros((n,n))\n",
    "    for j in range(n):\n",
    "        u = None\n",
    "        # Passo 1: inicializa vetor u com j-ésima coluna de A (~1 linha)\n",
    "        # YOUR CODE HERE\n",
    "        raise NotImplementedError()\n",
    "        for i in range(0,j):\n",
    "            # Passo 2: escreve em R[i,j] o tamanho da projecao de aj em qi (~ 1 linha)\n",
    "            # Passo 3: subtrai de u a componente de aj em qi, cujo tamanho eh R[i,j] (~ 1 linha)\n",
    "            # YOUR CODE HERE\n",
    "            raise NotImplementedError()\n",
    "        # Passo 4: escreve em R[j,j] o tamanho da projecao de u em qj (~ 1 linha)\n",
    "        # Passo 5: escreve na j-ésima coluna de Q o vetor u normalizado (~ 1 linha)\n",
    "        # YOUR CODE HERE\n",
    "        raise NotImplementedError()\n",
    "    return Q,R"
   ]
  },
  {
   "cell_type": "code",
   "execution_count": null,
   "metadata": {
    "deletable": false,
    "editable": false,
    "nbgrader": {
     "checksum": "a5e949e18b15757a4343b0d06d41ebbf",
     "grade": true,
     "grade_id": "cell-a4eb2b4cedd84f1f",
     "locked": true,
     "points": 1,
     "schema_version": 1,
     "solution": false
    }
   },
   "outputs": [],
   "source": [
    "A = 1.0*np.array([[1,1,0],[1,0,1],[0,1,1]])\n",
    "print(A)\n",
    "Q,R = CGS(A)\n",
    "\n",
    "assert np.allclose(Q,np.array([[ 0.70710678,  0.40824829, -0.57735027],\n",
    "        [ 0.70710678, -0.40824829,  0.57735027],\n",
    "        [ 0.        ,  0.81649658,  0.57735027]]))\n",
    "\n",
    "assert np.allclose(R,np.array([[ 1.41421356,  0.70710678,  0.70710678],\n",
    "        [ 0.        ,  1.22474487,  0.40824829],\n",
    "        [ 0.        ,  0.        ,  1.15470054]]))"
   ]
  },
  {
   "cell_type": "markdown",
   "metadata": {
    "deletable": false,
    "editable": false,
    "nbgrader": {
     "checksum": "17d210ca4e4479d91f34bb83b33abe54",
     "grade": false,
     "grade_id": "cell-caf4bf13eba3b069",
     "locked": true,
     "schema_version": 1,
     "solution": false
    }
   },
   "source": [
    "O método Gram-Schmidt modificado é, algebricamente, igual ao método Gram-Schmidt clássico. Contudo, devido a diferenças nos erros de arredondamento, a versão modificada é mais estável numericamente.\n",
    "\n",
    "O método Gram-Schmidt consiste em:\n",
    "* criar uma cópia $U$ da matriz $A$\n",
    "* para cada coluna $i=0,\\ldots$:\n",
    "    * definir $r_{i,i}$ como a norma-2 de $u_i$\n",
    "    * definir $q_i$ como $u_i$ normalizado\n",
    "    * para cada coluna $j=i+1,\\ldots$:\n",
    "        - definir $r_{i,j}$ como o tamanho da projeção de $u_j$ em $q_i$\n",
    "        - subtrair de $u_j$ a projeção de $u_j$ em $q_i$\n",
    "        \n",
    "Ou seja, no início da iteração $i$, todas as colunas de $U$ a partir de $i$-ésima são ortogonais a $q_0, q_1, \\ldots, q_{i-1}$.\n",
    "\n",
    "**Exercício 2** Complete a implementação do Gram-Schmidt modificado."
   ]
  },
  {
   "cell_type": "code",
   "execution_count": null,
   "metadata": {
    "deletable": false,
    "nbgrader": {
     "checksum": "7f065b4464f638eca9d63bd1662191fe",
     "grade": false,
     "grade_id": "cell-c8670a10ea2468ce",
     "locked": false,
     "schema_version": 1,
     "solution": true
    }
   },
   "outputs": [],
   "source": [
    "def MGS(A):\n",
    "    m,n = A.shape # numero de colunas\n",
    "    Q = np.zeros((m,n))\n",
    "    R = np.zeros((n,n))\n",
    "    # Passo 1: cria uma cópia $U$ da matriz $A$ (~1 linha)\n",
    "    # YOUR CODE HERE\n",
    "    raise NotImplementedError()\n",
    "    for i in range(n):\n",
    "        # Passo 2: define $r_{i,i}$ como a norma-2 de $u_i$ (~1 linha, consulte numpy.linalg.norm)\n",
    "        # Passo 3: define $q_i$ como $u_i$ normalizado (~1 linha)\n",
    "        # YOUR CODE HERE\n",
    "        raise NotImplementedError()\n",
    "        for j in range(i+1,n):\n",
    "            # Passo 4: define $r_{i,j}$ como o tamanho da projeção de $u_j$ em $q_i$ (~1 linha)\n",
    "            # Passo 5: subtrai de $u_j$ a projeção de $u_j$ em $q_i$ (~1 linha)\n",
    "            # YOUR CODE HERE\n",
    "            raise NotImplementedError()\n",
    "    return Q,R"
   ]
  },
  {
   "cell_type": "code",
   "execution_count": null,
   "metadata": {
    "deletable": false,
    "editable": false,
    "nbgrader": {
     "checksum": "c3b9b8c1ff89c25c3895cb435269e315",
     "grade": true,
     "grade_id": "cell-8c4d045e5d30fe90",
     "locked": true,
     "points": 1,
     "schema_version": 1,
     "solution": false
    }
   },
   "outputs": [],
   "source": [
    "Q,R = MGS(A)\n",
    "\n",
    "assert np.allclose(Q,np.array([[0.70710678,  0.40824829, -0.57735027],\n",
    "       [ 0.70710678, -0.40824829,  0.57735027],\n",
    "       [ 0.        ,  0.81649658,  0.57735027]]))\n",
    "\n",
    "assert np.allclose(R,np.array([[1.41421356,  0.70710678,  0.70710678],\n",
    "       [ 0.        ,  1.22474487,  0.40824829],\n",
    "       [ 0.        ,  0.        ,  1.15470054]]))"
   ]
  },
  {
   "cell_type": "markdown",
   "metadata": {
    "deletable": false,
    "editable": false,
    "nbgrader": {
     "checksum": "8957b5b11860db9fe578763b56e183b7",
     "grade": false,
     "grade_id": "cell-b9e79c4f39e79e69",
     "locked": true,
     "schema_version": 1,
     "solution": false
    }
   },
   "source": [
    "Os métodos a seguir encontram a solução para o problema de quadrados mínimos linear usando CGS, MGS e Reflexões de Householder, respectivamente."
   ]
  },
  {
   "cell_type": "markdown",
   "metadata": {
    "deletable": false,
    "editable": false,
    "nbgrader": {
     "checksum": "a71242ca8b70b1e70c38425747df4926",
     "grade": false,
     "grade_id": "cell-c95983c72c5c1e2e",
     "locked": true,
     "schema_version": 1,
     "solution": false
    }
   },
   "source": [
    "**Exercício 3** Sabendo que CGS, MGS e Reflexões de Householder são métodos de decomposição QR e que, quando $X$ é de posto completo, a solução de\n",
    "\n",
    "$$\n",
    "X^\\top X \\beta = X^\\top y\n",
    "$$\n",
    "\n",
    "pode ser encontrada resolvendo-se\n",
    "\n",
    "$$\n",
    "R\\beta = Q^\\top y,\n",
    "$$\n",
    "\n",
    "complete as três funções abaixo de forma a encontrar as estimativas de quadrados mínimos usando a decomposição QR."
   ]
  },
  {
   "cell_type": "code",
   "execution_count": null,
   "metadata": {
    "deletable": false,
    "nbgrader": {
     "checksum": "26f331b5fe88181ae590dedab2bc715d",
     "grade": false,
     "grade_id": "cell-1f74b3d1a27de39e",
     "locked": false,
     "schema_version": 1,
     "solution": true
    }
   },
   "outputs": [],
   "source": [
    "def leastSquares_CGS(X, y):\n",
    "    Q,R = CGS(X)\n",
    "    # Passo único: chama método para resolver sistema triangular superior (~ 1 linha, consulte scipy.linalg.solve_triangular)\n",
    "    # YOUR CODE HERE\n",
    "    raise NotImplementedError()\n",
    "    return beta"
   ]
  },
  {
   "cell_type": "code",
   "execution_count": null,
   "metadata": {
    "deletable": false,
    "editable": false,
    "nbgrader": {
     "checksum": "462c2e31e6d3b27087cebfaaa88b86c4",
     "grade": true,
     "grade_id": "cell-7693da3368200a61",
     "locked": true,
     "points": 1,
     "schema_version": 1,
     "solution": false
    }
   },
   "outputs": [],
   "source": [
    "beta_cgs = leastSquares_CGS(X,y)\n",
    "\n",
    "assert np.allclose(beta_cgs, np.array([  8.06735800e-01,   3.55516541e+01,  -9.10567499e+02,\n",
    "         9.87969147e+03,  -5.50713205e+04,   1.77999984e+05,\n",
    "        -3.51355776e+05,   4.28354941e+05,  -3.12463736e+05,\n",
    "         1.22974951e+05,  -1.88491622e+04,  -3.80499899e+02,\n",
    "        -6.71957717e+01,  -1.98418269e+01,  -7.71373997e+00]))"
   ]
  },
  {
   "cell_type": "code",
   "execution_count": null,
   "metadata": {
    "deletable": false,
    "nbgrader": {
     "checksum": "cdb63c5c8c2a9f8301f700c36c336dfa",
     "grade": false,
     "grade_id": "cell-2802a58b8b1f84af",
     "locked": false,
     "schema_version": 1,
     "solution": true
    }
   },
   "outputs": [],
   "source": [
    "def leastSquares_MGS(X, y):\n",
    "    Q,R = MGS(X)\n",
    "    # Passo único: chama método para resolver sistema triangular superior (~ 1 linha, consulte scipy.linalg.solve_triangular)\n",
    "    # YOUR CODE HERE\n",
    "    raise NotImplementedError()\n",
    "    return beta"
   ]
  },
  {
   "cell_type": "code",
   "execution_count": null,
   "metadata": {
    "deletable": false,
    "editable": false,
    "nbgrader": {
     "checksum": "6d2f81061c50c6764339ab4caa9fcca0",
     "grade": true,
     "grade_id": "cell-d70235cd6637fe2d",
     "locked": true,
     "points": 1,
     "schema_version": 1,
     "solution": false
    }
   },
   "outputs": [],
   "source": [
    "beta_mgs = leastSquares_MGS(X,y)\n",
    "\n",
    "assert np.allclose(beta_mgs, np.array([  9.99998780e-01,   2.00113769e+00,   2.92904946e+00,\n",
    "         5.70363688e+00,  -1.65179349e+01,   1.70414736e+02,\n",
    "        -8.13663073e+02,   2.80683902e+03,  -6.67762056e+03,\n",
    "         1.13097381e+04,  -1.34325436e+04,   1.10251871e+04,\n",
    "        -5.90019519e+03,   1.88701184e+03,  -2.50284268e+02]))"
   ]
  },
  {
   "cell_type": "code",
   "execution_count": null,
   "metadata": {
    "deletable": false,
    "nbgrader": {
     "checksum": "2691fdf1671bb28006ba9044c9a18d43",
     "grade": false,
     "grade_id": "cell-c04bec782c596e26",
     "locked": false,
     "schema_version": 1,
     "solution": true
    }
   },
   "outputs": [],
   "source": [
    "# YOUR CODE HERE\n",
    "raise NotImplementedError()"
   ]
  },
  {
   "cell_type": "code",
   "execution_count": null,
   "metadata": {
    "deletable": false,
    "editable": false,
    "nbgrader": {
     "checksum": "a0116c46d456cbedce64977617eeca79",
     "grade": true,
     "grade_id": "cell-d70235cd6637fe2e",
     "locked": true,
     "points": 1,
     "schema_version": 1,
     "solution": false
    }
   },
   "outputs": [],
   "source": [
    "beta_hh = leastSquares_Householder(X,y)\n",
    "\n",
    "assert np.allclose(beta_hh, np.array([  1.        ,   2.        ,   3.        ,   4.        ,\n",
    "         4.99999997,   6.00000021,   6.99999893,   8.00000369,\n",
    "         8.99999106,  10.00001537,  10.99998135,  12.00001561,\n",
    "        12.99999144,  14.00000277,  14.9999996 ]))"
   ]
  }
 ],
 "metadata": {
  "kernelspec": {
   "display_name": "Python 3",
   "language": "python",
   "name": "python3"
  },
  "language_info": {
   "codemirror_mode": {
    "name": "ipython",
    "version": 3
   },
   "file_extension": ".py",
   "mimetype": "text/x-python",
   "name": "python",
   "nbconvert_exporter": "python",
   "pygments_lexer": "ipython3",
   "version": "3.6.5"
  }
 },
 "nbformat": 4,
 "nbformat_minor": 2
}
