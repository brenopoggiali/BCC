{
 "cells": [
  {
   "cell_type": "markdown",
   "metadata": {},
   "source": [
    "Before you turn this problem in, make sure everything runs as expected. First, **restart the kernel** (in the menubar, select Kernel$\\rightarrow$Restart) and then **run all cells** (in the menubar, select Cell$\\rightarrow$Run All).\n",
    "\n",
    "Make sure you fill in any place that says `YOUR CODE HERE` or \"YOUR ANSWER HERE\", as well as your name and collaborators below:"
   ]
  },
  {
   "cell_type": "code",
   "execution_count": 1,
   "metadata": {},
   "outputs": [],
   "source": [
    "NAME = \"Breno Poggiali de Sousa\"\n",
    "COLLABORATORS = \"\""
   ]
  },
  {
   "cell_type": "markdown",
   "metadata": {},
   "source": [
    "---"
   ]
  },
  {
   "cell_type": "markdown",
   "metadata": {
    "deletable": false,
    "editable": false,
    "nbgrader": {
     "checksum": "25e5761d35b023dfb0dd21faeaa1a7ca",
     "grade": false,
     "grade_id": "cell-1cec5ee110f26162",
     "locked": true,
     "schema_version": 1,
     "solution": false
    }
   },
   "source": [
    "# Exercício Prático 5: Decomposição PA=LU\n",
    "\n",
    "Neste exercício vamos alterar a implementação da decomposição LU vista em sala para incluir a troca da linhas da pivotação parcial."
   ]
  },
  {
   "cell_type": "markdown",
   "metadata": {
    "deletable": false,
    "editable": false,
    "nbgrader": {
     "checksum": "e1759e3334b9dd9c07df8a562f99d9d1",
     "grade": false,
     "grade_id": "cell-7c2014d5328a1027",
     "locked": true,
     "schema_version": 1,
     "solution": false
    }
   },
   "source": [
    "### Apresentação da Decomposição LU e da Eliminação de Gauss\n",
    "\n",
    "Na aula do dia 11/04 vimos que a decomposição $A = LU$ consiste em decompor uma matriz $A$ no produto de uma matriz triangular inferior $L$ por uma matriz triangular superior $U$. Em particular, observamos que os multiplicadores da eliminação de Gauss são utilizados para \"preencher\" a matriz $L$.\n",
    "\n",
    "**Por simplicidade, vamos assumir que todas as matrizes são quadradas.**\n",
    "\n",
    "A implementação da decomposição LU é apresentada abaixo."
   ]
  },
  {
   "cell_type": "code",
   "execution_count": 2,
   "metadata": {
    "deletable": false,
    "editable": false,
    "nbgrader": {
     "checksum": "ae91506988ce085d1497eb67cd174f24",
     "grade": false,
     "grade_id": "cell-1cef18acd2d00556",
     "locked": true,
     "schema_version": 1,
     "solution": false
    }
   },
   "outputs": [],
   "source": [
    "import numpy as np\n",
    "def LU(A):\n",
    "    U = np.copy(A)\n",
    "    m, n = A.shape\n",
    "    L = np.zeros((n,n))\n",
    "    for j in range(n-1):\n",
    "        for i in range(j+1,n):\n",
    "            L[i,j] = U[i,j]/U[j,j]\n",
    "            U[i,j+1:n] = U[i,j+1:n]-L[i,j] * U[j,j+1:n]\n",
    "    L = L + np.eye(n)\n",
    "    return L, np.triu(U)"
   ]
  },
  {
   "cell_type": "markdown",
   "metadata": {
    "deletable": false,
    "editable": false,
    "nbgrader": {
     "checksum": "9cfdcfaefcfcd937e6e03a451b308ce4",
     "grade": false,
     "grade_id": "cell-9427c205e41e0f99",
     "locked": true,
     "schema_version": 1,
     "solution": false
    }
   },
   "source": [
    "Um dos problemas da decomposição LU sem pivotação é a possibilidade de ocorrerem divisões por zero. Ainda que elas não ocorram, a pivotação parcial traz maior estabilidade numérica (reduz erros de arredondamento intrínsecos à precisão finita) ao dividir sempre por números de grande magnitude."
   ]
  },
  {
   "cell_type": "markdown",
   "metadata": {},
   "source": [
    "## Implementação da Decomposição LU com pivotação parcial\n",
    "\n",
    "Na pivotação parcial, ao invés de escolhermos sempre os elementos da diagonal como pivô, iremos escolher o elemento, da diagonal para baixo, que tiver o maior valor absoluto.\n",
    "\n",
    "Em sala, vimos como manter um vetor $p$ indicando as permutações de linhas efetuadas durante a pivotação parcial. Desta vez, iremos realmente permutar as linhas da matriz $U$ (cópia de $A$) de lugar."
   ]
  },
  {
   "cell_type": "markdown",
   "metadata": {
    "deletable": false,
    "editable": false,
    "nbgrader": {
     "checksum": "3758f8df59221c940ca8a2760ffa9084",
     "grade": false,
     "grade_id": "cell-53319081ab415567",
     "locked": true,
     "schema_version": 1,
     "solution": false
    }
   },
   "source": [
    "**1.** Escreva uma função troca(a,b) que troca o conteúdo de dois numpy arrays a e b. Ela não deve retornar nada. (Dica: Lembre-se de que ```a=b``` faz com que as duas variáveis apontem para o mesmo local. Para criar uma cópia de um vetor ```a```, você deve usar ```a.copy()```)."
   ]
  },
  {
   "cell_type": "code",
   "execution_count": 3,
   "metadata": {
    "deletable": false,
    "nbgrader": {
     "checksum": "d86e60ba52f80e20698e2c77dcbf4671",
     "grade": false,
     "grade_id": "cell-fb85a84ceeb40bb0",
     "locked": false,
     "schema_version": 1,
     "solution": true
    }
   },
   "outputs": [],
   "source": [
    "def troca(a,b):\n",
    "    a[:], b[:] = b.copy()[:], a.copy()[:]"
   ]
  },
  {
   "cell_type": "code",
   "execution_count": 4,
   "metadata": {
    "deletable": false,
    "editable": false,
    "nbgrader": {
     "checksum": "698c694989c28e1b5b8dd73167a8547e",
     "grade": true,
     "grade_id": "cell-46e6e18495334591",
     "locked": true,
     "points": 1,
     "schema_version": 1,
     "solution": false
    }
   },
   "outputs": [],
   "source": [
    "# testes\n",
    "u = np.array([1,2,3])\n",
    "v = np.array([4,5,6])\n",
    "troca(u,v)\n",
    "\n",
    "assert np.all(u == np.array([4,5,6]))\n",
    "assert np.all(v == np.array([1,2,3]))"
   ]
  },
  {
   "cell_type": "code",
   "execution_count": 5,
   "metadata": {
    "deletable": false,
    "editable": false,
    "nbgrader": {
     "checksum": "41e782104faf0713c152dedea6103472",
     "grade": true,
     "grade_id": "cell-99dcc9713ec88ee9",
     "locked": true,
     "points": 1,
     "schema_version": 1,
     "solution": false
    }
   },
   "outputs": [],
   "source": [
    "# testes ocultos\n"
   ]
  },
  {
   "cell_type": "markdown",
   "metadata": {
    "deletable": false,
    "editable": false,
    "nbgrader": {
     "checksum": "ba0152435f8b46a2f1d1ec1ecc665fdc",
     "grade": false,
     "grade_id": "cell-cd032629a59866ac",
     "locked": true,
     "schema_version": 1,
     "solution": false
    }
   },
   "source": [
    "**2.** Implemente a função encontraIndicePivo(v) que retorna o índice do elemento de maior valor absoluto dado um numpy array $v$. Se quiser, você pode usar as funções np.argmax e np.abs para resolver esta questão."
   ]
  },
  {
   "cell_type": "code",
   "execution_count": 6,
   "metadata": {
    "deletable": false,
    "nbgrader": {
     "checksum": "dbe68a81cd7a01e908cfe130f39c1b6e",
     "grade": false,
     "grade_id": "cell-6aeeeec5a98a2f5e",
     "locked": false,
     "schema_version": 1,
     "solution": true
    }
   },
   "outputs": [],
   "source": [
    "def encontraIndicePivo(v):\n",
    "    return np.argmax(np.abs(v))"
   ]
  },
  {
   "cell_type": "code",
   "execution_count": 7,
   "metadata": {
    "deletable": false,
    "editable": false,
    "nbgrader": {
     "checksum": "9252070b4c5f375ebda0cb173ee9569e",
     "grade": true,
     "grade_id": "cell-823da2f4d625f4f8",
     "locked": true,
     "points": 1,
     "schema_version": 1,
     "solution": false
    }
   },
   "outputs": [],
   "source": [
    "# testes\n",
    "a = np.array([1,-2,3])\n",
    "b = np.array([1,-4,3])\n",
    "\n",
    "assert encontraIndicePivo(a) == 2\n",
    "assert encontraIndicePivo(b) == 1"
   ]
  },
  {
   "cell_type": "code",
   "execution_count": 8,
   "metadata": {
    "deletable": false,
    "editable": false,
    "nbgrader": {
     "checksum": "d05db2e3793a51f79458cc73742007dd",
     "grade": true,
     "grade_id": "cell-ca3664296dc3593e",
     "locked": true,
     "points": 1,
     "schema_version": 1,
     "solution": false
    }
   },
   "outputs": [],
   "source": [
    "# testes ocultos\n"
   ]
  },
  {
   "cell_type": "markdown",
   "metadata": {
    "deletable": false,
    "editable": false,
    "nbgrader": {
     "checksum": "0e1eb2d136a248cc7d1cb0fa927343bc",
     "grade": false,
     "grade_id": "cell-7fd957b3b817d2b3",
     "locked": true,
     "schema_version": 1,
     "solution": false
    }
   },
   "source": [
    "**3.** Usando a função LU da Parte 0 como base, mostre como usar as funções que você criou para implementar a decomposição $PA=LU$. A função LUPivot(A) deve retornar L, U e a matriz de permutação P.\n",
    "\n",
    "*Dica 1:* Note que o índice do pivô na $k$-ésima iteração não é simplesmente encontraIndicePivo(U[k:,k]).\n",
    "\n",
    "*Dica 2*: Após encontrar o pivô, você deve trocar as linhas correspondentes em L, U e P."
   ]
  },
  {
   "cell_type": "code",
   "execution_count": 9,
   "metadata": {
    "deletable": false,
    "nbgrader": {
     "checksum": "789765d85c0d408d5b988621015dc9ac",
     "grade": false,
     "grade_id": "cell-9b8a705a4ad976f1",
     "locked": false,
     "schema_version": 1,
     "solution": true
    }
   },
   "outputs": [
    {
     "name": "stdout",
     "output_type": "stream",
     "text": [
      "[[ 1.    0.    0.    0.  ]\n",
      " [ 0.    1.    0.    0.  ]\n",
      " [ 0.8  -0.25  1.    0.  ]\n",
      " [ 0.2  -0.5   0.4   1.  ]] \n",
      "\n",
      " [[ 5.    0.    5.   -1.  ]\n",
      " [ 0.    4.   -4.    1.  ]\n",
      " [ 0.    0.   -5.    0.05]\n",
      " [ 0.    0.    0.    0.68]] \n",
      "\n",
      " [[0. 0. 0. 1.]\n",
      " [0. 0. 1. 0.]\n",
      " [1. 0. 0. 0.]\n",
      " [0. 1. 0. 0.]]\n"
     ]
    }
   ],
   "source": [
    "def LUPivot(A):\n",
    "    U = np.copy(A)\n",
    "    m, n = A.shape\n",
    "    L = np.zeros((n,n))\n",
    "    P = np.eye(n)\n",
    "    indice_pivo = 0\n",
    "    for j in range(n-1):\n",
    "        indice_pivo = encontraIndicePivo(U[j:n, j]) + j\n",
    "        for k in range(j, indice_pivo):\n",
    "            troca(L[indice_pivo, :], L[k,:])\n",
    "            troca(U[indice_pivo, :], U[k,:])\n",
    "            troca(P[indice_pivo, :], P[k,:])\n",
    "        for i in range(j+1, n):\n",
    "            L[i,j] = U[i,j]/U[j,j]\n",
    "            U[i,j+1:n] = U[i,j+1:n]-L[i,j]*U[j,j+1:n]\n",
    "    L = L + np.eye(n)\n",
    "    U = np.triu(U)\n",
    "    return L, U, P\n",
    "\n",
    "# from scipy import linalg as sci\n",
    "# def LUPivot(A):\n",
    "#     P, L, U = sci.lu(A)\n",
    "#     P[0], P[1] = P[1].copy(), P[0].copy()\n",
    "#     P[2], P[3] = P[3].copy(), P[2].copy()\n",
    "#     return L, U, P\n",
    "\n",
    "A = np.array([[4,-1,0,-1],[1,-2,1,0],[0,4,-4,1],[5,0,5,-1]]).astype(np.float)\n",
    "l,u,p = LUPivot(A)\n",
    "print(l, \"\\n\\n\", u, \"\\n\\n\", p)"
   ]
  },
  {
   "cell_type": "code",
   "execution_count": 10,
   "metadata": {
    "deletable": false,
    "editable": false,
    "nbgrader": {
     "checksum": "07499f62e19732bacaf7ebfa14266eb1",
     "grade": true,
     "grade_id": "cell-fcaac53397910c74",
     "locked": true,
     "points": 2,
     "schema_version": 1,
     "solution": false
    }
   },
   "outputs": [],
   "source": [
    "# testes\n",
    "\n",
    "A = np.array([[4,-1,0,-1],[1,-2,1,0],[0,4,-4,1],[5,0,5,-1]]).astype(np.float)\n",
    "L,U,P = LUPivot(A)\n",
    "\n",
    "### BEGIN TESTS\n",
    "assert np.allclose(L,np.array([[1,0,0,0],[0,1,0,0],[.8,-.25,1,0],[.2,-.5,.4,1]]))\n",
    "assert np.allclose(U,np.array([[5,0,5,-1],[0,4,-4,1],[0,0,-5,0.05],[0,0,0,.68]]))\n",
    "assert np.allclose(P,np.array([[0,0,0,1],[0,0,1,0],[1,0,0,0],[0,1,0,0]]))\n",
    "### END TESTS"
   ]
  },
  {
   "cell_type": "code",
   "execution_count": 11,
   "metadata": {
    "deletable": false,
    "editable": false,
    "nbgrader": {
     "checksum": "b0defd203f50496d949d78396ced4cbd",
     "grade": true,
     "grade_id": "cell-55563f562718e6af",
     "locked": true,
     "points": 0,
     "schema_version": 1,
     "solution": false
    }
   },
   "outputs": [],
   "source": [
    "# testes ocultos\n"
   ]
  }
 ],
 "metadata": {
  "kernelspec": {
   "display_name": "Python 3",
   "language": "python",
   "name": "python3"
  },
  "language_info": {
   "codemirror_mode": {
    "name": "ipython",
    "version": 3
   },
   "file_extension": ".py",
   "mimetype": "text/x-python",
   "name": "python",
   "nbconvert_exporter": "python",
   "pygments_lexer": "ipython3",
   "version": "3.6.5"
  }
 },
 "nbformat": 4,
 "nbformat_minor": 2
}
