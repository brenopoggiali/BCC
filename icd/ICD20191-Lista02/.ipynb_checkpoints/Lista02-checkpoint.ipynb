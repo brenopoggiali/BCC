{
 "cells": [
  {
   "cell_type": "markdown",
   "metadata": {
    "deletable": false,
    "editable": false,
    "nbgrader": {
     "checksum": "eaf0c7f6324b9d7a98af39784e325a59",
     "grade": false,
     "grade_id": "cellc-a00",
     "locked": true,
     "schema_version": 1,
     "solution": false
    }
   },
   "source": [
    "# Lista 02 - Probabilidade + Estatística"
   ]
  },
  {
   "cell_type": "code",
   "execution_count": 31,
   "metadata": {
    "deletable": false,
    "editable": false,
    "nbgrader": {
     "checksum": "33ab7cb5c99e9e9ec290a223f69051e9",
     "grade": false,
     "grade_id": "cell-d52aeab7f55b79f3",
     "locked": true,
     "schema_version": 1,
     "solution": false
    }
   },
   "outputs": [],
   "source": [
    "import matplotlib.pyplot as plt\n",
    "import numpy as np\n",
    "import pandas as pd\n",
    "\n",
    "from numpy.testing import *\n",
    "from scipy import stats as ss\n",
    "\n",
    "plt.style.use('seaborn-colorblind')\n",
    "plt.ion()"
   ]
  },
  {
   "cell_type": "markdown",
   "metadata": {
    "deletable": false,
    "editable": false,
    "nbgrader": {
     "checksum": "fa204a34b383dedd4e2cca5c2ab531fc",
     "grade": false,
     "grade_id": "cell-b6fd0cae1e2c20ba",
     "locked": true,
     "schema_version": 1,
     "solution": false
    }
   },
   "source": [
    "# Exercício 01:\n",
    "\n",
    "\n",
    "Suponha que a altura de mulheres adultas de algumas regiões seguem uma distribuição normal com $\\mu = 162$ centímetros e $\\sigma = 8$. Nesse caso, responda às perguntas abaixo:"
   ]
  },
  {
   "cell_type": "markdown",
   "metadata": {
    "deletable": false,
    "editable": false,
    "nbgrader": {
     "checksum": "41d492c263910d26f137958cfb6ddbd9",
     "grade": false,
     "grade_id": "cell-23841d1381e158d6",
     "locked": true,
     "schema_version": 1,
     "solution": false
    }
   },
   "source": [
    "ID:\n",
    "\n",
    "(a) Dado que uma mulher mede 180\n",
    "\n",
    "centímetros, qual a probabilidade de alguém escolhido ao acaso ser maior que ela? Para responder à questão, crie uma função a(), sem parâmetros, que retorna a resposta da questão com uma precisão de 4 casas decimais.\n",
    "\n",
    "__Dica__:\n",
    "1. a função round(var, n) retorna o valor da variável var com uma precisão de n casas decimais.\n",
    "1. a classe `from scipy.stats.distributions import norm` implementa uma normal e já tem um método cdf e um método ppf (inverso da cdf)."
   ]
  },
  {
   "cell_type": "code",
   "execution_count": 32,
   "metadata": {
    "deletable": false,
    "nbgrader": {
     "checksum": "f4e11de49d009fd4232b792a2892666f",
     "grade": false,
     "grade_id": "cell-98e7ddcad81d69f5",
     "locked": false,
     "schema_version": 1,
     "solution": true
    }
   },
   "outputs": [
    {
     "data": {
      "text/plain": [
       "0.0122"
      ]
     },
     "execution_count": 32,
     "metadata": {},
     "output_type": "execute_result"
    }
   ],
   "source": [
    "# Crie aqui a função a() - com esse nome e sem parâmetros - \n",
    "# para retornar a resposta com precisão de 4 casas decimais!\n",
    "from scipy.stats.distributions import norm\n",
    "mu = 162\n",
    "std = 8\n",
    "\n",
    "def a():\n",
    "    return round(1-norm(mu, std).cdf(180), 4)\n",
    "\n",
    "a()"
   ]
  },
  {
   "cell_type": "code",
   "execution_count": null,
   "metadata": {
    "deletable": false,
    "editable": false,
    "nbgrader": {
     "checksum": "f7c54776988c6db3e25e93d834b08c58",
     "grade": true,
     "grade_id": "cell-fbf34fa20fb08d7f",
     "locked": true,
     "points": 1,
     "schema_version": 1,
     "solution": false
    }
   },
   "outputs": [],
   "source": []
  },
  {
   "cell_type": "markdown",
   "metadata": {
    "deletable": false,
    "editable": false,
    "nbgrader": {
     "checksum": "a7e9b868299fd5928c925fc1724cfab8",
     "grade": false,
     "grade_id": "cell-15510104bc591c06",
     "locked": true,
     "schema_version": 1,
     "solution": false
    }
   },
   "source": [
    "(b) Uma treinadora dessa região quer montar uma equipe de basquete. Para isso, ela quer delimitar uma altura mínima $h$ que as jogadoras devem ter. Ele quer que $h$ seja maior que pelo menos $90\\%$ das alturas de mulheres daquela região. Qual o valor de $h$? Para responder à questão, crie uma função _b()_, sem parâmetros, que retorna a resposta da questão com uma precisão de 4 casas decimais.  \n",
    "\n",
    "__Dica:__  \n",
    "a função _round(var, n)_ ou _np.round(var, n)_ retorna o valor da variável var com uma precisão de n casas decimais."
   ]
  },
  {
   "cell_type": "code",
   "execution_count": 33,
   "metadata": {
    "deletable": false,
    "nbgrader": {
     "checksum": "ae35ce6357b273cd6fee822e7a4e632a",
     "grade": false,
     "grade_id": "cell-c3b2cf2cca494217",
     "locked": false,
     "schema_version": 1,
     "solution": true
    }
   },
   "outputs": [
    {
     "data": {
      "text/plain": [
       "172.2546"
      ]
     },
     "execution_count": 33,
     "metadata": {},
     "output_type": "execute_result"
    }
   ],
   "source": [
    "#Crie aqui a função b() - com esse nome e sem parâmetros - \n",
    "# para retornar a resposta com precisão de 4 casas decimais!\n",
    "\n",
    "def b():\n",
    "    for n in np.arange(173, 162, -0.0001):\n",
    "        perc_down = round(norm(mu, std).cdf(n), 4)\n",
    "        if perc_down <= 0.9000:\n",
    "            return round(n, 4)\n",
    "        \n",
    "b()"
   ]
  },
  {
   "cell_type": "code",
   "execution_count": null,
   "metadata": {
    "deletable": false,
    "editable": false,
    "nbgrader": {
     "checksum": "87e198e2b2d7353c619a7b119e507f82",
     "grade": true,
     "grade_id": "cell-f20b2d7bee29c16d",
     "locked": true,
     "points": 1,
     "schema_version": 1,
     "solution": false
    }
   },
   "outputs": [],
   "source": []
  },
  {
   "cell_type": "markdown",
   "metadata": {
    "deletable": false,
    "editable": false,
    "nbgrader": {
     "checksum": "3fa91db5eac83e6a97f7736590e27377",
     "grade": false,
     "grade_id": "cell-59a6d09a8ca24318",
     "locked": true,
     "schema_version": 1,
     "solution": false
    }
   },
   "source": [
    "# Exercício 02:\n",
    "\n",
    "\n",
    "As seguintes amostras foram geradas seguindo uma distribuição normal N($\\mu$, $\\sigma$), onde $\\mu$, $\\sigma$ não necessariamente são os mesmos para ambas. Nos histogramas gerados é possível visualizar essa distribuição."
   ]
  },
  {
   "cell_type": "code",
   "execution_count": 34,
   "metadata": {
    "deletable": false,
    "editable": false,
    "nbgrader": {
     "checksum": "38461183fae6f90a4f3b1d3f97ff9272",
     "grade": false,
     "grade_id": "cell-a553f82f599eb6f9",
     "locked": true,
     "schema_version": 1,
     "solution": false
    }
   },
   "outputs": [
    {
     "data": {
      "image/png": "[encoded data removed]",
      "text/plain": [
       "<Figure size 432x288 with 1 Axes>"
      ]
     },
     "metadata": {},
     "output_type": "display_data"
    },
    {
     "data": {
      "image/png": "[encoded data removed]",
      "text/plain": [
       "<Figure size 432x288 with 1 Axes>"
      ]
     },
     "metadata": {},
     "output_type": "display_data"
    }
   ],
   "source": [
    "dados1 = [3.8739066,4.4360658,3.0235970,6.1573843,3.7793704,3.6493491,7.2910457,3.7489513,5.9306145,5.3897872,\n",
    "          5.9091607,5.2491517,7.1163771,4.1930465,-0.1994626,3.2583011,5.9229948,1.8548338,4.8335581,5.2329008,\n",
    "          1.5683191,5.8756518,3.4215138,4.7900996,5.9530234,4.4550699,3.3868535,5.3060581,4.2124300,7.0123823,\n",
    "          4.9790184,2.2368825,3.9182012,5.4449732,5.7594690,5.4159924,3.5914275,3.4382886,4.0706780,6.9489863,\n",
    "          6.3269462,2.8740986,7.4210664,4.6413206,4.2209699,4.2009752,6.2509627,4.9137823,4.9171593,6.3367493]\n",
    "\n",
    "dados2 = [2.291049832,5.092164483,3.287501109,4.152289011,4.534256822,5.513028947,2.696660244,3.270482741,\n",
    "          5.435338467,6.244110011,1.363583509,5.385855994,6.069527998,2.148361858,6.471584096,4.953202949,\n",
    "          6.827787432,4.695468536,2.047598339,8.858080081,5.436394723,7.849470791,4.053545595,3.204185038,\n",
    "          2.400954454,-0.002092845,3.571868529,6.202897955,5.224842718,4.958476608,6.708545254 -0.115002497,\n",
    "          5.106492712,3.343396551,5.984204841,3.552744920,4.041155327,5.709103288,3.137316917,2.100906915,\n",
    "          4.379147487,0.536031040,4.777440348,5.610527663,3.802506385,3.484180306,7.316861806,2.965851553,\n",
    "          3.640560731,4.765175164,7.047545215,5.683723446,5.048988000,6.891720033,3.619091771,8.396155189,\n",
    "          5.317492252,2.376071049,4.383045321,7.386186468,6.554626718,5.020433071,3.577328839,5.534419417,\n",
    "          3.600534876,2.172314745,4.632719037,4.361328042,4.292156420,1.102889101,4.621840612,4.946746104,\n",
    "          6.182937650,5.415993589,4.346608293,2.896446739,3.516568382,6.972384719,3.233811405,4.048606672,\n",
    "          1.663547342,4.607297335 -0.753490459,3.205353052,1.269307121,0.962428478,4.718627886,4.686076530,\n",
    "          2.919118501,6.204058666,4.803050149,4.670632749,2.811395731,7.214950058,3.275492976,2.336357937,\n",
    "          8.494097155,6.473022507,8.525715511,4.364707111]\n",
    "\n",
    "plt.hist(dados1)\n",
    "plt.show()\n",
    "plt.hist(dados2)\n",
    "plt.show()"
   ]
  },
  {
   "cell_type": "markdown",
   "metadata": {
    "deletable": false,
    "editable": false,
    "nbgrader": {
     "checksum": "e7a65c53751413a3706995f755ef8ea3",
     "grade": false,
     "grade_id": "cell-bd6ee8e5354ecfe2",
     "locked": true,
     "schema_version": 1,
     "solution": false
    }
   },
   "source": [
    "__a)__ A partir dos histogramas, tente aproximar uma normal a cada um deles, desenhando-a sobre o histograma. Para isso, você deve estimar valores de $\\mu$ e $\\sigma$. Não se esqueça de normalizar os dados, ou seja, o eixo y deve estar um uma escala de 0 a (no máximo) 1!"
   ]
  },
  {
   "cell_type": "code",
   "execution_count": 35,
   "metadata": {
    "deletable": false,
    "nbgrader": {
     "checksum": "a2a9350e259f177d671ace9f62bda20e",
     "grade": false,
     "grade_id": "cell-58abe466e157835a",
     "locked": false,
     "schema_version": 1,
     "solution": true
    }
   },
   "outputs": [
    {
     "name": "stderr",
     "output_type": "stream",
     "text": [
      "/home/poggiali/.local/lib/python3.6/site-packages/matplotlib/axes/_axes.py:6521: MatplotlibDeprecationWarning: \n",
      "The 'normed' kwarg was deprecated in Matplotlib 2.1 and will be removed in 3.1. Use 'density' instead.\n",
      "  alternative=\"'density'\", removal=\"3.1\")\n"
     ]
    },
    {
     "data": {
      "image/png": "[encoded data removed]",
      "text/plain": [
       "<Figure size 432x288 with 1 Axes>"
      ]
     },
     "metadata": {},
     "output_type": "display_data"
    },
    {
     "data": {
      "text/plain": [
       "<matplotlib.legend.Legend at 0x7f3ff4fe8cf8>"
      ]
     },
     "execution_count": 35,
     "metadata": {},
     "output_type": "execute_result"
    },
    {
     "data": {
      "image/png": "[encoded data removed]",
      "text/plain": [
       "<Figure size 432x288 with 1 Axes>"
      ]
     },
     "metadata": {},
     "output_type": "display_data"
    }
   ],
   "source": [
    "mu1, std1 = norm.fit(dados1)\n",
    "mu2, std2 = norm.fit(dados2)\n",
    "\n",
    "plt.hist(dados1, bins=20, normed=True, label='hist1')\n",
    "x1_lin = np.linspace(min(dados1), max(dados1))\n",
    "plt.plot(x1_lin, norm.pdf(x1_lin, mu1, std1), label='norm1')\n",
    "plt.legend()\n",
    "plt.show()\n",
    "\n",
    "plt.hist(dados2, bins=20, normed=True, label='hist2')\n",
    "x2_lin = np.linspace(min(dados2), max(dados2))\n",
    "plt.plot(x2_lin, norm.pdf(x2_lin, mu2, std2), label='norm2')\n",
    "plt.legend()"
   ]
  },
  {
   "cell_type": "markdown",
   "metadata": {
    "deletable": false,
    "editable": false,
    "nbgrader": {
     "checksum": "df5b257253382e8cd5b058ab39d18b0a",
     "grade": false,
     "grade_id": "cell-7e634a02cc0a6274",
     "locked": true,
     "schema_version": 1,
     "solution": false
    }
   },
   "source": [
    "# Exercício 03:\n",
    "\n",
    "\n",
    "Dado uma tabela com informações sobre uma amostra com 20 alunos contendo a nota desses alunos em algumas disciplinas e os níveis de dificuldade das mesmas, crie uma função que retorne a probabilidade condicional estimada à partir dos dados para dois eventos dados, informando ainda se os eventos são independentes ou não. Ou seja, dado a tabela mostrada no exemplo (lista de listas) e dois eventos A e B, retorne a probabilidade condicional de A dado B (P(A|B)) com uma precisão de 4 casas decimais. O retorno da função, entretanto, deve ser uma frase (string) escrita da seguinte forma: _str: val_ onde _str_ é a string \"Independentes\" se os eventos A e B são independentes e \"Dependentes\" caso contrário e _val_ é o valor da probabilidade condicional P(A|B) com uma precisão de 4 casas decimais.\n",
    "\n",
    "\n",
    "__Dica:__  \n",
    "a função format(var, '.nf') retorna uma string com o valor da variável var com uma precisão de exatamente n casas decimais."
   ]
  },
  {
   "cell_type": "code",
   "execution_count": 36,
   "metadata": {
    "deletable": false,
    "nbgrader": {
     "checksum": "1e92c0f1112a4ed053526398137a0788",
     "grade": false,
     "grade_id": "cell-90ca1307d00c3011",
     "locked": false,
     "schema_version": 1,
     "solution": true
    }
   },
   "outputs": [
    {
     "data": {
      "text/plain": [
       "'Dependentes: 0.5000'"
      ]
     },
     "execution_count": 36,
     "metadata": {},
     "output_type": "execute_result"
    }
   ],
   "source": [
    "# Esses dados se referem às notas (A-E) de 20 alunos de acordo com a dificuldade da disciplina (Fácil ou Difícil) \n",
    "# Coluna 1: id do aluno\n",
    "# Coluna 2: dificuldade da disciplina ('Facil' ou 'Dificil')\n",
    "# Coluna 3: nota do aluno (A-E)\n",
    "data = np.array([[1, 'Facil', 'C'],\n",
    "        [2, 'Facil', 'A'],\n",
    "        [3, 'Dificil', 'E'],\n",
    "        [4, 'Dificil', 'B'],\n",
    "        [5, 'Dificil', 'B'],\n",
    "        [6, 'Dificil', 'A'],\n",
    "        [7, 'Facil', 'D'],\n",
    "        [8, 'Dificil', 'C'],\n",
    "        [9, 'Facil', 'D'],\n",
    "        [10, 'Facil', 'C'],\n",
    "        [11, 'Facil', 'A'],\n",
    "        [12, 'Facil', 'A'],\n",
    "        [13, 'Dificil', 'B'],\n",
    "        [14, 'Dificil', 'C'],\n",
    "        [15, 'Dificil', 'E'],\n",
    "        [16, 'Dificil', 'C'],\n",
    "        [17, 'Facil', 'A'],\n",
    "        [18, 'Dificil', 'D'],\n",
    "        [19, 'Facil', 'B'],\n",
    "        [20, 'Facil', 'A']])\n",
    "data = pd.DataFrame(data=data, columns=['id', 'dificuldade', 'nota'])\n",
    "data = data.set_index('id')\n",
    "\n",
    "def prob_cond(df,\n",
    "              valor_nota: 'considere como A no bayes',\n",
    "              valor_dificuldade: 'considere como B no bayes'):\n",
    "    count = 0\n",
    "    count_nota = 0\n",
    "    for index, row in df.iterrows():\n",
    "        if row['dificuldade'] == valor_dificuldade:  # Dado B\n",
    "            count += 1\n",
    "            if row['nota'] == valor_nota:            # A\n",
    "                count_nota += 1\n",
    "    prob = count_nota/count\n",
    "    depedency = \"Dependentes\" # Nesse caso, todos os eventos serão dependentes?\n",
    "    return (depedency + \": \" + format(prob, '.4f'))\n",
    "\n",
    "prob_cond(data, 'A', 'Facil')"
   ]
  },
  {
   "cell_type": "code",
   "execution_count": 37,
   "metadata": {
    "deletable": false,
    "editable": false,
    "nbgrader": {
     "checksum": "437b11af3dfa1362e73fa07bb0539f0e",
     "grade": true,
     "grade_id": "cell-7fda9ffd35d685a6",
     "locked": true,
     "points": 1,
     "schema_version": 1,
     "solution": false
    }
   },
   "outputs": [],
   "source": [
    "\"\"\"Check that prob_cond returns the correct output for several inputs\"\"\"\n",
    "\n",
    "assert_equal(prob_cond(data, 'A', 'Facil'), 'Dependentes: 0.5000')\n",
    "assert_equal(prob_cond(data, 'E', 'Facil'), 'Dependentes: 0.0000')\n",
    "assert_equal(prob_cond(data, 'A', 'Dificil'), 'Dependentes: 0.1000')\n",
    "assert_equal(prob_cond(data, 'E', 'Dificil'), 'Dependentes: 0.2000')"
   ]
  },
  {
   "cell_type": "code",
   "execution_count": null,
   "metadata": {
    "deletable": false,
    "editable": false,
    "nbgrader": {
     "checksum": "1117e2f85c9b33dff873707840491059",
     "grade": true,
     "grade_id": "cell-f0c1dad559960dad",
     "locked": true,
     "points": 1,
     "schema_version": 1,
     "solution": false
    }
   },
   "outputs": [],
   "source": []
  },
  {
   "cell_type": "markdown",
   "metadata": {
    "deletable": false,
    "editable": false,
    "nbgrader": {
     "checksum": "a9e9eac9af8310642b64964c6e3315d4",
     "grade": false,
     "grade_id": "cell1c-a00",
     "locked": true,
     "schema_version": 1,
     "solution": false
    }
   },
   "source": [
    "# Exercício 04:\n",
    "\n",
    "\n",
    "Utilizando os dados de acidentes fatais em companhias aéreas dos Estados Unidos de 1985 a 1999, calcule algumas estatísticas básicas. Você deve retornar uma __lista__ com os valores das estatísticas calculadas, sendo elas, nessa ordem: menor valor, maior valor, média, mediana, variância e desvio-padrão. Para responder à questão, crie uma função _estat(acidentes)_ que retorna a lista com os valores correspondentes às resposta da questão, inteiros quando forem inteiros ou com uma precisão de 4 casas decimais caso contrário.\n",
    "\n",
    "__Teste:__\n",
    "`assert_equal(estat(acidentes), ans)`, sendo que `ans` é uma lista contendo os valores corretos para as estatísticas que este exercício pede.\n",
    "\n",
    "__Dicas:__  \n",
    "1) A função round(var, n) retorna o valor da variável var com uma precisão de n casas decimais.\n",
    "\n",
    "2) Execute o teste `assert_equal(estat(lista_boba), ans_bobo)` para alguma `lista_boba` que você saiba calcular as estatísticas no papel.\n",
    "\n",
    "\n",
    "__Fonte:__ https://aviation-safety.net/"
   ]
  },
  {
   "cell_type": "code",
   "execution_count": 38,
   "metadata": {
    "deletable": false,
    "nbgrader": {
     "checksum": "880db9dff7038586993103b01f6edda6",
     "grade": false,
     "grade_id": "cell1-a00",
     "locked": false,
     "schema_version": 1,
     "solution": true
    }
   },
   "outputs": [],
   "source": [
    "# Crie aqui a função estat(acidentes) - com esse nome e parâmetro - \n",
    "# a função deve retornar a lista com as respostas com precisão de 4 casas decimais!\n",
    "\n",
    "acidentes = [0,14,0,1,0,4,1,0,0,2,1,5,0,3,0,0,6,1,1,12,3,1,5,0,3,0,0,1,1,0,1,5,2,1,1,3,4,0,3,0,2,2,1,0,1,1,1,3,0,4,3,8,7,3,0,1]\n",
    "def estat(acidentes):\n",
    "    acidentes.sort()\n",
    "    var = np.var(acidentes)\n",
    "    return [acidentes[0], acidentes[-1], np.mean(acidentes), np.median(acidentes), var, round(np.sqrt(var), 4)]"
   ]
  },
  {
   "cell_type": "code",
   "execution_count": null,
   "metadata": {
    "deletable": false,
    "editable": false,
    "nbgrader": {
     "checksum": "752c9d5b0e9fbba86ba76e2731cebd7b",
     "grade": true,
     "grade_id": "cell1t-a00",
     "locked": true,
     "points": 1,
     "schema_version": 1,
     "solution": false
    }
   },
   "outputs": [],
   "source": []
  },
  {
   "cell_type": "markdown",
   "metadata": {
    "deletable": false,
    "editable": false,
    "nbgrader": {
     "checksum": "3f30c30d62caa22538ab5156a3188c15",
     "grade": false,
     "grade_id": "cell2c-a00",
     "locked": true,
     "schema_version": 1,
     "solution": false
    }
   },
   "source": [
    "# Exercício 05:\n",
    "\n",
    "\n",
    "Procure encontrar correlações espúrias interessantes e apresente um exemplo encontrado. Ou seja, aprensente dois conjuntos de dados que possuem alta correlação (muito positivas ou muito negativas) sem que um seja de fato o causador do outro. Além disso, deixe resgistrado os gráficos com a distribuição dos dados e um gráfico de dispersão como forma de visualizar a correlação entre os dados. Calcule a covariância e correlação entre os dados e, por fim, se possível, tente explicar qual poderia ser a verdadeira causa da ocorrência das observações. Para isso, utilize a última célula desse notebook.\n",
    "\n",
    "\n",
    "__Observação:__  \n",
    "Para ideias de correlações espúrias, veja os seguintes sites:  \n",
    "http://tylervigen.com/spurious-correlations  \n",
    "https://en.wikipedia.org/wiki/Spurious_relationship#Other_relationships  \n"
   ]
  },
  {
   "cell_type": "code",
   "execution_count": 39,
   "metadata": {
    "deletable": false,
    "nbgrader": {
     "checksum": "4f74225398e8bdbfa829d72a445b0395",
     "grade": true,
     "grade_id": "cell21-a00",
     "locked": false,
     "points": 1,
     "schema_version": 1,
     "solution": true
    },
    "scrolled": true
   },
   "outputs": [
    {
     "data": {
      "image/svg+xml": [
       "<svg height=\"410\" style=\"font-family:open sans;font-size:12px;\" version=\"1.1\" width=\"1040\" xmlns=\"http://www.w3.org/2000/svg\" xmlns:xlink=\"http://www.w3.org/1999/xlink\"><desc>Created with Highcharts 4.1.5</desc><defs><clipPath id=\"highcharts-63\"><rect height=\"196\" width=\"806\" x=\"0\" y=\"0\"/></clipPath></defs><rect class=\" highcharts-background\" fill=\"#FFFFFF\" height=\"410\" strokeWidth=\"0\" width=\"1040\" x=\"0\" y=\"0\"/><g class=\"highcharts-grid\"/><g class=\"highcharts-grid\"/><g class=\"highcharts-grid\"><path d=\"M 106 332.5 L 912 332.5\" fill=\"none\" opacity=\"1\" stroke=\"#D8D8D8\" stroke-width=\"1\"/><path d=\"M 106 267.5 L 912 267.5\" fill=\"none\" opacity=\"1\" stroke=\"#D8D8D8\" stroke-width=\"1\"/><path d=\"M 106 201.5 L 912 201.5\" fill=\"none\" opacity=\"1\" stroke=\"#D8D8D8\" stroke-width=\"1\"/><path d=\"M 106 136.5 L 912 136.5\" fill=\"none\" opacity=\"1\" stroke=\"#D8D8D8\" stroke-width=\"1\"/></g><g class=\"highcharts-grid\"><path d=\"M 106 332.5 L 912 332.5\" fill=\"none\" opacity=\"1\" stroke=\"#D8D8D8\" stroke-width=\"1\"/><path d=\"M 106 267.5 L 912 267.5\" fill=\"none\" opacity=\"1\" stroke=\"#D8D8D8\" stroke-width=\"1\"/><path d=\"M 106 201.5 L 912 201.5\" fill=\"none\" opacity=\"1\" stroke=\"#D8D8D8\" stroke-width=\"1\"/><path d=\"M 106 135.5 L 912 135.5\" fill=\"none\" opacity=\"1\" stroke=\"#D8D8D8\" stroke-width=\"1\"/></g><g class=\"highcharts-axis\"><path d=\"M 178.5 332 L 178.5 342\" fill=\"none\" opacity=\"1\" stroke=\"#C0D0E0\" stroke-width=\"1\"/><path d=\"M 252.5 332 L 252.5 342\" fill=\"none\" opacity=\"1\" stroke=\"#C0D0E0\" stroke-width=\"1\"/><path d=\"M 325.5 332 L 325.5 342\" fill=\"none\" opacity=\"1\" stroke=\"#C0D0E0\" stroke-width=\"1\"/><path d=\"M 398.5 332 L 398.5 342\" fill=\"none\" opacity=\"1\" stroke=\"#C0D0E0\" stroke-width=\"1\"/><path d=\"M 471.5 332 L 471.5 342\" fill=\"none\" opacity=\"1\" stroke=\"#C0D0E0\" stroke-width=\"1\"/><path d=\"M 545.5 332 L 545.5 342\" fill=\"none\" opacity=\"1\" stroke=\"#C0D0E0\" stroke-width=\"1\"/><path d=\"M 618.5 332 L 618.5 342\" fill=\"none\" opacity=\"1\" stroke=\"#C0D0E0\" stroke-width=\"1\"/><path d=\"M 691.5 332 L 691.5 342\" fill=\"none\" opacity=\"1\" stroke=\"#C0D0E0\" stroke-width=\"1\"/><path d=\"M 764.5 332 L 764.5 342\" fill=\"none\" opacity=\"1\" stroke=\"#C0D0E0\" stroke-width=\"1\"/><path d=\"M 838.5 332 L 838.5 342\" fill=\"none\" opacity=\"1\" stroke=\"#C0D0E0\" stroke-width=\"1\"/><path d=\"M 911.5 332 L 911.5 342\" fill=\"none\" opacity=\"1\" stroke=\"#C0D0E0\" stroke-width=\"1\"/><path d=\"M 105.5 332 L 105.5 342\" fill=\"none\" opacity=\"1\" stroke=\"#C0D0E0\" stroke-width=\"1\"/><path d=\"M 106 332.5 L 912 332.5\" fill=\"none\" stroke=\"#C0D0E0\" stroke-width=\"1\" visibility=\"visible\"/></g><g class=\"highcharts-axis\"><path d=\"M 178.5 136 L 178.5 126\" fill=\"none\" opacity=\"1\" stroke=\"#C0D0E0\" stroke-width=\"1\"/><path d=\"M 252.5 136 L 252.5 126\" fill=\"none\" opacity=\"1\" stroke=\"#C0D0E0\" stroke-width=\"1\"/><path d=\"M 325.5 136 L 325.5 126\" fill=\"none\" opacity=\"1\" stroke=\"#C0D0E0\" stroke-width=\"1\"/><path d=\"M 398.5 136 L 398.5 126\" fill=\"none\" opacity=\"1\" stroke=\"#C0D0E0\" stroke-width=\"1\"/><path d=\"M 471.5 136 L 471.5 126\" fill=\"none\" opacity=\"1\" stroke=\"#C0D0E0\" stroke-width=\"1\"/><path d=\"M 545.5 136 L 545.5 126\" fill=\"none\" opacity=\"1\" stroke=\"#C0D0E0\" stroke-width=\"1\"/><path d=\"M 618.5 136 L 618.5 126\" fill=\"none\" opacity=\"1\" stroke=\"#C0D0E0\" stroke-width=\"1\"/><path d=\"M 691.5 136 L 691.5 126\" fill=\"none\" opacity=\"1\" stroke=\"#C0D0E0\" stroke-width=\"1\"/><path d=\"M 764.5 136 L 764.5 126\" fill=\"none\" opacity=\"1\" stroke=\"#C0D0E0\" stroke-width=\"1\"/><path d=\"M 838.5 136 L 838.5 126\" fill=\"none\" opacity=\"1\" stroke=\"#C0D0E0\" stroke-width=\"1\"/><path d=\"M 911.5 136 L 911.5 126\" fill=\"none\" opacity=\"1\" stroke=\"#C0D0E0\" stroke-width=\"1\"/><path d=\"M 105.5 136 L 105.5 126\" fill=\"none\" opacity=\"1\" stroke=\"#C0D0E0\" stroke-width=\"1\"/><path d=\"M 106 135.5 L 912 135.5\" fill=\"none\" stroke=\"#C0D0E0\" stroke-width=\"1\" visibility=\"visible\"/></g><g class=\"highcharts-axis\"><text class=\" highcharts-yaxis-title\" style=\"color:#000000;fill:#000000;\" text-anchor=\"middle\" transform=\"translate(0,0) rotate(90 1013.015625 234)\" visibility=\"visible\" x=\"1013.015625\" y=\"234\"><tspan>Hanging suicides</tspan></text></g><g class=\"highcharts-axis\"><text class=\" highcharts-yaxis-title\" style=\"color:#ba0f27;fill:#ba0f27;\" text-anchor=\"middle\" transform=\"translate(0,0) rotate(270 26.765625 234)\" visibility=\"visible\" x=\"26.765625\" y=\"234\"><tspan>US spending on science</tspan></text></g><g class=\"highcharts-series-group\"><g class=\"highcharts-series\" clip-path=\"url(#highcharts-63)\" transform=\"translate(106,136) scale(1 1)\" visibility=\"visible\"><path d=\"M 36.63636363636363 149.38466666666667 C 36.63636363636363 149.38466666666667 80.6 145.89586666666668 109.9090909090909 140.85866666666666 C 139.2181818181818 135.82146666666668 153.87272727272725 129.25546666666668 183.18181818181816 124.19866666666667 C 212.4909090909091 119.14186666666667 227.1454545454545 118.42973333333335 256.45454545454544 115.57466666666667 C 285.7636363636363 112.71960000000001 300.4181818181818 115.57466666666667 329.7272727272727 109.92333333333335 C 359.0363636363636 104.27200000000002 373.69090909090903 87.02400000000002 402.99999999999994 87.02400000000002 C 432.3090909090908 87.02400000000002 446.9636363636363 89.89866666666667 476.27272727272725 89.89866666666667 C 505.5818181818182 89.89866666666667 520.2363636363636 87.92560000000002 549.5454545454545 81.96066666666668 C 578.8545454545454 75.99573333333336 593.5090909090908 67.17573333333337 622.8181818181818 60.07400000000001 C 652.1272727272726 52.97226666666669 666.7818181818182 51.933466666666696 696.090909090909 46.45200000000003 C 725.3999999999999 40.970533333333364 769.3636363636363 32.666666666666686 769.3636363636363 32.666666666666686\" fill=\"none\" stroke=\"#000000\" stroke-linecap=\"round\" stroke-linejoin=\"round\" stroke-width=\"2\"/></g><g class=\"highcharts-markers\" clip-path=\"none\" transform=\"translate(106,136) scale(1 1)\" visibility=\"visible\"><path d=\"M 769 28.666666666666686 C 774.328 28.666666666666686 774.328 36.666666666666686 769 36.666666666666686 C 763.672 36.666666666666686 763.672 28.666666666666686 769 28.666666666666686 Z\" fill=\"#000000\"/><path d=\"M 696 42.45200000000003 C 701.328 42.45200000000003 701.328 50.45200000000003 696 50.45200000000003 C 690.672 50.45200000000003 690.672 42.45200000000003 696 42.45200000000003 Z\" fill=\"#000000\"/><path d=\"M 622 56.07400000000001 C 627.328 56.07400000000001 627.328 64.07400000000001 622 64.07400000000001 C 616.672 64.07400000000001 616.672 56.07400000000001 622 56.07400000000001 Z\" fill=\"#000000\"/><path d=\"M 549 77.96066666666668 C 554.328 77.96066666666668 554.328 85.96066666666668 549 85.96066666666668 C 543.672 85.96066666666668 543.672 77.96066666666668 549 77.96066666666668 Z\" fill=\"#000000\"/><path d=\"M 476 85.89866666666667 C 481.328 85.89866666666667 481.328 93.89866666666667 476 93.89866666666667 C 470.672 93.89866666666667 470.672 85.89866666666667 476 85.89866666666667 Z\" fill=\"#000000\"/><path d=\"M 402 83.02400000000002 C 407.328 83.02400000000002 407.328 91.02400000000002 402 91.02400000000002 C 396.672 91.02400000000002 396.672 83.02400000000002 402 83.02400000000002 Z\" fill=\"#000000\"/><path d=\"M 329 105.92333333333335 C 334.328 105.92333333333335 334.328 113.92333333333335 329 113.92333333333335 C 323.672 113.92333333333335 323.672 105.92333333333335 329 105.92333333333335 Z\" fill=\"#000000\"/><path d=\"M 256 111.57466666666667 C 261.328 111.57466666666667 261.328 119.57466666666667 256 119.57466666666667 C 250.672 119.57466666666667 250.672 111.57466666666667 256 111.57466666666667 Z\" fill=\"#000000\"/><path d=\"M 183 120.19866666666667 C 188.328 120.19866666666667 188.328 128.19866666666667 183 128.19866666666667 C 177.672 128.19866666666667 177.672 120.19866666666667 183 120.19866666666667 Z\" fill=\"#000000\"/><path d=\"M 109 136.85866666666666 C 114.328 136.85866666666666 114.328 144.85866666666666 109 144.85866666666666 C 103.672 144.85866666666666 103.672 136.85866666666666 109 136.85866666666666 Z\" fill=\"#000000\"/><path d=\"M 36 145.38466666666667 C 41.328 145.38466666666667 41.328 153.38466666666667 36 153.38466666666667 C 30.672 153.38466666666667 30.672 145.38466666666667 36 145.38466666666667 Z\" fill=\"#000000\"/></g><g class=\"highcharts-series\" clip-path=\"url(#highcharts-63)\" transform=\"translate(106,136) scale(1 1)\" visibility=\"visible\"><path d=\"M 36.63636363636363 155.76773333333333 C 36.63636363636363 155.76773333333333 80.6 153.41312 109.9090909090909 149.0384 C 139.2181818181818 144.66368 153.87272727272725 139.48666666666668 183.18181818181816 133.89413333333334 C 212.4909090909091 128.3016 227.1454545454545 122.34319999999997 256.45454545454544 121.07573333333332 C 285.7636363636363 119.80826666666667 300.4181818181818 121.07573333333332 329.7272727272727 119.80826666666667 C 359.0363636363636 118.54080000000002 373.69090909090903 98.31621333333334 402.99999999999994 91.08773333333333 C 432.3090909090908 83.85925333333333 446.9636363636363 83.66586666666664 476.27272727272725 83.66586666666664 C 505.5818181818182 83.66586666666664 520.2363636363636 83.83573333333334 549.5454545454545 83.83573333333334 C 578.8545454545454 83.83573333333334 593.5090909090908 69.31082666666671 622.8181818181818 58.47333333333336 C 652.1272727272726 47.63584000000004 666.7818181818182 39.90298666666665 696.090909090909 29.648266666666643 C 725.3999999999999 19.393546666666634 769.3636363636363 7.199733333333313 769.3636363636363 7.199733333333313\" fill=\"none\" stroke=\"#ba0f27\" stroke-linecap=\"round\" stroke-linejoin=\"round\" stroke-width=\"2\"/></g><g class=\"highcharts-markers\" clip-path=\"none\" transform=\"translate(106,136) scale(1 1)\" visibility=\"visible\"><path d=\"M 769 3.199733333333313 L 773 7.199733333333313 769 11.199733333333313 765 7.199733333333313 Z\" fill=\"#ba0f27\"/><path d=\"M 696 25.648266666666643 L 700 29.648266666666643 696 33.64826666666664 692 29.648266666666643 Z\" fill=\"#ba0f27\"/><path d=\"M 622 54.47333333333336 L 626 58.47333333333336 622 62.47333333333336 618 58.47333333333336 Z\" fill=\"#ba0f27\"/><path d=\"M 549 79.83573333333334 L 553 83.83573333333334 549 87.83573333333334 545 83.83573333333334 Z\" fill=\"#ba0f27\"/><path d=\"M 476 79.66586666666664 L 480 83.66586666666664 476 87.66586666666664 472 83.66586666666664 Z\" fill=\"#ba0f27\"/><path d=\"M 402 87.08773333333333 L 406 91.08773333333333 402 95.08773333333333 398 91.08773333333333 Z\" fill=\"#ba0f27\"/><path d=\"M 329 115.80826666666667 L 333 119.80826666666667 329 123.80826666666667 325 119.80826666666667 Z\" fill=\"#ba0f27\"/><path d=\"M 256 117.07573333333332 L 260 121.07573333333332 256 125.07573333333332 252 121.07573333333332 Z\" fill=\"#ba0f27\"/><path d=\"M 183 129.89413333333334 L 187 133.89413333333334 183 137.89413333333334 179 133.89413333333334 Z\" fill=\"#ba0f27\"/><path d=\"M 109 145.0384 L 113 149.0384 109 153.0384 105 149.0384 Z\" fill=\"#ba0f27\"/><path d=\"M 36 151.76773333333333 L 40 155.76773333333333 36 159.76773333333333 32 155.76773333333333 Z\" fill=\"#ba0f27\"/></g></g><text class=\"highcharts-title\" style=\"color:#777;font-size:18px;fill:#777;width:976px;\" text-anchor=\"middle\" x=\"520\" y=\"24\"><tspan style=\"fill:#ba0f27;font-size:24px;font-weight:bold;font-family: 'lora'\">US spending on science, space, and technology</tspan><tspan dy=\"21\" style=\"font-family: 'lora'\" x=\"520\"> correlates with </tspan><tspan dy=\"29\" style=\"fill:#000000;font-size:24px;font-weight:bold;font-family: 'lora'\" x=\"520\">Suicides by hanging, strangulation and suffocation</tspan></text><g class=\"highcharts-legend\" transform=\"translate(364,367)\"><g><g><g class=\"highcharts-legend-item\" transform=\"translate(8,3)\"><path d=\"M 0 11 L 16 11\" fill=\"none\" stroke=\"#000000\" stroke-width=\"2\"/><path d=\"M 8 7 C 13.328 7 13.328 15 8 15 C 2.6719999999999997 15 2.6719999999999997 7 8 7 Z\" fill=\"#000000\"/><text style=\"color:#333333;font-size:12px;font-weight:bold;cursor:pointer;fill:#333333;\" text-anchor=\"start\" x=\"21\" y=\"15\"><tspan>Hanging suicides</tspan></text></g><g class=\"highcharts-legend-item\" transform=\"translate(147.5,3)\"><path d=\"M 0 11 L 16 11\" fill=\"none\" stroke=\"#ba0f27\" stroke-width=\"2\"/><path d=\"M 8 7 L 12 11 8 15 4 11 Z\" fill=\"#ba0f27\"/><text style=\"color:#333333;font-size:12px;font-weight:bold;cursor:pointer;fill:#333333;\" text-anchor=\"start\" x=\"21\" y=\"15\"><tspan>US spending on science</tspan></text></g></g></g></g><g class=\"highcharts-axis-labels highcharts-xaxis-labels\"><text opacity=\"1\" style=\"color:#000000;cursor:default;font-size:11px;fill:#000000;width:73.72727272727273;text-overflow:ellipsis;\" text-anchor=\"middle\" transform=\"translate(0,0)\" x=\"142.63636363636363\" y=\"351\"><tspan>1999</tspan></text><text opacity=\"1\" style=\"color:#000000;cursor:default;font-size:11px;fill:#000000;width:73.72727272727273;text-overflow:ellipsis;\" text-anchor=\"middle\" transform=\"translate(0,0)\" x=\"215.9090909090909\" y=\"351\"><tspan>2000</tspan></text><text opacity=\"1\" style=\"color:#000000;cursor:default;font-size:11px;fill:#000000;width:73.72727272727273;text-overflow:ellipsis;\" text-anchor=\"middle\" transform=\"translate(0,0)\" x=\"289.18181818181813\" y=\"351\"><tspan>2001</tspan></text><text opacity=\"1\" style=\"color:#000000;cursor:default;font-size:11px;fill:#000000;width:73.72727272727273;text-overflow:ellipsis;\" text-anchor=\"middle\" transform=\"translate(0,0)\" x=\"362.45454545454544\" y=\"351\"><tspan>2002</tspan></text><text opacity=\"1\" style=\"color:#000000;cursor:default;font-size:11px;fill:#000000;width:73.72727272727273;text-overflow:ellipsis;\" text-anchor=\"middle\" transform=\"translate(0,0)\" x=\"435.7272727272727\" y=\"351\"><tspan>2003</tspan></text><text opacity=\"1\" style=\"color:#000000;cursor:default;font-size:11px;fill:#000000;width:73.72727272727273;text-overflow:ellipsis;\" text-anchor=\"middle\" transform=\"translate(0,0)\" x=\"508.9999999999999\" y=\"351\"><tspan>2004</tspan></text><text opacity=\"1\" style=\"color:#000000;cursor:default;font-size:11px;fill:#000000;width:73.72727272727273;text-overflow:ellipsis;\" text-anchor=\"middle\" transform=\"translate(0,0)\" x=\"582.2727272727273\" y=\"351\"><tspan>2005</tspan></text><text opacity=\"1\" style=\"color:#000000;cursor:default;font-size:11px;fill:#000000;width:73.72727272727273;text-overflow:ellipsis;\" text-anchor=\"middle\" transform=\"translate(0,0)\" x=\"655.5454545454545\" y=\"351\"><tspan>2006</tspan></text><text opacity=\"1\" style=\"color:#000000;cursor:default;font-size:11px;fill:#000000;width:73.72727272727273;text-overflow:ellipsis;\" text-anchor=\"middle\" transform=\"translate(0,0)\" x=\"728.8181818181818\" y=\"351\"><tspan>2007</tspan></text><text opacity=\"1\" style=\"color:#000000;cursor:default;font-size:11px;fill:#000000;width:73.72727272727273;text-overflow:ellipsis;\" text-anchor=\"middle\" transform=\"translate(0,0)\" x=\"802.090909090909\" y=\"351\"><tspan>2008</tspan></text><text opacity=\"1\" style=\"color:#000000;cursor:default;font-size:11px;fill:#000000;width:73.72727272727273;text-overflow:ellipsis;\" text-anchor=\"middle\" transform=\"translate(0,0)\" x=\"875.3636363636363\" y=\"351\"><tspan>2009</tspan></text></g><g class=\"highcharts-axis-labels highcharts-xaxis-labels\"><text opacity=\"1\" style=\"color:#ba0f27;cursor:default;font-size:11px;fill:#ba0f27;width:73.72727272727273;text-overflow:ellipsis;\" text-anchor=\"middle\" transform=\"translate(0,0)\" x=\"142.63636363636363\" y=\"121\"><tspan>1999</tspan></text><text opacity=\"1\" style=\"color:#ba0f27;cursor:default;font-size:11px;fill:#ba0f27;width:73.72727272727273;text-overflow:ellipsis;\" text-anchor=\"middle\" transform=\"translate(0,0)\" x=\"215.9090909090909\" y=\"121\"><tspan>2000</tspan></text><text opacity=\"1\" style=\"color:#ba0f27;cursor:default;font-size:11px;fill:#ba0f27;width:73.72727272727273;text-overflow:ellipsis;\" text-anchor=\"middle\" transform=\"translate(0,0)\" x=\"289.18181818181813\" y=\"121\"><tspan>2001</tspan></text><text opacity=\"1\" style=\"color:#ba0f27;cursor:default;font-size:11px;fill:#ba0f27;width:73.72727272727273;text-overflow:ellipsis;\" text-anchor=\"middle\" transform=\"translate(0,0)\" x=\"362.45454545454544\" y=\"121\"><tspan>2002</tspan></text><text opacity=\"1\" style=\"color:#ba0f27;cursor:default;font-size:11px;fill:#ba0f27;width:73.72727272727273;text-overflow:ellipsis;\" text-anchor=\"middle\" transform=\"translate(0,0)\" x=\"435.7272727272727\" y=\"121\"><tspan>2003</tspan></text><text opacity=\"1\" style=\"color:#ba0f27;cursor:default;font-size:11px;fill:#ba0f27;width:73.72727272727273;text-overflow:ellipsis;\" text-anchor=\"middle\" transform=\"translate(0,0)\" x=\"508.9999999999999\" y=\"121\"><tspan>2004</tspan></text><text opacity=\"1\" style=\"color:#ba0f27;cursor:default;font-size:11px;fill:#ba0f27;width:73.72727272727273;text-overflow:ellipsis;\" text-anchor=\"middle\" transform=\"translate(0,0)\" x=\"582.2727272727273\" y=\"121\"><tspan>2005</tspan></text><text opacity=\"1\" style=\"color:#ba0f27;cursor:default;font-size:11px;fill:#ba0f27;width:73.72727272727273;text-overflow:ellipsis;\" text-anchor=\"middle\" transform=\"translate(0,0)\" x=\"655.5454545454545\" y=\"121\"><tspan>2006</tspan></text><text opacity=\"1\" style=\"color:#ba0f27;cursor:default;font-size:11px;fill:#ba0f27;width:73.72727272727273;text-overflow:ellipsis;\" text-anchor=\"middle\" transform=\"translate(0,0)\" x=\"728.8181818181818\" y=\"121\"><tspan>2007</tspan></text><text opacity=\"1\" style=\"color:#ba0f27;cursor:default;font-size:11px;fill:#ba0f27;width:73.72727272727273;text-overflow:ellipsis;\" text-anchor=\"middle\" transform=\"translate(0,0)\" x=\"802.090909090909\" y=\"121\"><tspan>2008</tspan></text><text opacity=\"1\" style=\"color:#ba0f27;cursor:default;font-size:11px;fill:#ba0f27;width:73.72727272727273;text-overflow:ellipsis;\" text-anchor=\"middle\" transform=\"translate(0,0)\" x=\"875.3636363636363\" y=\"121\"><tspan>2009</tspan></text></g><g class=\"highcharts-axis-labels highcharts-yaxis-labels\"><text opacity=\"1\" style=\"color:#000000;cursor:default;font-size:11px;fill:#000000;width:333px;text-overflow:clip;\" text-anchor=\"start\" transform=\"translate(0,0)\" x=\"927\" y=\"270\"><tspan>6000 suicides</tspan></text><text opacity=\"1\" style=\"color:#000000;cursor:default;font-size:11px;fill:#000000;width:333px;text-overflow:clip;\" text-anchor=\"start\" transform=\"translate(0,0)\" x=\"927\" y=\"205\"><tspan>8000 suicides</tspan></text><text opacity=\"1\" style=\"color:#000000;cursor:default;font-size:11px;fill:#000000;width:333px;text-overflow:clip;\" text-anchor=\"start\" transform=\"translate(0,0)\" x=\"927\" y=\"336\"><tspan>4000 suicides</tspan></text><text opacity=\"1\" style=\"color:#000000;cursor:default;font-size:11px;fill:#000000;width:333px;text-overflow:clip;\" text-anchor=\"start\" transform=\"translate(0,0)\" x=\"927\" y=\"140\"><tspan>10000 suicides</tspan></text></g><g class=\"highcharts-axis-labels highcharts-yaxis-labels\"><text opacity=\"1\" style=\"color:#ba0f27;cursor:default;font-size:11px;fill:#ba0f27;width:333px;text-overflow:clip;\" text-anchor=\"end\" transform=\"translate(0,0)\" x=\"91\" y=\"336\"><tspan>$15 billion</tspan></text><text opacity=\"1\" style=\"color:#ba0f27;cursor:default;font-size:11px;fill:#ba0f27;width:333px;text-overflow:clip;\" text-anchor=\"end\" transform=\"translate(0,0)\" x=\"91\" y=\"270\"><tspan>$20 billion</tspan></text><text opacity=\"1\" style=\"color:#ba0f27;cursor:default;font-size:11px;fill:#ba0f27;width:333px;text-overflow:clip;\" text-anchor=\"end\" transform=\"translate(0,0)\" x=\"91\" y=\"205\"><tspan>$25 billion</tspan></text><text opacity=\"1\" style=\"color:#ba0f27;cursor:default;font-size:11px;fill:#ba0f27;width:333px;text-overflow:clip;\" text-anchor=\"end\" transform=\"translate(0,0)\" x=\"91\" y=\"140\"><tspan>$30 billion</tspan></text></g><g class=\"highcharts-tooltip\" style=\"cursor:default;padding:0;white-space:nowrap;\" transform=\"translate(0,-9999)\"><path d=\"M 3 0 L 13 0 C 16 0 16 0 16 3 L 16 13 C 16 16 16 16 13 16 L 3 16 C 0 16 0 16 0 13 L 0 3 C 0 0 0 0 3 0\" fill=\"none\" stroke=\"black\" stroke-opacity=\"0.049999999999999996\" stroke-width=\"5\" transform=\"translate(1, 1)\"/><path d=\"M 3 0 L 13 0 C 16 0 16 0 16 3 L 16 13 C 16 16 16 16 13 16 L 3 16 C 0 16 0 16 0 13 L 0 3 C 0 0 0 0 3 0\" fill=\"none\" stroke=\"black\" stroke-opacity=\"0.09999999999999999\" stroke-width=\"3\" transform=\"translate(1, 1)\"/><path d=\"M 3 0 L 13 0 C 16 0 16 0 16 3 L 16 13 C 16 16 16 16 13 16 L 3 16 C 0 16 0 16 0 13 L 0 3 C 0 0 0 0 3 0\" fill=\"none\" stroke=\"black\" stroke-opacity=\"0.15\" stroke-width=\"1\" transform=\"translate(1, 1)\"/><path d=\"M 3 0 L 13 0 C 16 0 16 0 16 3 L 16 13 C 16 16 16 16 13 16 L 3 16 C 0 16 0 16 0 13 L 0 3 C 0 0 0 0 3 0\" fill=\"rgb(249, 249, 249)\" fill-opacity=\" .85\"/><text style=\"font-size:12px;color:#333333;fill:#333333;\" transform=\"translate(0,20)\" x=\"8\"/></g><text style=\"cursor:pointer;color:#909090;font-size:9px;fill:#909090;\" text-anchor=\"end\" x=\"1030\" y=\"405\">tylervigen.com</text></svg>"
      ],
      "text/plain": [
       "<IPython.core.display.SVG object>"
      ]
     },
     "metadata": {},
     "output_type": "display_data"
    },
    {
     "name": "stdout",
     "output_type": "stream",
     "text": [
      "Correlation: 99,79% (r=0.99789126)\n"
     ]
    }
   ],
   "source": [
    "from IPython.display import SVG, display\n",
    "display(SVG('./chart.svg'))\n",
    "print(\"Correlation: 99,79% (r=0.99789126)\")"
   ]
  },
  {
   "cell_type": "code",
   "execution_count": 57,
   "metadata": {},
   "outputs": [
    {
     "name": "stdout",
     "output_type": "stream",
     "text": [
      "Correlação: \n",
      "[[1.         0.99208168]\n",
      " [0.99208168 1.        ]]\n"
     ]
    },
    {
     "data": {
      "image/png": "[encoded data removed]",
      "text/plain": [
       "<Figure size 432x288 with 2 Axes>"
      ]
     },
     "metadata": {},
     "output_type": "display_data"
    }
   ],
   "source": [
    "t = np.arange(0, 11, 1)\n",
    "suicides       = [5427, 5688, 6198, 6462, 6635, 7336, 7248, 7491, 8161, 8578, 9000]\n",
    "invest_science = [18079, 18594, 19753, 20734, 20831, 23029, 23597, 23584, 25525, 27731, 29449]\n",
    "\n",
    "print(\"Correlação: \\n\" + str(np.corrcoef(suicides, invest_science)))\n",
    "\n",
    "fig, ax1 = plt.subplots()\n",
    "\n",
    "color = 'tab:red'\n",
    "ax1.set_xlabel('years from 1999')\n",
    "ax1.set_ylabel('suicides', color=color)\n",
    "ax1.plot(t, suicides, color=color)\n",
    "ax1.tick_params(axis='y', labelcolor=color)\n",
    "\n",
    "ax2 = ax1.twinx()  # instantiate a second axes that shares the same x-axis\n",
    "\n",
    "color = 'tab:blue'\n",
    "ax2.set_ylabel('investment on science', color=color)  # we already handled the x-label with ax1\n",
    "ax2.plot(t, invest_science, color=color)\n",
    "ax2.tick_params(axis='y', labelcolor=color)\n",
    "\n",
    "fig.tight_layout()  # otherwise the right y-label is slightly clipped\n",
    "plt.show()"
   ]
  },
  {
   "cell_type": "markdown",
   "metadata": {},
   "source": [
    "> Isso pode ser explicado por fatores completamente aleatórios. Pegando grandes quantidades de dados, invariavelmente, teremos dados correlacionados, mesmo que não tenham nenhuma ligação direta nem indireta entre si. Esses dados são chamados de `Correlações espúrias`"
   ]
  },
  {
   "cell_type": "code",
   "execution_count": null,
   "metadata": {},
   "outputs": [],
   "source": []
  }
 ],
 "metadata": {
  "kernelspec": {
   "display_name": "Python 3",
   "language": "python",
   "name": "python3"
  },
  "language_info": {
   "codemirror_mode": {
    "name": "ipython",
    "version": 3
   },
   "file_extension": ".py",
   "mimetype": "text/x-python",
   "name": "python",
   "nbconvert_exporter": "python",
   "pygments_lexer": "ipython3",
   "version": "3.6.5"
  }
 },
 "nbformat": 4,
 "nbformat_minor": 2
}
