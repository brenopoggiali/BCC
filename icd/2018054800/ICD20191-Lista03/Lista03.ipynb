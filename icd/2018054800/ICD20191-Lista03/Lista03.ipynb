{
 "cells": [
  {
   "cell_type": "markdown",
   "metadata": {
    "deletable": false,
    "editable": false,
    "nbgrader": {
     "checksum": "46ba0a510f0b37b94be57292208e1142",
     "grade": false,
     "grade_id": "cellc-a00",
     "locked": true,
     "schema_version": 1,
     "solution": false
    }
   },
   "source": [
    "# Lista 03 - ICs + Bootstrap"
   ]
  },
  {
   "cell_type": "code",
   "execution_count": null,
   "metadata": {
    "deletable": false,
    "editable": false,
    "nbgrader": {
     "checksum": "f45e046d98afcc020d33a80e9a020879",
     "grade": false,
     "grade_id": "cell-20fe39048e63375d",
     "locked": true,
     "schema_version": 1,
     "solution": false
    }
   },
   "outputs": [],
   "source": [
    "# -*- coding: utf 8\n",
    "\n",
    "from matplotlib import pyplot as plt\n",
    "\n",
    "import pandas as pd\n",
    "import numpy as np\n",
    "\n",
    "plt.style.use('seaborn-colorblind')\n",
    "plt.ion()"
   ]
  },
  {
   "cell_type": "markdown",
   "metadata": {
    "deletable": false,
    "editable": false,
    "nbgrader": {
     "checksum": "89b17f231ef4c1c5e68a7cb218b0ce70",
     "grade": false,
     "grade_id": "cell-9d1ad29e35bed9f4",
     "locked": true,
     "schema_version": 1,
     "solution": false
    }
   },
   "source": [
    "# Exercício 01:\n",
    "Vamos utilizar a base de dados de recém-nascidos disponibilizada no exercício."
   ]
  },
  {
   "cell_type": "code",
   "execution_count": null,
   "metadata": {
    "deletable": false,
    "editable": false,
    "nbgrader": {
     "checksum": "4d7d948dd0ca3637a66460c7b2933770",
     "grade": false,
     "grade_id": "cell-e5327430097d8ae9",
     "locked": true,
     "schema_version": 1,
     "solution": false
    }
   },
   "outputs": [],
   "source": [
    "df = pd.read_csv('baby.csv')\n",
    "\n",
    "# Convertendo para unidades não EUA\n",
    "df['Birth Weight'] = 0.0283495 * df['Birth Weight']\n",
    "df['Maternal Pregnancy Weight'] = 0.0283495 * df['Maternal Pregnancy Weight']\n",
    "df['Maternal Height'] = 0.0254 * df['Maternal Height']\n",
    "\n",
    "df.describe()"
   ]
  },
  {
   "cell_type": "markdown",
   "metadata": {
    "deletable": false,
    "editable": false,
    "nbgrader": {
     "checksum": "3cdb298de7128c32b01f58e8447ed021",
     "grade": false,
     "grade_id": "cell-77a6d45d72bdd64d",
     "locked": true,
     "schema_version": 1,
     "solution": false
    }
   },
   "source": [
    "A) Plote uma PDF dos dados da coluna \"Gestational Days\"."
   ]
  },
  {
   "cell_type": "code",
   "execution_count": null,
   "metadata": {
    "deletable": false,
    "nbgrader": {
     "checksum": "93e7e43af542746a9bed8fc5210db327",
     "grade": true,
     "grade_id": "cell-b9008710d05cd6db",
     "locked": false,
     "points": 0,
     "schema_version": 1,
     "solution": true
    }
   },
   "outputs": [],
   "source": [
    "gd = df['Gestational Days']\n",
    "\n",
    "gd.plot.density()"
   ]
  },
  {
   "cell_type": "markdown",
   "metadata": {
    "deletable": false,
    "editable": false,
    "nbgrader": {
     "checksum": "eee1dd7ca1d391b9824c0c87096d1700",
     "grade": false,
     "grade_id": "cell-5de2af25853ccf6b",
     "locked": true,
     "schema_version": 1,
     "solution": false
    }
   },
   "source": [
    "B) Para o número de dias de gestação, determine com 95% de o Intervalo de Confiança. Não utilize a técnica de bootstrap.\n",
    "\n",
    "Retorne uma lista com os valores inferior e superior do intervalo de confiança.\n",
    "Exemplo:\n",
    "```python\n",
    "return [inferior,superior]\n",
    "```"
   ]
  },
  {
   "cell_type": "code",
   "execution_count": null,
   "metadata": {
    "deletable": false,
    "nbgrader": {
     "checksum": "e9582a7b7bf37497435cf4b022a301d1",
     "grade": false,
     "grade_id": "cell-3f60daae27375779",
     "locked": false,
     "schema_version": 1,
     "solution": true
    }
   },
   "outputs": [],
   "source": [
    "def calcula_IC_gestacao(df):\n",
    "    conf_95   = df.sort_values(by=['Gestational Days'])\n",
    "    inf_incof = int(conf_95['Gestational Days'].count() * 0.025)\n",
    "    sup_incof = conf_95['Gestational Days'].count() - inf_incof\n",
    "    inferior  = conf_95['Gestational Days'][conf_95.index[inf_incof]]\n",
    "    superior  = conf_95['Gestational Days'][conf_95.index[sup_incof]]\n",
    "    return [inferior,superior]\n",
    "\n",
    "calcula_IC_gestacao(df)"
   ]
  },
  {
   "cell_type": "code",
   "execution_count": null,
   "metadata": {
    "deletable": false,
    "editable": false,
    "nbgrader": {
     "checksum": "81fdb1d8d3ba17dd7328337b946da4ae",
     "grade": true,
     "grade_id": "cell-7ffe28105370b669",
     "locked": true,
     "points": 1,
     "schema_version": 1,
     "solution": false
    }
   },
   "outputs": [],
   "source": []
  },
  {
   "cell_type": "markdown",
   "metadata": {
    "deletable": false,
    "editable": false,
    "nbgrader": {
     "checksum": "a8ac713e1d588a1d2a88c250654d5dc5",
     "grade": false,
     "grade_id": "cell-feef6974844921de",
     "locked": true,
     "schema_version": 1,
     "solution": false
    }
   },
   "source": [
    "### C) Na função abaixo, retorne o número da opção que melhor define o que indica o Intervalo de Confiança:\n",
    "\n",
    "    1: A média da amostra está com 95% de probabilidade dentro do intervalo\n",
    "    2: 95% dos valores da população estão dentro do intervalo\n",
    "    3: O intervalo inclui a média da população com 95% de probabilidade\n",
    "    4: 5% da amostra está a mais que 1.96 de distância da média da população\n",
    "    5: Nenhuma das anteriores"
   ]
  },
  {
   "cell_type": "code",
   "execution_count": null,
   "metadata": {
    "deletable": false,
    "nbgrader": {
     "checksum": "96a86e343762950b814fd608db0e6b85",
     "grade": false,
     "grade_id": "cell-95093148b01792f2",
     "locked": false,
     "schema_version": 1,
     "solution": true
    }
   },
   "outputs": [],
   "source": [
    "def resposta():\n",
    "    return 3"
   ]
  },
  {
   "cell_type": "code",
   "execution_count": null,
   "metadata": {
    "deletable": false,
    "editable": false,
    "nbgrader": {
     "checksum": "56d7f4a0e0a31a327a5637e143b86201",
     "grade": true,
     "grade_id": "cell-994c03fe99dda082",
     "locked": true,
     "points": 1,
     "schema_version": 1,
     "solution": false
    }
   },
   "outputs": [],
   "source": []
  },
  {
   "cell_type": "markdown",
   "metadata": {
    "deletable": false,
    "editable": false,
    "nbgrader": {
     "checksum": "bc971ac42cf4c3ae4e462debb94da190",
     "grade": false,
     "grade_id": "cell1c-a00",
     "locked": true,
     "schema_version": 1,
     "solution": false
    }
   },
   "source": [
    "# Exercício 02:\n",
    "\n",
    "Agora vamos calcular intervalos de confiança utilizando bootstrap."
   ]
  },
  {
   "cell_type": "markdown",
   "metadata": {
    "deletable": false,
    "editable": false,
    "nbgrader": {
     "checksum": "beaaa56a6f9a06f145d3d30b8557bbb6",
     "grade": false,
     "grade_id": "cell-9cea31789e2a7321",
     "locked": true,
     "schema_version": 1,
     "solution": false
    }
   },
   "source": [
    "A) Para a coluna \"Maternal Age\", plote um histograma dos valores."
   ]
  },
  {
   "cell_type": "code",
   "execution_count": null,
   "metadata": {
    "deletable": false,
    "nbgrader": {
     "checksum": "97299f6e4d16183f2eb20e4c39dd9c26",
     "grade": true,
     "grade_id": "cell-0ca8eda30167507b",
     "locked": false,
     "points": 0,
     "schema_version": 1,
     "solution": true
    }
   },
   "outputs": [],
   "source": [
    "ma = df['Maternal Age'].hist()"
   ]
  },
  {
   "cell_type": "markdown",
   "metadata": {
    "deletable": false,
    "editable": false,
    "nbgrader": {
     "checksum": "f290480a86432f70e5d682a69deeeb14",
     "grade": false,
     "grade_id": "cell-f30c5f08ab799833",
     "locked": true,
     "schema_version": 1,
     "solution": false
    }
   },
   "source": [
    "B) Utilizando o mesmo atributo, execute um bootstrap com 5000 amostras e plote a distribuição das medianas."
   ]
  },
  {
   "cell_type": "code",
   "execution_count": null,
   "metadata": {
    "deletable": false,
    "nbgrader": {
     "checksum": "6085edecab1412f9b4fc800ebc0d7c0e",
     "grade": true,
     "grade_id": "cell-d0a2391bf51eef6f",
     "locked": false,
     "points": 0,
     "schema_version": 1,
     "solution": true
    }
   },
   "outputs": [],
   "source": [
    "novo = []\n",
    "for i in range (5000):\n",
    "    novo.append(df['Maternal Age'].sample( df.size, replace = True).median())\n",
    "plt.hist(novo, bins=10, edgecolor='k')\n",
    "plt.xlabel('Idade')\n",
    "plt.ylabel('Número de mães grávidas')"
   ]
  },
  {
   "cell_type": "markdown",
   "metadata": {
    "deletable": false,
    "editable": false,
    "nbgrader": {
     "checksum": "8dc7fa10c8ac1f73d052e27b35ab69b3",
     "grade": false,
     "grade_id": "cell-22f9a44c571a7b84",
     "locked": true,
     "schema_version": 1,
     "solution": false
    }
   },
   "source": [
    "# Exercício 03:\n",
    "\n",
    "Plote, em escala log-log, a distribuição dos dados no arquivo \"lista.csv\"."
   ]
  },
  {
   "cell_type": "code",
   "execution_count": null,
   "metadata": {
    "deletable": false,
    "editable": false,
    "nbgrader": {
     "checksum": "7fbb7b778af59a584c85046e7a790c6b",
     "grade": false,
     "grade_id": "cell-f409b4059af75355",
     "locked": true,
     "schema_version": 1,
     "solution": false
    }
   },
   "outputs": [],
   "source": [
    "dados = pd.read_csv('lista.csv')['valores']"
   ]
  },
  {
   "cell_type": "markdown",
   "metadata": {
    "deletable": false,
    "editable": false,
    "nbgrader": {
     "checksum": "0864290cc3afc72a9232b2d8f83d597f",
     "grade": false,
     "grade_id": "cell-7b6790a3083264a6",
     "locked": true,
     "schema_version": 1,
     "solution": false
    }
   },
   "source": [
    "A) Calcule a média, mediana, variância, e desvio padrão. Retorne em uma lista da seguinte forma:\n",
    "```python\n",
    "return [media,mediana,var,desvio]\n",
    "```"
   ]
  },
  {
   "cell_type": "code",
   "execution_count": null,
   "metadata": {
    "deletable": false,
    "nbgrader": {
     "checksum": "b6e43dfc05068e65a34296d96a0cce89",
     "grade": false,
     "grade_id": "cell-41b761a7be36a648",
     "locked": false,
     "schema_version": 1,
     "solution": true
    }
   },
   "outputs": [],
   "source": [
    "import math\n",
    "\n",
    "def ex3(dados):\n",
    "    media   = dados.mean()\n",
    "    mediana = dados.median()\n",
    "    var     = dados.var()\n",
    "    desvio  = dados.std()\n",
    "    return [media,mediana,var,desvio]\n",
    "\n",
    "ex3(dados)"
   ]
  },
  {
   "cell_type": "code",
   "execution_count": null,
   "metadata": {
    "deletable": false,
    "editable": false,
    "nbgrader": {
     "checksum": "997ec1b530146e0d6a4e9a33bd7a628f",
     "grade": true,
     "grade_id": "cell-46a72ffc2a1297c8",
     "locked": true,
     "points": 1,
     "schema_version": 1,
     "solution": false
    }
   },
   "outputs": [],
   "source": []
  },
  {
   "cell_type": "markdown",
   "metadata": {
    "deletable": false,
    "editable": false,
    "nbgrader": {
     "checksum": "2989acc3ab8ddd5b024acbf492e0fcc3",
     "grade": false,
     "grade_id": "cell-b9a21e139a71ea34",
     "locked": true,
     "schema_version": 1,
     "solution": false
    }
   },
   "source": [
    "B) Calcule o intervalo de confiança, com confiança de 95%. Retorne em uma lista da seguinte forma:\n",
    "```python\n",
    "return [inferior,superior]\n",
    "```"
   ]
  },
  {
   "cell_type": "code",
   "execution_count": null,
   "metadata": {
    "deletable": false,
    "nbgrader": {
     "checksum": "65f33760b1de5b08c196da4acef58d4d",
     "grade": false,
     "grade_id": "cell-4cb46adf61d39965",
     "locked": false,
     "schema_version": 1,
     "solution": true
    }
   },
   "outputs": [],
   "source": [
    "def ex3_IC(dados):\n",
    "    conf_95   = dados.sort_values()\n",
    "    inf_incof = int(conf_95.count() * 0.025)\n",
    "    sup_incof = conf_95.count() - inf_incof\n",
    "    inferior  = conf_95[conf_95.index[inf_incof]]\n",
    "    superior  = conf_95[conf_95.index[sup_incof]]\n",
    "    return [inferior,superior]\n",
    "ex3_IC(dados)"
   ]
  },
  {
   "cell_type": "code",
   "execution_count": null,
   "metadata": {
    "deletable": false,
    "editable": false,
    "nbgrader": {
     "checksum": "702ee179e6c971e83c401d2cf7994e61",
     "grade": true,
     "grade_id": "cell-332802801587122d",
     "locked": true,
     "points": 1,
     "schema_version": 1,
     "solution": false
    }
   },
   "outputs": [],
   "source": []
  },
  {
   "cell_type": "markdown",
   "metadata": {
    "deletable": false,
    "editable": false,
    "nbgrader": {
     "checksum": "69e3a27681033813e9753c523eadbbaa",
     "grade": false,
     "grade_id": "cell-f8dc5216dd1ab89c",
     "locked": true,
     "schema_version": 1,
     "solution": false
    }
   },
   "source": [
    "C) Plote a distribuição dos valores dos dados, em escala log-log. "
   ]
  },
  {
   "cell_type": "code",
   "execution_count": null,
   "metadata": {
    "deletable": false,
    "nbgrader": {
     "checksum": "dad2a5a414dce69b9ecc8d3aed060e7a",
     "grade": true,
     "grade_id": "cell-eebbb751cb630e2c",
     "locked": false,
     "points": 0,
     "schema_version": 1,
     "solution": true
    }
   },
   "outputs": [],
   "source": [
    "plt.hist(np.log10(dados), log=True, bins=10, edgecolor='k')\n",
    "plt.show()"
   ]
  },
  {
   "cell_type": "markdown",
   "metadata": {
    "deletable": false,
    "editable": false,
    "nbgrader": {
     "checksum": "933310fa7c4a43c3a9c8e97e25cc4978",
     "grade": false,
     "grade_id": "cell-51e2cc380f9bb741",
     "locked": true,
     "schema_version": 1,
     "solution": false
    }
   },
   "source": [
    "D) Tente explicar o por quê de os valores calculados ficaram tão elevados."
   ]
  },
  {
   "cell_type": "markdown",
   "metadata": {
    "deletable": false,
    "nbgrader": {
     "checksum": "2f570750f9a1cfd2debb2a6f30966aad",
     "grade": true,
     "grade_id": "cell-035e97a09d03ead0",
     "locked": false,
     "points": 0,
     "schema_version": 1,
     "solution": true
    }
   },
   "source": [
    "RESPOSTA1 - OFICIAL: o gráfico mostra a distribuicao dos elementos, como tiramos o loglog deles, eles ficaram menores e mais perto de 0, além disso, a grande maioria dos nossos dados, são elementos menores e próximos de 0.\n",
    "\n",
    "RESPOSTA2: Existem dados muito elevados porque existem outliers que interferem bastante em algumas medições dos dados. Quando fazemos dados.sort_values(), por exemplo, vemos que o menor valor é 0.000016 e o maior é 500243.804808, o que nos mostra a discrepância dos dados e explica o porque exitem dados desde 10⁻⁴ até 10⁶ no eixo y"
   ]
  },
  {
   "cell_type": "code",
   "execution_count": null,
   "metadata": {},
   "outputs": [],
   "source": []
  }
 ],
 "metadata": {
  "kernelspec": {
   "display_name": "Python 3",
   "language": "python",
   "name": "python3"
  },
  "language_info": {
   "codemirror_mode": {
    "name": "ipython",
    "version": 3
   },
   "file_extension": ".py",
   "mimetype": "text/x-python",
   "name": "python",
   "nbconvert_exporter": "python",
   "pygments_lexer": "ipython3",
   "version": "3.6.5"
  },
  "varInspector": {
   "cols": {
    "lenName": 16,
    "lenType": 16,
    "lenVar": 40
   },
   "kernels_config": {
    "python": {
     "delete_cmd_postfix": "",
     "delete_cmd_prefix": "del ",
     "library": "var_list.py",
     "varRefreshCmd": "print(var_dic_list())"
    },
    "r": {
     "delete_cmd_postfix": ") ",
     "delete_cmd_prefix": "rm(",
     "library": "var_list.r",
     "varRefreshCmd": "cat(var_dic_list()) "
    }
   },
   "types_to_exclude": [
    "module",
    "function",
    "builtin_function_or_method",
    "instance",
    "_Feature"
   ],
   "window_display": false
  }
 },
 "nbformat": 4,
 "nbformat_minor": 2
}
