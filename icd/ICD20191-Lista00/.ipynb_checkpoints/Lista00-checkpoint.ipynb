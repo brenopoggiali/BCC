{
 "cells": [
  {
   "cell_type": "markdown",
   "metadata": {
    "deletable": false,
    "editable": false,
    "nbgrader": {
     "checksum": "aba9362ebef107942b46a48be073a1d2",
     "grade": false,
     "grade_id": "cellc-a00",
     "locked": true,
     "schema_version": 1,
     "solution": false
    }
   },
   "source": [
    "# Lista 00 - Revisão Python e Numpy\n",
    "\n",
    "## Principalmente útil para quem não fez a versão nova de ALC!!!"
   ]
  },
  {
   "cell_type": "markdown",
   "metadata": {
    "deletable": false,
    "editable": false,
    "nbgrader": {
     "checksum": "e5ed2cbb0865fedfd38ef48f3a4fd69d",
     "grade": false,
     "grade_id": "cell1c-a00",
     "locked": true,
     "schema_version": 1,
     "solution": false
    }
   },
   "source": [
    "# Exercício 01:\n",
    "\n",
    "Crie uma função que, dado dois textos, retorne uma __lista__ (que pode ser vazia) em ordem lexicográfica com as palavras que ocorrem em ambos. A função não deve ser case sensitive, nesse caso, transforme todo o texto reescrevendo as palavras em letra minúscula. Para testar sua função, você pode utilizar os dois poemas abaixo, cuja saída esperada é: ['and', 'are', 'is', 'you'] \n",
    "\n",
    "_The rose is a rose,  \n",
    "And was always a rose.  \n",
    "But the theory now goes  \n",
    "That the apple’s a rose,  \n",
    "And the pear is, and so’s  \n",
    "The plum, I suppose.  \n",
    "The dear only knows  \n",
    "What will next prove a rose.  \n",
    "You, of course, are a rose –  \n",
    "But were always a rose._  \n",
    "\n",
    "_Roses are red,  \n",
    "Violets are blue,  \n",
    "sugar is sweet,  \n",
    "And so are you._  \n",
    "\n",
    "\n",
    "\n",
    "__Dicas:__  \n",
    "1. não se preocupe em remover a pontuação do texto.  \n",
    "1. a função sorted(lista) ordena em ordem crescente (ou lexicográfica) uma lista qualquer.  \n",
    "1. a função string.lower() tranforma todos os caracteres da string em letra minúscula.  \n",
    "1. use `re.sub(r'[^\\w]','',word.lower())` para tirar a pontuação de uma palavra: 'you.' -> 'you'\n",
    "\n",
    "__TADs__\n",
    "1. Python contém um tipo `set` que guarda elementos únicos.\n",
    "1. A função `sorted` ordena dados"
   ]
  },
  {
   "cell_type": "code",
   "execution_count": 31,
   "metadata": {
    "deletable": false,
    "nbgrader": {
     "checksum": "fc9314f86f1b79257a07e03a0b3bdb5e",
     "grade": false,
     "grade_id": "cell1-a00",
     "locked": false,
     "schema_version": 1,
     "solution": true
    }
   },
   "outputs": [],
   "source": [
    "#Exemplo:\n",
    "poem1 = \"\"\"The rose is a rose,\n",
    "And was always a rose.\n",
    "But the theory now goes\n",
    "That the apple’s a rose,\n",
    "And the pear is, and so’s\n",
    "The plum, I suppose.\n",
    "The dear only knows\n",
    "What will next prove a rose.\n",
    "You, of course, are a rose –\n",
    "But were always a rose.\"\"\"\n",
    "\n",
    "poem2 = \"\"\"Roses are red,\n",
    "Violets are blue,\n",
    "sugar is sweet,\n",
    "And so are you.\"\"\"\n",
    "\n",
    "import numpy as np\n",
    "import re\n",
    "\n",
    "def common_words(text1, text2):\n",
    "    text1 = text1.lower()\n",
    "    text1 = text1.split()\n",
    "    i = 0\n",
    "    for word in text1:\n",
    "        text1[i] = re.sub(r'[^\\w]', '', word)\n",
    "        i += 1\n",
    "    text1 = sorted(text1)\n",
    "    text2 = text2.lower()\n",
    "    text2 = text2[:-1]\n",
    "    text2 = text2.split()\n",
    "    i = 0\n",
    "    for word in text2:\n",
    "        text2[i] = re.sub(r'[^\\w]', '', word)\n",
    "        i += 1\n",
    "    text2 = sorted(text2)\n",
    "    return np.intersect1d(text1, text2)"
   ]
  },
  {
   "cell_type": "code",
   "execution_count": 32,
   "metadata": {
    "deletable": false,
    "editable": false,
    "nbgrader": {
     "checksum": "3412e5928e483d1be56c207127fe2a45",
     "grade": true,
     "grade_id": "cell1t1-a00",
     "locked": true,
     "points": 1,
     "schema_version": 1,
     "solution": false
    }
   },
   "outputs": [],
   "source": [
    "from numpy.testing import *\n",
    "\"\"\"Check that common_words returns the correct output for several inputs\"\"\"\n",
    "\n",
    "poem1 = \"\"\"The rose is a rose,\n",
    "And was always a rose.\n",
    "But the theory now goes\n",
    "That the apple’s a rose,\n",
    "And the pear is, and so’s\n",
    "The plum, I suppose.\n",
    "The dear only knows\n",
    "What will next prove a rose.\n",
    "You, of course, are a rose –\n",
    "But were always a rose.\"\"\"\n",
    "\n",
    "poem2 = \"\"\"Roses are red,\n",
    "Violets are blue,\n",
    "sugar is sweet,\n",
    "And so are you.\"\"\"\n",
    "\n",
    "assert_equal(common_words(poem1, poem2), ['and', 'are', 'is', 'you'])"
   ]
  },
  {
   "cell_type": "code",
   "execution_count": null,
   "metadata": {
    "deletable": false,
    "editable": false,
    "nbgrader": {
     "checksum": "4297cd4bcc9ae7a6c29c46f0aad69b7c",
     "grade": true,
     "grade_id": "cell1t2-a00",
     "locked": true,
     "points": 1,
     "schema_version": 1,
     "solution": false
    }
   },
   "outputs": [],
   "source": []
  },
  {
   "cell_type": "markdown",
   "metadata": {
    "deletable": false,
    "editable": false,
    "nbgrader": {
     "checksum": "251154c3e850c8cae2d2ee22af452640",
     "grade": false,
     "grade_id": "cell2c-a00",
     "locked": true,
     "schema_version": 1,
     "solution": false
    }
   },
   "source": [
    "# Exercício 02:\n",
    "\n",
    "Crie uma função que, dado uma lista de tuplas representando pares de palavras com sua respectiva traduação e uma frase, retorne a frase traduzida. As palavras que não possuem uma tradução devem ser impressas como aparecem na frase de entrada. Para testar sua função, você pode utilizar a entrada abaixo, cuja saída esperada é: o cara tossiu.\n",
    "\n",
    "Lista de tuplas: [(\"galaxy\", \"cara tossiu\"), (\"kagayaku\", \"canalha do\"), (\"atsuki\", \"alto que\"), (\"yuushi\", \"util\")]  \n",
    "Frase: \"o galaxy\"\n",
    "\n",
    "\n",
    "__Observação:__  \n",
    "Esse problema, conhecido como O Fantástico Jaspion! foi adaptado de https://br.spoj.com/problems/JASPION/.\n",
    "\n",
    "__TADs__\n",
    "1. Python contém um tipo `dict/{}` que é um mapa: `chave --> valor`.\n",
    "1. A função `sorted` ordena dados"
   ]
  },
  {
   "cell_type": "code",
   "execution_count": 33,
   "metadata": {
    "deletable": false,
    "nbgrader": {
     "checksum": "b31eaa4b7a92a849522714cb059b7c1c",
     "grade": false,
     "grade_id": "cell2-a00",
     "locked": false,
     "schema_version": 1,
     "solution": true
    }
   },
   "outputs": [],
   "source": [
    "#Exemplo:\n",
    "lista_de_tuplas = [(\"galaxy\", \"cara tossiu\"), (\"kagayaku\", \"canalha do\"), (\"atsuki\", \"alto que\"), (\"yuushi\", \"util\")]\n",
    "frase = \"o galaxy\"\n",
    "\n",
    "\n",
    "def jaspion(tuples_list, sentence):\n",
    "    frase = sentence.split()\n",
    "    traducao = {}\n",
    "    for group in tuples_list:\n",
    "        traducao[group[0]] = group[1]\n",
    "    translated = \"\"\n",
    "    for word in frase:\n",
    "        if word in traducao:\n",
    "            translated += traducao[word]\n",
    "        else:\n",
    "            translated += word\n",
    "        translated += \" \"\n",
    "    return translated[:-1]\n"
   ]
  },
  {
   "cell_type": "code",
   "execution_count": 34,
   "metadata": {
    "deletable": false,
    "editable": false,
    "nbgrader": {
     "checksum": "a59d60bf0572450a853e335844471d00",
     "grade": true,
     "grade_id": "cell2t1-a00",
     "locked": true,
     "points": 1,
     "schema_version": 1,
     "solution": false
    }
   },
   "outputs": [],
   "source": [
    "\"\"\"Check that jaspion returns the correct output for several inputs\"\"\"\n",
    "\n",
    "tl1 = [(\"galaxy\", \"cara tossiu\"), (\"kagayaku\", \"canalha do\"), (\"atsuki\", \"alto que\"), (\"yuushi\", \"util\")]\n",
    "s1 = \"o galaxy\"\n",
    "\n",
    "assert_equal(jaspion(tl1, s1), \"o cara tossiu\")"
   ]
  },
  {
   "cell_type": "code",
   "execution_count": null,
   "metadata": {
    "deletable": false,
    "editable": false,
    "nbgrader": {
     "checksum": "e442d470d44ac2197891cfae0bebb0e8",
     "grade": true,
     "grade_id": "cell2t2-a00",
     "locked": true,
     "points": 1,
     "schema_version": 1,
     "solution": false
    }
   },
   "outputs": [],
   "source": []
  },
  {
   "cell_type": "markdown",
   "metadata": {
    "deletable": false,
    "editable": false,
    "nbgrader": {
     "checksum": "7c22d543c55dac66f7c63c5b2b1f974f",
     "grade": false,
     "grade_id": "cell-f1b759af54c18ce6",
     "locked": true,
     "schema_version": 1,
     "solution": false
    }
   },
   "source": [
    "# Exercício 03:\n",
    "\n",
    "Crie uma função que, dado duas listas sendo uma com nomes e outras com números, retorne uma __lista__ com os nomes associados aos números ordenados em ordem decrescente. Caso mais de um nome esteja associado a um mesmo número, eles devem ser ordenados em ordem lexicográfica. Por exemplo, dado uma lista com o nome de alguns jogadores e outra lista com os salários desses jogadores, a lista com o nome dos jogadores deve ser ordenada de forma que os primeiros jogadores sejam aqueles que possuem os maiores salários. No exemplo dado, a saída esperada é: ['Messi', 'Cristiano Ronaldo', 'Neymar', 'Bale', 'Piqué', 'Kroos', 'Sergio Ramos', 'Ibrahimovic', 'Griezmann', 'Suarez', 'Iniesta', 'Lavezzi', 'Sanchez', 'Benzema', 'Muller', 'Cavani', 'Lewandowski', 'Oscar', 'Pogba', 'Neuer']\n",
    "\n",
    "\n",
    "__Dicas:__  \n",
    "não se esqueça de manter a relação existente entre o nome e o número, ou seja, o nome que ocupa a primeira posição da lista está associado ao número da primeira posição da outra lista. \n",
    "\n",
    "__Funções:__\n",
    "1. sorted(dados) ordena uma lista de valores.\n",
    "   Exemplo, `list(sorted([3, 2, 1]))` retorna `[1, 2, 3]`\n",
    "1. `zip(lista1, lista2)`, um join de duas listas.\n",
    "   Exemplo, `zip(['b', 'a'], [1, 2])` retorna `[('b', 1), ('a', 2)]`\n",
    "1. `list(sorted([('b', 1), ('a', 2)]))` --> `[('a', 2), ('b', 1)]`"
   ]
  },
  {
   "cell_type": "code",
   "execution_count": 35,
   "metadata": {
    "deletable": false,
    "nbgrader": {
     "checksum": "b5a1448333a4f442d5831c12b40beab5",
     "grade": false,
     "grade_id": "cell-0c77467a22e9621e",
     "locked": false,
     "schema_version": 1,
     "solution": true
    }
   },
   "outputs": [],
   "source": [
    "#Exemplo:\n",
    "player = [\"Neymar\", \"Piqué\", \"Benzema\", \"Neuer\", \"Iniesta\", \"Sergio Ramos\", \"Messi\", \"Oscar\", \"Griezmann\", \"Cavani\", \"Bale\", \"Pogba\", \"Cristiano Ronaldo\", \"Sanchez\", \"Kroos\", \"Lewandowski\", \"Lavezzi\", \"Ibrahimovic\", \"Muller\", \"Suarez\"]\n",
    "player_salary = [81.5, 29, 23.5, 20.8, 25.5, 27.5, 126, 22.2, 26, 22.5, 44, 22, 96, 23.55, 28.2, 22.2, 25.3, 26.8, 23, 26]\n",
    "\n",
    "\n",
    "def sort_lists(list1, list2):\n",
    "    lista = zip(list1, list2)\n",
    "    lista = sorted(lista, key=lambda x:(-x[1],x[0]))\n",
    "    resposta = {}\n",
    "    for group in lista:\n",
    "        resposta[group[0]] = group[1]\n",
    "    answer = []\n",
    "    for key in resposta:\n",
    "        answer += [key]\n",
    "    return answer"
   ]
  },
  {
   "cell_type": "code",
   "execution_count": 36,
   "metadata": {
    "deletable": false,
    "editable": false,
    "nbgrader": {
     "checksum": "7bb39f98cc1931d235b52c457254d7a8",
     "grade": true,
     "grade_id": "cell-82d1e69f4a30f889",
     "locked": true,
     "points": 1,
     "schema_version": 1,
     "solution": false
    }
   },
   "outputs": [],
   "source": [
    "\"\"\"Check that sort_lists returns the correct output for several inputs\"\"\"\n",
    "\n",
    "player = [\"Neymar\", \"Piqué\", \"Benzema\", \"Neuer\", \"Iniesta\", \"Sergio Ramos\", \"Messi\", \"Oscar\", \"Griezmann\", \"Cavani\", \"Bale\", \"Pogba\", \"Cristiano Ronaldo\", \"Sanchez\", \"Kroos\", \"Lewandowski\", \"Lavezzi\", \"Ibrahimovic\", \"Muller\", \"Suarez\"]\n",
    "player_salary = [81.5, 29, 23.5, 20.8, 25.5, 27.5, 126, 22.2, 26, 22.5, 44, 22, 96, 23.55, 28.2, 22.2, 25.3, 26.8, 23, 26]\n",
    "\n",
    "assert_equal(sort_lists(player, player_salary), ['Messi', 'Cristiano Ronaldo', 'Neymar', 'Bale', 'Piqué', 'Kroos', 'Sergio Ramos', 'Ibrahimovic', 'Griezmann', 'Suarez', 'Iniesta', 'Lavezzi', 'Sanchez', 'Benzema', 'Muller', 'Cavani', 'Lewandowski', 'Oscar', 'Pogba', 'Neuer'])"
   ]
  },
  {
   "cell_type": "code",
   "execution_count": null,
   "metadata": {
    "deletable": false,
    "editable": false,
    "nbgrader": {
     "checksum": "15676778b508eac45795485f299e7443",
     "grade": true,
     "grade_id": "cell-df6952de2c0dcfc3",
     "locked": true,
     "points": 1,
     "schema_version": 1,
     "solution": false
    }
   },
   "outputs": [],
   "source": []
  },
  {
   "cell_type": "markdown",
   "metadata": {
    "deletable": false,
    "editable": false,
    "nbgrader": {
     "checksum": "4d403fb9b3c6e8410faee0afad39a1b2",
     "grade": false,
     "grade_id": "cell-3dc563b8935b8021",
     "locked": true,
     "schema_version": 1,
     "solution": false
    }
   },
   "source": [
    "# Exercício 04:\n",
    "\n",
    "Vamos aprender um pouco de numpy. Caso necessite, leia a documentação em http://numpy.org. Inicialmente, crie uma função que recebe duas listas de numéros, converte as duas para um vetor numpy usando `np.array` e retorna o produto interno das duas listas. \n",
    "\n",
    "\n",
    "__Dicas:__  \n",
    "1. Tente fazer um código sem nenhum **for**! Ou seja, numpy permite operações em vetores e matrizes, onde: `np.array([1, 2]) + np.array([2, 2]) = np.array([3, 4])`.\n",
    "\n",
    "__Funções:__\n",
    "1. `np.sum(array)` soma os elementos do array."
   ]
  },
  {
   "cell_type": "code",
   "execution_count": 37,
   "metadata": {
    "deletable": false,
    "nbgrader": {
     "checksum": "44eb426e8f85a11a86e87863f9dbad0c",
     "grade": false,
     "grade_id": "cell-81d5bf780d85f0e1",
     "locked": false,
     "schema_version": 1,
     "solution": true
    }
   },
   "outputs": [],
   "source": [
    "import numpy as np\n",
    "\n",
    "#Exemplo:\n",
    "x1 = [2, 4, 8]\n",
    "x2 = [10, 100, 1000]\n",
    "\n",
    "\n",
    "def inner(x1, x2):\n",
    "    x1 = np.array(x1)\n",
    "    x2 = np.array(x2)\n",
    "    prod =  x1 * x2\n",
    "    soma = np.ma.sum(prod)\n",
    "    return soma"
   ]
  },
  {
   "cell_type": "code",
   "execution_count": 38,
   "metadata": {
    "deletable": false,
    "editable": false,
    "nbgrader": {
     "checksum": "c142b2212f416fd45b155b3cc8698368",
     "grade": true,
     "grade_id": "cell-fa0332fa64ee56dc",
     "locked": true,
     "points": 1,
     "schema_version": 1,
     "solution": false
    }
   },
   "outputs": [],
   "source": [
    "x1 = [2, 4, 8]\n",
    "x2 = [10, 100, 1000]\n",
    "assert_equal(20 + 400 + 8000, inner(x1, x2))"
   ]
  },
  {
   "cell_type": "code",
   "execution_count": null,
   "metadata": {
    "deletable": false,
    "editable": false,
    "nbgrader": {
     "checksum": "554abbd1b0f60cca66e117f962da04b1",
     "grade": true,
     "grade_id": "cell-45249f4339f07aa8",
     "locked": true,
     "points": 1,
     "schema_version": 1,
     "solution": false
    }
   },
   "outputs": [],
   "source": []
  },
  {
   "cell_type": "markdown",
   "metadata": {
    "deletable": false,
    "editable": false,
    "nbgrader": {
     "checksum": "a4217af4ac3bfe3bf3c63107bb600ecd",
     "grade": false,
     "grade_id": "cell-eba66e5ff4db20f9",
     "locked": true,
     "schema_version": 1,
     "solution": false
    }
   },
   "source": [
    "# Exercício 05:\n",
    "\n",
    "Por fim, implemente uma função utilizando numpy que recebe duas matrizes, multiplica as duas e retorne o valor médio das células da multiplicação. Por exemplo, ao multiplicar:\n",
    "\n",
    "```\n",
    "[1 2]\n",
    "[3 4] \n",
    "\n",
    "com \n",
    "\n",
    "[2 1]\n",
    "[1 2]\n",
    "\n",
    "temos\n",
    "\n",
    "[4  5 ]\n",
    "[10 11]\n",
    "\n",
    "onde a média de [4, 5, 10, 11] é\n",
    "\n",
    "7.5, sua resposta final!\n",
    "```\n",
    "\n",
    "\n",
    "__Dicas:__  \n",
    "1. Use o operador @ para multiplicar matrizes!"
   ]
  },
  {
   "cell_type": "code",
   "execution_count": 39,
   "metadata": {
    "deletable": false,
    "nbgrader": {
     "checksum": "ddf94e98d9aa191c98431398d2d25622",
     "grade": false,
     "grade_id": "cell-284de1851443c7cf",
     "locked": false,
     "schema_version": 1,
     "solution": true
    }
   },
   "outputs": [],
   "source": [
    "def medmult(X, Y):\n",
    "    XY = X @ Y\n",
    "    resposta = np.average(XY)\n",
    "    return resposta"
   ]
  },
  {
   "cell_type": "code",
   "execution_count": 40,
   "metadata": {
    "deletable": false,
    "editable": false,
    "nbgrader": {
     "checksum": "34dd79f462191efd0e203536abfa1dc9",
     "grade": true,
     "grade_id": "cell-b91c763e84aeda96",
     "locked": true,
     "points": 1,
     "schema_version": 1,
     "solution": false
    }
   },
   "outputs": [],
   "source": [
    "X = np.array([1, 2, 3, 4]).reshape(2, 2)\n",
    "Y = np.array([2, 1, 1, 2]).reshape(2, 2)\n",
    "assert_equal(7.5, medmult(X, Y))"
   ]
  },
  {
   "cell_type": "code",
   "execution_count": null,
   "metadata": {
    "deletable": false,
    "editable": false,
    "nbgrader": {
     "checksum": "17403cc888d2f6ad5dac0d32e84044f3",
     "grade": true,
     "grade_id": "cell-16fd7395e0e257d4",
     "locked": true,
     "points": 1,
     "schema_version": 1,
     "solution": false
    }
   },
   "outputs": [],
   "source": []
  }
 ],
 "metadata": {
  "kernelspec": {
   "display_name": "Python 3",
   "language": "python",
   "name": "python3"
  },
  "language_info": {
   "codemirror_mode": {
    "name": "ipython",
    "version": 3
   },
   "file_extension": ".py",
   "mimetype": "text/x-python",
   "name": "python",
   "nbconvert_exporter": "python",
   "pygments_lexer": "ipython3",
   "version": "3.6.5"
  }
 },
 "nbformat": 4,
 "nbformat_minor": 2
}
